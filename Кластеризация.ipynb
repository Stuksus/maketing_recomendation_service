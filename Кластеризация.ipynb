{
 "cells": [
  {
   "cell_type": "code",
   "execution_count": 51,
   "metadata": {
    "id": "9LchcRtkyzC8"
   },
   "outputs": [],
   "source": [
    "# загружаем библиотеки \n",
    "import pandas as pd\n",
    "import numpy as np\n",
    "df = pd.read_csv(r'C:\\Moscow City Hack\\data.csv')"
   ]
  },
  {
   "cell_type": "markdown",
   "metadata": {
    "id": "kYdDh-Fr1FKY"
   },
   "source": [
    "Для начала мы хотим понять, с чем мы работаем. "
   ]
  },
  {
   "cell_type": "markdown",
   "metadata": {
    "id": "avJ2_mG05sdY"
   },
   "source": [
    "Описание полей: \n",
    "1. Client_id - идентификатор клиента \n",
    "2. Gender - пол \n",
    "3. Birth_date - дата рождения клиента \n",
    "4. Create_dt - дата создания счета/дата создания заявки \n",
    "5. nonresident_flag - флаг резидента \n",
    "6. businessman_flag - флаг бизнесмена \n",
    "7. city - город \n",
    "8. term - соглашение об основных условиях сделки \n",
    "9. contract_sum - сумма контракта\n",
    "10. product_category_name - тип продукта (два значения - договор на дк и кк)\n",
    "11. card_id - идентификатор карты \n",
    "12. card_type_name - тип карты \n",
    "13. start_date\n",
    "14. fact_close_date - дата закрытия счет/карты/продукта\n",
    "15. purchase_sum \n",
    "16. purchase_count\n",
    "17. current_balance_avg_sum\n",
    "18. current_balance_sum\n",
    "19. current_debit_turn_sum\n",
    "20. current_credit_turn_sum\n",
    "21. card_type"
   ]
  },
  {
   "cell_type": "markdown",
   "metadata": {
    "id": "Pyza4T0mgmAG"
   },
   "source": [
    "Бинарные категориальные  признаки: \n",
    "1. Gender \n",
    "2. Nonresident_flg \n",
    "3. Businessman_flag \n",
    "\n",
    "\n",
    "Категориальные небинарные: \n",
    "1. City \n",
    "2. product_category_name\n",
    "3. card_type\n",
    "4. card_type_name\n"
   ]
  },
  {
   "cell_type": "code",
   "execution_count": 52,
   "metadata": {
    "id": "4aUMJNyLWyRj"
   },
   "outputs": [],
   "source": [
    "df.drop_duplicates(inplace = True)"
   ]
  },
  {
   "cell_type": "code",
   "execution_count": 53,
   "metadata": {
    "colab": {
     "base_uri": "https://localhost:8080/"
    },
    "id": "EVrUq_vXbJyp",
    "outputId": "ce274d9f-ad3b-4f95-e577-6617347b3207"
   },
   "outputs": [
    {
     "data": {
      "text/plain": [
       "(240397, 21)"
      ]
     },
     "execution_count": 53,
     "metadata": {},
     "output_type": "execute_result"
    }
   ],
   "source": [
    "df.shape"
   ]
  },
  {
   "cell_type": "code",
   "execution_count": 54,
   "metadata": {
    "colab": {
     "base_uri": "https://localhost:8080/",
     "height": 192
    },
    "id": "PLm7XpVH0gPy",
    "outputId": "18122a37-f1b7-464d-cf11-a891c6eeeb3d"
   },
   "outputs": [
    {
     "name": "stdout",
     "output_type": "stream",
     "text": [
      "Количество пропущенных значений после обработки пропусков в таблице:\n"
     ]
    },
    {
     "data": {
      "text/html": [
       "<div>\n",
       "<style scoped>\n",
       "    .dataframe tbody tr th:only-of-type {\n",
       "        vertical-align: middle;\n",
       "    }\n",
       "\n",
       "    .dataframe tbody tr th {\n",
       "        vertical-align: top;\n",
       "    }\n",
       "\n",
       "    .dataframe thead th {\n",
       "        text-align: right;\n",
       "    }\n",
       "</style>\n",
       "<table border=\"1\" class=\"dataframe\">\n",
       "  <thead>\n",
       "    <tr style=\"text-align: right;\">\n",
       "      <th></th>\n",
       "      <th>term</th>\n",
       "      <th>fact_close_date</th>\n",
       "      <th>start_date</th>\n",
       "      <th>card_type_name</th>\n",
       "      <th>city</th>\n",
       "      <th>client_id</th>\n",
       "      <th>current_credit_turn_sum</th>\n",
       "      <th>current_debit_turn_sum</th>\n",
       "      <th>current_balance_sum</th>\n",
       "      <th>current_balance_avg_sum</th>\n",
       "      <th>...</th>\n",
       "      <th>purchase_sum</th>\n",
       "      <th>card_id</th>\n",
       "      <th>gender</th>\n",
       "      <th>product_category_name</th>\n",
       "      <th>contract_sum</th>\n",
       "      <th>businessman_flag</th>\n",
       "      <th>nonresident_flag</th>\n",
       "      <th>create_date</th>\n",
       "      <th>birth_date</th>\n",
       "      <th>card_type</th>\n",
       "    </tr>\n",
       "  </thead>\n",
       "  <tbody>\n",
       "    <tr>\n",
       "      <th>0</th>\n",
       "      <td>240397</td>\n",
       "      <td>162551</td>\n",
       "      <td>21322</td>\n",
       "      <td>21322</td>\n",
       "      <td>751</td>\n",
       "      <td>0</td>\n",
       "      <td>0</td>\n",
       "      <td>0</td>\n",
       "      <td>0</td>\n",
       "      <td>0</td>\n",
       "      <td>...</td>\n",
       "      <td>0</td>\n",
       "      <td>0</td>\n",
       "      <td>0</td>\n",
       "      <td>0</td>\n",
       "      <td>0</td>\n",
       "      <td>0</td>\n",
       "      <td>0</td>\n",
       "      <td>0</td>\n",
       "      <td>0</td>\n",
       "      <td>0</td>\n",
       "    </tr>\n",
       "  </tbody>\n",
       "</table>\n",
       "<p>1 rows × 21 columns</p>\n",
       "</div>"
      ],
      "text/plain": [
       "     term  fact_close_date  start_date  card_type_name  city  client_id  \\\n",
       "0  240397           162551       21322           21322   751          0   \n",
       "\n",
       "   current_credit_turn_sum  current_debit_turn_sum  current_balance_sum  \\\n",
       "0                        0                       0                    0   \n",
       "\n",
       "   current_balance_avg_sum  ...  purchase_sum  card_id  gender  \\\n",
       "0                        0  ...             0        0       0   \n",
       "\n",
       "   product_category_name  contract_sum  businessman_flag  nonresident_flag  \\\n",
       "0                      0             0                 0                 0   \n",
       "\n",
       "   create_date  birth_date  card_type  \n",
       "0            0           0          0  \n",
       "\n",
       "[1 rows x 21 columns]"
      ]
     },
     "execution_count": 54,
     "metadata": {},
     "output_type": "execute_result"
    }
   ],
   "source": [
    "print(\"Количество пропущенных значений после обработки пропусков в таблице:\")\n",
    "df.isna().sum().to_frame().sort_values(0, ascending = False).T"
   ]
  },
  {
   "cell_type": "code",
   "execution_count": 55,
   "metadata": {
    "id": "JJzhxfcybMFj"
   },
   "outputs": [],
   "source": [
    "del df['term']\n",
    "del df['card_id']\n",
    "del df['client_id']"
   ]
  },
  {
   "cell_type": "code",
   "execution_count": 56,
   "metadata": {
    "colab": {
     "base_uri": "https://localhost:8080/"
    },
    "id": "Kyx16d2G2JIs",
    "outputId": "4e32bca0-3936-4021-b811-1a2a77be7bf4"
   },
   "outputs": [
    {
     "data": {
      "text/plain": [
       "R    235445\n",
       "N      4952\n",
       "Name: nonresident_flag, dtype: int64"
      ]
     },
     "execution_count": 56,
     "metadata": {},
     "output_type": "execute_result"
    }
   ],
   "source": [
    "df['nonresident_flag'].value_counts()"
   ]
  },
  {
   "cell_type": "code",
   "execution_count": 57,
   "metadata": {
    "colab": {
     "base_uri": "https://localhost:8080/"
    },
    "id": "3t2iIDpHpSyA",
    "outputId": "067fa636-4779-4a1c-9555-69994200b057"
   },
   "outputs": [
    {
     "data": {
      "text/plain": [
       "Договор на текущий счет для дебетовой карты    225522\n",
       "Кредитная карта                                 14875\n",
       "Name: product_category_name, dtype: int64"
      ]
     },
     "execution_count": 57,
     "metadata": {},
     "output_type": "execute_result"
    }
   ],
   "source": [
    "df['product_category_name'].value_counts()"
   ]
  },
  {
   "cell_type": "code",
   "execution_count": 58,
   "metadata": {
    "colab": {
     "base_uri": "https://localhost:8080/",
     "height": 473
    },
    "id": "mZDOqgnfbhkN",
    "outputId": "50f155f1-44cd-4159-bae3-4e1ba14102f4"
   },
   "outputs": [
    {
     "data": {
      "text/html": [
       "<div>\n",
       "<style scoped>\n",
       "    .dataframe tbody tr th:only-of-type {\n",
       "        vertical-align: middle;\n",
       "    }\n",
       "\n",
       "    .dataframe tbody tr th {\n",
       "        vertical-align: top;\n",
       "    }\n",
       "\n",
       "    .dataframe thead th {\n",
       "        text-align: right;\n",
       "    }\n",
       "</style>\n",
       "<table border=\"1\" class=\"dataframe\">\n",
       "  <thead>\n",
       "    <tr style=\"text-align: right;\">\n",
       "      <th></th>\n",
       "      <th>gender</th>\n",
       "      <th>birth_date</th>\n",
       "      <th>create_date</th>\n",
       "      <th>nonresident_flag</th>\n",
       "      <th>businessman_flag</th>\n",
       "      <th>contract_sum</th>\n",
       "      <th>product_category_name</th>\n",
       "      <th>start_date</th>\n",
       "      <th>fact_close_date</th>\n",
       "      <th>purchase_sum</th>\n",
       "      <th>...</th>\n",
       "      <th>city_Химки</th>\n",
       "      <th>city_Челябинск</th>\n",
       "      <th>city_Череповец</th>\n",
       "      <th>city_Чишмы</th>\n",
       "      <th>city_Чусовой</th>\n",
       "      <th>city_Юрга</th>\n",
       "      <th>city_Языково</th>\n",
       "      <th>city_Янаул</th>\n",
       "      <th>city_Янгантау</th>\n",
       "      <th>city_Ярославль</th>\n",
       "    </tr>\n",
       "  </thead>\n",
       "  <tbody>\n",
       "    <tr>\n",
       "      <th>0</th>\n",
       "      <td>Ж</td>\n",
       "      <td>1985</td>\n",
       "      <td>2020-01-29</td>\n",
       "      <td>R</td>\n",
       "      <td>0</td>\n",
       "      <td>0.0</td>\n",
       "      <td>Договор на текущий счет для дебетовой карты</td>\n",
       "      <td>2019.0</td>\n",
       "      <td>2021.0</td>\n",
       "      <td>16600.0</td>\n",
       "      <td>...</td>\n",
       "      <td>0</td>\n",
       "      <td>0</td>\n",
       "      <td>0</td>\n",
       "      <td>0</td>\n",
       "      <td>0</td>\n",
       "      <td>0</td>\n",
       "      <td>0</td>\n",
       "      <td>0</td>\n",
       "      <td>0</td>\n",
       "      <td>0</td>\n",
       "    </tr>\n",
       "    <tr>\n",
       "      <th>1</th>\n",
       "      <td>М</td>\n",
       "      <td>1951</td>\n",
       "      <td>2009-09-24</td>\n",
       "      <td>R</td>\n",
       "      <td>0</td>\n",
       "      <td>0.0</td>\n",
       "      <td>Договор на текущий счет для дебетовой карты</td>\n",
       "      <td>2019.0</td>\n",
       "      <td>NaN</td>\n",
       "      <td>0.0</td>\n",
       "      <td>...</td>\n",
       "      <td>0</td>\n",
       "      <td>0</td>\n",
       "      <td>0</td>\n",
       "      <td>0</td>\n",
       "      <td>0</td>\n",
       "      <td>0</td>\n",
       "      <td>0</td>\n",
       "      <td>0</td>\n",
       "      <td>0</td>\n",
       "      <td>0</td>\n",
       "    </tr>\n",
       "    <tr>\n",
       "      <th>2</th>\n",
       "      <td>Ж</td>\n",
       "      <td>1982</td>\n",
       "      <td>2006-12-25</td>\n",
       "      <td>R</td>\n",
       "      <td>0</td>\n",
       "      <td>0.0</td>\n",
       "      <td>Договор на текущий счет для дебетовой карты</td>\n",
       "      <td>NaN</td>\n",
       "      <td>NaN</td>\n",
       "      <td>0.0</td>\n",
       "      <td>...</td>\n",
       "      <td>0</td>\n",
       "      <td>0</td>\n",
       "      <td>0</td>\n",
       "      <td>0</td>\n",
       "      <td>0</td>\n",
       "      <td>1</td>\n",
       "      <td>0</td>\n",
       "      <td>0</td>\n",
       "      <td>0</td>\n",
       "      <td>0</td>\n",
       "    </tr>\n",
       "    <tr>\n",
       "      <th>3</th>\n",
       "      <td>М</td>\n",
       "      <td>1955</td>\n",
       "      <td>2011-04-15</td>\n",
       "      <td>R</td>\n",
       "      <td>0</td>\n",
       "      <td>0.0</td>\n",
       "      <td>Договор на текущий счет для дебетовой карты</td>\n",
       "      <td>2021.0</td>\n",
       "      <td>NaN</td>\n",
       "      <td>24300.0</td>\n",
       "      <td>...</td>\n",
       "      <td>0</td>\n",
       "      <td>0</td>\n",
       "      <td>0</td>\n",
       "      <td>0</td>\n",
       "      <td>0</td>\n",
       "      <td>0</td>\n",
       "      <td>0</td>\n",
       "      <td>0</td>\n",
       "      <td>0</td>\n",
       "      <td>0</td>\n",
       "    </tr>\n",
       "    <tr>\n",
       "      <th>4</th>\n",
       "      <td>М</td>\n",
       "      <td>1955</td>\n",
       "      <td>2011-04-15</td>\n",
       "      <td>R</td>\n",
       "      <td>0</td>\n",
       "      <td>0.0</td>\n",
       "      <td>Договор на текущий счет для дебетовой карты</td>\n",
       "      <td>2018.0</td>\n",
       "      <td>2022.0</td>\n",
       "      <td>24300.0</td>\n",
       "      <td>...</td>\n",
       "      <td>0</td>\n",
       "      <td>0</td>\n",
       "      <td>0</td>\n",
       "      <td>0</td>\n",
       "      <td>0</td>\n",
       "      <td>0</td>\n",
       "      <td>0</td>\n",
       "      <td>0</td>\n",
       "      <td>0</td>\n",
       "      <td>0</td>\n",
       "    </tr>\n",
       "  </tbody>\n",
       "</table>\n",
       "<p>5 rows × 193 columns</p>\n",
       "</div>"
      ],
      "text/plain": [
       "  gender  birth_date create_date nonresident_flag  businessman_flag  \\\n",
       "0      Ж        1985  2020-01-29                R                 0   \n",
       "1      М        1951  2009-09-24                R                 0   \n",
       "2      Ж        1982  2006-12-25                R                 0   \n",
       "3      М        1955  2011-04-15                R                 0   \n",
       "4      М        1955  2011-04-15                R                 0   \n",
       "\n",
       "   contract_sum                        product_category_name  start_date  \\\n",
       "0           0.0  Договор на текущий счет для дебетовой карты      2019.0   \n",
       "1           0.0  Договор на текущий счет для дебетовой карты      2019.0   \n",
       "2           0.0  Договор на текущий счет для дебетовой карты         NaN   \n",
       "3           0.0  Договор на текущий счет для дебетовой карты      2021.0   \n",
       "4           0.0  Договор на текущий счет для дебетовой карты      2018.0   \n",
       "\n",
       "   fact_close_date  purchase_sum  ...  city_Химки  city_Челябинск  \\\n",
       "0           2021.0       16600.0  ...           0               0   \n",
       "1              NaN           0.0  ...           0               0   \n",
       "2              NaN           0.0  ...           0               0   \n",
       "3              NaN       24300.0  ...           0               0   \n",
       "4           2022.0       24300.0  ...           0               0   \n",
       "\n",
       "   city_Череповец  city_Чишмы  city_Чусовой city_Юрга  city_Языково  \\\n",
       "0               0           0             0         0             0   \n",
       "1               0           0             0         0             0   \n",
       "2               0           0             0         1             0   \n",
       "3               0           0             0         0             0   \n",
       "4               0           0             0         0             0   \n",
       "\n",
       "   city_Янаул  city_Янгантау  city_Ярославль  \n",
       "0           0              0               0  \n",
       "1           0              0               0  \n",
       "2           0              0               0  \n",
       "3           0              0               0  \n",
       "4           0              0               0  \n",
       "\n",
       "[5 rows x 193 columns]"
      ]
     },
     "execution_count": 58,
     "metadata": {},
     "output_type": "execute_result"
    }
   ],
   "source": [
    "# преобразование небинарных признаков\n",
    "one_hot_df = pd.get_dummies(df, \n",
    "                            columns=['card_type_name', 'city'], \n",
    "                            drop_first=False)\n",
    "one_hot_df.head()"
   ]
  },
  {
   "cell_type": "markdown",
   "metadata": {
    "id": "vop3JhnBu3Is"
   },
   "source": []
  },
  {
   "cell_type": "code",
   "execution_count": 59,
   "metadata": {
    "colab": {
     "base_uri": "https://localhost:8080/"
    },
    "id": "14HZuKNnre1i",
    "outputId": "6cd39bdf-d734-43ca-8e38-0a117e8bd96a"
   },
   "outputs": [
    {
     "data": {
      "text/plain": [
       "(240397, 193)"
      ]
     },
     "execution_count": 59,
     "metadata": {},
     "output_type": "execute_result"
    }
   ],
   "source": [
    "one_hot_df.shape"
   ]
  },
  {
   "cell_type": "code",
   "execution_count": 60,
   "metadata": {
    "id": "3Ha61eZbbpaC"
   },
   "outputs": [],
   "source": [
    "\n",
    "from datetime import datetime, date\n",
    "today = date.today()\n",
    "one_hot_df['Year'] = pd.to_datetime(one_hot_df['birth_date'], format='%Y')\n",
    "one_hot_df['year'] = pd. DatetimeIndex(one_hot_df['Year']).year\n",
    "one_hot_df['age'] = today.year - one_hot_df['year']\n",
    "del one_hot_df['Year']\n",
    "del one_hot_df['year']\n",
    "del one_hot_df['birth_date']"
   ]
  },
  {
   "cell_type": "code",
   "execution_count": 61,
   "metadata": {
    "id": "yRJCS0D-fNuG"
   },
   "outputs": [],
   "source": [
    "one_hot_df['life_account'] = one_hot_df['fact_close_date'] - one_hot_df['start_date']\n",
    "one_hot_df.loc[one_hot_df[\"gender\"] == \"М\",\"gender\"] = 1\n",
    "one_hot_df.loc[one_hot_df[\"gender\"] == \"Ж\",\"gender\"] = 0\n",
    "one_hot_df.loc[one_hot_df[\"nonresident_flag\"] == \"R\",\"nonresident_flag\"] = 0\n",
    "one_hot_df.loc[one_hot_df[\"nonresident_flag\"] == \"N\",\"nonresident_flag\"] = 1\n",
    "\n",
    "one_hot_df.loc[one_hot_df['card_type'] == \"dc\",\"card_type\"] = 1\n",
    "one_hot_df.loc[one_hot_df['card_type'] == \"cc\",\"card_type\"] = 0\n",
    "\n",
    "\n",
    "one_hot_df.loc[one_hot_df['product_category_name'] == \"Кредитная карта\",\"product_category_name\"] = 1\n",
    "one_hot_df.loc[one_hot_df['product_category_name'] == \"Договор на текущий счет для дебетовой карты\",'product_category_name'] = 0\n",
    "\n",
    "one_hot_df[['start_date', 'fact_close_date']] = np.where(one_hot_df[['start_date', 'fact_close_date']].isnull(), 0, 1)"
   ]
  },
  {
   "cell_type": "code",
   "execution_count": 62,
   "metadata": {
    "id": "PtTSGPptezaU"
   },
   "outputs": [],
   "source": [
    "one_hot_df['year'] = pd. DatetimeIndex(one_hot_df['create_date']).year"
   ]
  },
  {
   "cell_type": "code",
   "execution_count": 63,
   "metadata": {
    "id": "f4F70UwalHtX"
   },
   "outputs": [],
   "source": [
    "del one_hot_df['create_date']"
   ]
  },
  {
   "cell_type": "code",
   "execution_count": 64,
   "metadata": {
    "id": "SWFWedVWlCt0"
   },
   "outputs": [],
   "source": [
    "one_hot_df.fillna(0, inplace=True)"
   ]
  },
  {
   "cell_type": "markdown",
   "metadata": {
    "id": "a7aYlq9QER4F"
   },
   "source": [
    "Бинарные категориальные признаки: \n"
   ]
  },
  {
   "cell_type": "markdown",
   "metadata": {
    "id": "8Mafz1gxmL1g"
   },
   "source": [
    "## Кластеризация "
   ]
  },
  {
   "cell_type": "code",
   "execution_count": 65,
   "metadata": {
    "colab": {
     "base_uri": "https://localhost:8080/"
    },
    "id": "1Y-mJegbmNwD",
    "outputId": "f3ad045f-6c47-49cf-8fa2-77bfb86210a6"
   },
   "outputs": [
    {
     "data": {
      "text/plain": [
       "KMeans(max_iter=400, random_state=42)"
      ]
     },
     "execution_count": 65,
     "metadata": {},
     "output_type": "execute_result"
    }
   ],
   "source": [
    "from sklearn.cluster import KMeans\n",
    "kmeans_model = KMeans(init='k-means++',  max_iter=400, random_state=42)\n",
    "kmeans_model.fit(one_hot_df)"
   ]
  },
  {
   "cell_type": "code",
   "execution_count": 66,
   "metadata": {
    "id": "DP7KPBiVmWhR"
   },
   "outputs": [],
   "source": [
    "def try_different_clusters(K, data):\n",
    "       \n",
    "    cluster_values = list(range(1, K+1))\n",
    "    inertias=[]\n",
    "    \n",
    "    for c in cluster_values:\n",
    "        model = KMeans(n_clusters = c,init='k-means++',max_iter=400,random_state=42)\n",
    "        model.fit(data)\n",
    "        inertias.append(model.inertia_)\n",
    "    \n",
    "    return inertias"
   ]
  },
  {
   "cell_type": "code",
   "execution_count": 67,
   "metadata": {
    "id": "o56-LgEfmY5n"
   },
   "outputs": [],
   "source": [
    "outputs = try_different_clusters(7, one_hot_df)\n",
    "distances = pd.DataFrame({\"clusters\": list(range(1, 8)),\"sum of squared distances\": outputs})"
   ]
  },
  {
   "cell_type": "code",
   "execution_count": 68,
   "metadata": {
    "colab": {
     "base_uri": "https://localhost:8080/",
     "height": 542
    },
    "id": "UWzMWWKFmZO3",
    "outputId": "144da98d-1110-483e-9a1f-ff253eccb624"
   },
   "outputs": [
    {
     "data": {
      "application/vnd.plotly.v1+json": {
       "config": {
        "plotlyServerURL": "https://plot.ly"
       },
       "data": [
        {
         "type": "scatter",
         "x": [
          1,
          2,
          3,
          4,
          5,
          6,
          7
         ],
         "y": [
          82420722424375460,
          60490910565201820,
          45915539978312430,
          33907600556388250,
          27644726694763960,
          23283901332297160,
          20759052014272396
         ]
        }
       ],
       "layout": {
        "autosize": true,
        "template": {
         "data": {
          "bar": [
           {
            "error_x": {
             "color": "#2a3f5f"
            },
            "error_y": {
             "color": "#2a3f5f"
            },
            "marker": {
             "line": {
              "color": "#E5ECF6",
              "width": 0.5
             },
             "pattern": {
              "fillmode": "overlay",
              "size": 10,
              "solidity": 0.2
             }
            },
            "type": "bar"
           }
          ],
          "barpolar": [
           {
            "marker": {
             "line": {
              "color": "#E5ECF6",
              "width": 0.5
             },
             "pattern": {
              "fillmode": "overlay",
              "size": 10,
              "solidity": 0.2
             }
            },
            "type": "barpolar"
           }
          ],
          "carpet": [
           {
            "aaxis": {
             "endlinecolor": "#2a3f5f",
             "gridcolor": "white",
             "linecolor": "white",
             "minorgridcolor": "white",
             "startlinecolor": "#2a3f5f"
            },
            "baxis": {
             "endlinecolor": "#2a3f5f",
             "gridcolor": "white",
             "linecolor": "white",
             "minorgridcolor": "white",
             "startlinecolor": "#2a3f5f"
            },
            "type": "carpet"
           }
          ],
          "choropleth": [
           {
            "colorbar": {
             "outlinewidth": 0,
             "ticks": ""
            },
            "type": "choropleth"
           }
          ],
          "contour": [
           {
            "colorbar": {
             "outlinewidth": 0,
             "ticks": ""
            },
            "colorscale": [
             [
              0,
              "#0d0887"
             ],
             [
              0.1111111111111111,
              "#46039f"
             ],
             [
              0.2222222222222222,
              "#7201a8"
             ],
             [
              0.3333333333333333,
              "#9c179e"
             ],
             [
              0.4444444444444444,
              "#bd3786"
             ],
             [
              0.5555555555555556,
              "#d8576b"
             ],
             [
              0.6666666666666666,
              "#ed7953"
             ],
             [
              0.7777777777777778,
              "#fb9f3a"
             ],
             [
              0.8888888888888888,
              "#fdca26"
             ],
             [
              1,
              "#f0f921"
             ]
            ],
            "type": "contour"
           }
          ],
          "contourcarpet": [
           {
            "colorbar": {
             "outlinewidth": 0,
             "ticks": ""
            },
            "type": "contourcarpet"
           }
          ],
          "heatmap": [
           {
            "colorbar": {
             "outlinewidth": 0,
             "ticks": ""
            },
            "colorscale": [
             [
              0,
              "#0d0887"
             ],
             [
              0.1111111111111111,
              "#46039f"
             ],
             [
              0.2222222222222222,
              "#7201a8"
             ],
             [
              0.3333333333333333,
              "#9c179e"
             ],
             [
              0.4444444444444444,
              "#bd3786"
             ],
             [
              0.5555555555555556,
              "#d8576b"
             ],
             [
              0.6666666666666666,
              "#ed7953"
             ],
             [
              0.7777777777777778,
              "#fb9f3a"
             ],
             [
              0.8888888888888888,
              "#fdca26"
             ],
             [
              1,
              "#f0f921"
             ]
            ],
            "type": "heatmap"
           }
          ],
          "heatmapgl": [
           {
            "colorbar": {
             "outlinewidth": 0,
             "ticks": ""
            },
            "colorscale": [
             [
              0,
              "#0d0887"
             ],
             [
              0.1111111111111111,
              "#46039f"
             ],
             [
              0.2222222222222222,
              "#7201a8"
             ],
             [
              0.3333333333333333,
              "#9c179e"
             ],
             [
              0.4444444444444444,
              "#bd3786"
             ],
             [
              0.5555555555555556,
              "#d8576b"
             ],
             [
              0.6666666666666666,
              "#ed7953"
             ],
             [
              0.7777777777777778,
              "#fb9f3a"
             ],
             [
              0.8888888888888888,
              "#fdca26"
             ],
             [
              1,
              "#f0f921"
             ]
            ],
            "type": "heatmapgl"
           }
          ],
          "histogram": [
           {
            "marker": {
             "pattern": {
              "fillmode": "overlay",
              "size": 10,
              "solidity": 0.2
             }
            },
            "type": "histogram"
           }
          ],
          "histogram2d": [
           {
            "colorbar": {
             "outlinewidth": 0,
             "ticks": ""
            },
            "colorscale": [
             [
              0,
              "#0d0887"
             ],
             [
              0.1111111111111111,
              "#46039f"
             ],
             [
              0.2222222222222222,
              "#7201a8"
             ],
             [
              0.3333333333333333,
              "#9c179e"
             ],
             [
              0.4444444444444444,
              "#bd3786"
             ],
             [
              0.5555555555555556,
              "#d8576b"
             ],
             [
              0.6666666666666666,
              "#ed7953"
             ],
             [
              0.7777777777777778,
              "#fb9f3a"
             ],
             [
              0.8888888888888888,
              "#fdca26"
             ],
             [
              1,
              "#f0f921"
             ]
            ],
            "type": "histogram2d"
           }
          ],
          "histogram2dcontour": [
           {
            "colorbar": {
             "outlinewidth": 0,
             "ticks": ""
            },
            "colorscale": [
             [
              0,
              "#0d0887"
             ],
             [
              0.1111111111111111,
              "#46039f"
             ],
             [
              0.2222222222222222,
              "#7201a8"
             ],
             [
              0.3333333333333333,
              "#9c179e"
             ],
             [
              0.4444444444444444,
              "#bd3786"
             ],
             [
              0.5555555555555556,
              "#d8576b"
             ],
             [
              0.6666666666666666,
              "#ed7953"
             ],
             [
              0.7777777777777778,
              "#fb9f3a"
             ],
             [
              0.8888888888888888,
              "#fdca26"
             ],
             [
              1,
              "#f0f921"
             ]
            ],
            "type": "histogram2dcontour"
           }
          ],
          "mesh3d": [
           {
            "colorbar": {
             "outlinewidth": 0,
             "ticks": ""
            },
            "type": "mesh3d"
           }
          ],
          "parcoords": [
           {
            "line": {
             "colorbar": {
              "outlinewidth": 0,
              "ticks": ""
             }
            },
            "type": "parcoords"
           }
          ],
          "pie": [
           {
            "automargin": true,
            "type": "pie"
           }
          ],
          "scatter": [
           {
            "marker": {
             "colorbar": {
              "outlinewidth": 0,
              "ticks": ""
             }
            },
            "type": "scatter"
           }
          ],
          "scatter3d": [
           {
            "line": {
             "colorbar": {
              "outlinewidth": 0,
              "ticks": ""
             }
            },
            "marker": {
             "colorbar": {
              "outlinewidth": 0,
              "ticks": ""
             }
            },
            "type": "scatter3d"
           }
          ],
          "scattercarpet": [
           {
            "marker": {
             "colorbar": {
              "outlinewidth": 0,
              "ticks": ""
             }
            },
            "type": "scattercarpet"
           }
          ],
          "scattergeo": [
           {
            "marker": {
             "colorbar": {
              "outlinewidth": 0,
              "ticks": ""
             }
            },
            "type": "scattergeo"
           }
          ],
          "scattergl": [
           {
            "marker": {
             "colorbar": {
              "outlinewidth": 0,
              "ticks": ""
             }
            },
            "type": "scattergl"
           }
          ],
          "scattermapbox": [
           {
            "marker": {
             "colorbar": {
              "outlinewidth": 0,
              "ticks": ""
             }
            },
            "type": "scattermapbox"
           }
          ],
          "scatterpolar": [
           {
            "marker": {
             "colorbar": {
              "outlinewidth": 0,
              "ticks": ""
             }
            },
            "type": "scatterpolar"
           }
          ],
          "scatterpolargl": [
           {
            "marker": {
             "colorbar": {
              "outlinewidth": 0,
              "ticks": ""
             }
            },
            "type": "scatterpolargl"
           }
          ],
          "scatterternary": [
           {
            "marker": {
             "colorbar": {
              "outlinewidth": 0,
              "ticks": ""
             }
            },
            "type": "scatterternary"
           }
          ],
          "surface": [
           {
            "colorbar": {
             "outlinewidth": 0,
             "ticks": ""
            },
            "colorscale": [
             [
              0,
              "#0d0887"
             ],
             [
              0.1111111111111111,
              "#46039f"
             ],
             [
              0.2222222222222222,
              "#7201a8"
             ],
             [
              0.3333333333333333,
              "#9c179e"
             ],
             [
              0.4444444444444444,
              "#bd3786"
             ],
             [
              0.5555555555555556,
              "#d8576b"
             ],
             [
              0.6666666666666666,
              "#ed7953"
             ],
             [
              0.7777777777777778,
              "#fb9f3a"
             ],
             [
              0.8888888888888888,
              "#fdca26"
             ],
             [
              1,
              "#f0f921"
             ]
            ],
            "type": "surface"
           }
          ],
          "table": [
           {
            "cells": {
             "fill": {
              "color": "#EBF0F8"
             },
             "line": {
              "color": "white"
             }
            },
            "header": {
             "fill": {
              "color": "#C8D4E3"
             },
             "line": {
              "color": "white"
             }
            },
            "type": "table"
           }
          ]
         },
         "layout": {
          "annotationdefaults": {
           "arrowcolor": "#2a3f5f",
           "arrowhead": 0,
           "arrowwidth": 1
          },
          "autotypenumbers": "strict",
          "coloraxis": {
           "colorbar": {
            "outlinewidth": 0,
            "ticks": ""
           }
          },
          "colorscale": {
           "diverging": [
            [
             0,
             "#8e0152"
            ],
            [
             0.1,
             "#c51b7d"
            ],
            [
             0.2,
             "#de77ae"
            ],
            [
             0.3,
             "#f1b6da"
            ],
            [
             0.4,
             "#fde0ef"
            ],
            [
             0.5,
             "#f7f7f7"
            ],
            [
             0.6,
             "#e6f5d0"
            ],
            [
             0.7,
             "#b8e186"
            ],
            [
             0.8,
             "#7fbc41"
            ],
            [
             0.9,
             "#4d9221"
            ],
            [
             1,
             "#276419"
            ]
           ],
           "sequential": [
            [
             0,
             "#0d0887"
            ],
            [
             0.1111111111111111,
             "#46039f"
            ],
            [
             0.2222222222222222,
             "#7201a8"
            ],
            [
             0.3333333333333333,
             "#9c179e"
            ],
            [
             0.4444444444444444,
             "#bd3786"
            ],
            [
             0.5555555555555556,
             "#d8576b"
            ],
            [
             0.6666666666666666,
             "#ed7953"
            ],
            [
             0.7777777777777778,
             "#fb9f3a"
            ],
            [
             0.8888888888888888,
             "#fdca26"
            ],
            [
             1,
             "#f0f921"
            ]
           ],
           "sequentialminus": [
            [
             0,
             "#0d0887"
            ],
            [
             0.1111111111111111,
             "#46039f"
            ],
            [
             0.2222222222222222,
             "#7201a8"
            ],
            [
             0.3333333333333333,
             "#9c179e"
            ],
            [
             0.4444444444444444,
             "#bd3786"
            ],
            [
             0.5555555555555556,
             "#d8576b"
            ],
            [
             0.6666666666666666,
             "#ed7953"
            ],
            [
             0.7777777777777778,
             "#fb9f3a"
            ],
            [
             0.8888888888888888,
             "#fdca26"
            ],
            [
             1,
             "#f0f921"
            ]
           ]
          },
          "colorway": [
           "#636efa",
           "#EF553B",
           "#00cc96",
           "#ab63fa",
           "#FFA15A",
           "#19d3f3",
           "#FF6692",
           "#B6E880",
           "#FF97FF",
           "#FECB52"
          ],
          "font": {
           "color": "#2a3f5f"
          },
          "geo": {
           "bgcolor": "white",
           "lakecolor": "white",
           "landcolor": "#E5ECF6",
           "showlakes": true,
           "showland": true,
           "subunitcolor": "white"
          },
          "hoverlabel": {
           "align": "left"
          },
          "hovermode": "closest",
          "mapbox": {
           "style": "light"
          },
          "paper_bgcolor": "white",
          "plot_bgcolor": "#E5ECF6",
          "polar": {
           "angularaxis": {
            "gridcolor": "white",
            "linecolor": "white",
            "ticks": ""
           },
           "bgcolor": "#E5ECF6",
           "radialaxis": {
            "gridcolor": "white",
            "linecolor": "white",
            "ticks": ""
           }
          },
          "scene": {
           "xaxis": {
            "backgroundcolor": "#E5ECF6",
            "gridcolor": "white",
            "gridwidth": 2,
            "linecolor": "white",
            "showbackground": true,
            "ticks": "",
            "zerolinecolor": "white"
           },
           "yaxis": {
            "backgroundcolor": "#E5ECF6",
            "gridcolor": "white",
            "gridwidth": 2,
            "linecolor": "white",
            "showbackground": true,
            "ticks": "",
            "zerolinecolor": "white"
           },
           "zaxis": {
            "backgroundcolor": "#E5ECF6",
            "gridcolor": "white",
            "gridwidth": 2,
            "linecolor": "white",
            "showbackground": true,
            "ticks": "",
            "zerolinecolor": "white"
           }
          },
          "shapedefaults": {
           "line": {
            "color": "#2a3f5f"
           }
          },
          "ternary": {
           "aaxis": {
            "gridcolor": "white",
            "linecolor": "white",
            "ticks": ""
           },
           "baxis": {
            "gridcolor": "white",
            "linecolor": "white",
            "ticks": ""
           },
           "bgcolor": "#E5ECF6",
           "caxis": {
            "gridcolor": "white",
            "linecolor": "white",
            "ticks": ""
           }
          },
          "title": {
           "x": 0.05
          },
          "xaxis": {
           "automargin": true,
           "gridcolor": "white",
           "linecolor": "white",
           "ticks": "",
           "title": {
            "standoff": 15
           },
           "zerolinecolor": "white",
           "zerolinewidth": 2
          },
          "yaxis": {
           "automargin": true,
           "gridcolor": "white",
           "linecolor": "white",
           "ticks": "",
           "title": {
            "standoff": 15
           },
           "zerolinecolor": "white",
           "zerolinewidth": 2
          }
         }
        },
        "title": {
         "text": "Оптимальное количество кластеров"
        },
        "xaxis": {
         "autorange": true,
         "dtick": 1,
         "range": [
          0.6404282115869018,
          7.359571788413098
         ],
         "tick0": 1,
         "tickmode": "linear",
         "title": {
          "text": "Количество кластеров"
         },
         "type": "linear"
        },
        "yaxis": {
         "autorange": true,
         "range": [
          15670467562953212,
          87509306875694640
         ],
         "title": {
          "text": "Сумма расстояний"
         },
         "type": "linear"
        }
       }
      },
      "image/png": "[encoded data removed]",
      "text/html": [
       "<div>                            <div id=\"167f13ca-c3c0-429f-90f4-6dcceb35d609\" class=\"plotly-graph-div\" style=\"height:525px; width:100%;\"></div>            <script type=\"text/javascript\">                require([\"plotly\"], function(Plotly) {                    window.PLOTLYENV=window.PLOTLYENV || {};                                    if (document.getElementById(\"167f13ca-c3c0-429f-90f4-6dcceb35d609\")) {                    Plotly.newPlot(                        \"167f13ca-c3c0-429f-90f4-6dcceb35d609\",                        [{\"x\":[1,2,3,4,5,6,7],\"y\":[8.242072242437546e+16,6.049091056520182e+16,4.591553997831243e+16,3.390760055638825e+16,2.764472669476396e+16,2.328390133229716e+16,2.0759052014272396e+16],\"type\":\"scatter\"}],                        {\"template\":{\"data\":{\"bar\":[{\"error_x\":{\"color\":\"#2a3f5f\"},\"error_y\":{\"color\":\"#2a3f5f\"},\"marker\":{\"line\":{\"color\":\"#E5ECF6\",\"width\":0.5},\"pattern\":{\"fillmode\":\"overlay\",\"size\":10,\"solidity\":0.2}},\"type\":\"bar\"}],\"barpolar\":[{\"marker\":{\"line\":{\"color\":\"#E5ECF6\",\"width\":0.5},\"pattern\":{\"fillmode\":\"overlay\",\"size\":10,\"solidity\":0.2}},\"type\":\"barpolar\"}],\"carpet\":[{\"aaxis\":{\"endlinecolor\":\"#2a3f5f\",\"gridcolor\":\"white\",\"linecolor\":\"white\",\"minorgridcolor\":\"white\",\"startlinecolor\":\"#2a3f5f\"},\"baxis\":{\"endlinecolor\":\"#2a3f5f\",\"gridcolor\":\"white\",\"linecolor\":\"white\",\"minorgridcolor\":\"white\",\"startlinecolor\":\"#2a3f5f\"},\"type\":\"carpet\"}],\"choropleth\":[{\"colorbar\":{\"outlinewidth\":0,\"ticks\":\"\"},\"type\":\"choropleth\"}],\"contour\":[{\"colorbar\":{\"outlinewidth\":0,\"ticks\":\"\"},\"colorscale\":[[0.0,\"#0d0887\"],[0.1111111111111111,\"#46039f\"],[0.2222222222222222,\"#7201a8\"],[0.3333333333333333,\"#9c179e\"],[0.4444444444444444,\"#bd3786\"],[0.5555555555555556,\"#d8576b\"],[0.6666666666666666,\"#ed7953\"],[0.7777777777777778,\"#fb9f3a\"],[0.8888888888888888,\"#fdca26\"],[1.0,\"#f0f921\"]],\"type\":\"contour\"}],\"contourcarpet\":[{\"colorbar\":{\"outlinewidth\":0,\"ticks\":\"\"},\"type\":\"contourcarpet\"}],\"heatmap\":[{\"colorbar\":{\"outlinewidth\":0,\"ticks\":\"\"},\"colorscale\":[[0.0,\"#0d0887\"],[0.1111111111111111,\"#46039f\"],[0.2222222222222222,\"#7201a8\"],[0.3333333333333333,\"#9c179e\"],[0.4444444444444444,\"#bd3786\"],[0.5555555555555556,\"#d8576b\"],[0.6666666666666666,\"#ed7953\"],[0.7777777777777778,\"#fb9f3a\"],[0.8888888888888888,\"#fdca26\"],[1.0,\"#f0f921\"]],\"type\":\"heatmap\"}],\"heatmapgl\":[{\"colorbar\":{\"outlinewidth\":0,\"ticks\":\"\"},\"colorscale\":[[0.0,\"#0d0887\"],[0.1111111111111111,\"#46039f\"],[0.2222222222222222,\"#7201a8\"],[0.3333333333333333,\"#9c179e\"],[0.4444444444444444,\"#bd3786\"],[0.5555555555555556,\"#d8576b\"],[0.6666666666666666,\"#ed7953\"],[0.7777777777777778,\"#fb9f3a\"],[0.8888888888888888,\"#fdca26\"],[1.0,\"#f0f921\"]],\"type\":\"heatmapgl\"}],\"histogram\":[{\"marker\":{\"pattern\":{\"fillmode\":\"overlay\",\"size\":10,\"solidity\":0.2}},\"type\":\"histogram\"}],\"histogram2d\":[{\"colorbar\":{\"outlinewidth\":0,\"ticks\":\"\"},\"colorscale\":[[0.0,\"#0d0887\"],[0.1111111111111111,\"#46039f\"],[0.2222222222222222,\"#7201a8\"],[0.3333333333333333,\"#9c179e\"],[0.4444444444444444,\"#bd3786\"],[0.5555555555555556,\"#d8576b\"],[0.6666666666666666,\"#ed7953\"],[0.7777777777777778,\"#fb9f3a\"],[0.8888888888888888,\"#fdca26\"],[1.0,\"#f0f921\"]],\"type\":\"histogram2d\"}],\"histogram2dcontour\":[{\"colorbar\":{\"outlinewidth\":0,\"ticks\":\"\"},\"colorscale\":[[0.0,\"#0d0887\"],[0.1111111111111111,\"#46039f\"],[0.2222222222222222,\"#7201a8\"],[0.3333333333333333,\"#9c179e\"],[0.4444444444444444,\"#bd3786\"],[0.5555555555555556,\"#d8576b\"],[0.6666666666666666,\"#ed7953\"],[0.7777777777777778,\"#fb9f3a\"],[0.8888888888888888,\"#fdca26\"],[1.0,\"#f0f921\"]],\"type\":\"histogram2dcontour\"}],\"mesh3d\":[{\"colorbar\":{\"outlinewidth\":0,\"ticks\":\"\"},\"type\":\"mesh3d\"}],\"parcoords\":[{\"line\":{\"colorbar\":{\"outlinewidth\":0,\"ticks\":\"\"}},\"type\":\"parcoords\"}],\"pie\":[{\"automargin\":true,\"type\":\"pie\"}],\"scatter\":[{\"marker\":{\"colorbar\":{\"outlinewidth\":0,\"ticks\":\"\"}},\"type\":\"scatter\"}],\"scatter3d\":[{\"line\":{\"colorbar\":{\"outlinewidth\":0,\"ticks\":\"\"}},\"marker\":{\"colorbar\":{\"outlinewidth\":0,\"ticks\":\"\"}},\"type\":\"scatter3d\"}],\"scattercarpet\":[{\"marker\":{\"colorbar\":{\"outlinewidth\":0,\"ticks\":\"\"}},\"type\":\"scattercarpet\"}],\"scattergeo\":[{\"marker\":{\"colorbar\":{\"outlinewidth\":0,\"ticks\":\"\"}},\"type\":\"scattergeo\"}],\"scattergl\":[{\"marker\":{\"colorbar\":{\"outlinewidth\":0,\"ticks\":\"\"}},\"type\":\"scattergl\"}],\"scattermapbox\":[{\"marker\":{\"colorbar\":{\"outlinewidth\":0,\"ticks\":\"\"}},\"type\":\"scattermapbox\"}],\"scatterpolar\":[{\"marker\":{\"colorbar\":{\"outlinewidth\":0,\"ticks\":\"\"}},\"type\":\"scatterpolar\"}],\"scatterpolargl\":[{\"marker\":{\"colorbar\":{\"outlinewidth\":0,\"ticks\":\"\"}},\"type\":\"scatterpolargl\"}],\"scatterternary\":[{\"marker\":{\"colorbar\":{\"outlinewidth\":0,\"ticks\":\"\"}},\"type\":\"scatterternary\"}],\"surface\":[{\"colorbar\":{\"outlinewidth\":0,\"ticks\":\"\"},\"colorscale\":[[0.0,\"#0d0887\"],[0.1111111111111111,\"#46039f\"],[0.2222222222222222,\"#7201a8\"],[0.3333333333333333,\"#9c179e\"],[0.4444444444444444,\"#bd3786\"],[0.5555555555555556,\"#d8576b\"],[0.6666666666666666,\"#ed7953\"],[0.7777777777777778,\"#fb9f3a\"],[0.8888888888888888,\"#fdca26\"],[1.0,\"#f0f921\"]],\"type\":\"surface\"}],\"table\":[{\"cells\":{\"fill\":{\"color\":\"#EBF0F8\"},\"line\":{\"color\":\"white\"}},\"header\":{\"fill\":{\"color\":\"#C8D4E3\"},\"line\":{\"color\":\"white\"}},\"type\":\"table\"}]},\"layout\":{\"annotationdefaults\":{\"arrowcolor\":\"#2a3f5f\",\"arrowhead\":0,\"arrowwidth\":1},\"autotypenumbers\":\"strict\",\"coloraxis\":{\"colorbar\":{\"outlinewidth\":0,\"ticks\":\"\"}},\"colorscale\":{\"diverging\":[[0,\"#8e0152\"],[0.1,\"#c51b7d\"],[0.2,\"#de77ae\"],[0.3,\"#f1b6da\"],[0.4,\"#fde0ef\"],[0.5,\"#f7f7f7\"],[0.6,\"#e6f5d0\"],[0.7,\"#b8e186\"],[0.8,\"#7fbc41\"],[0.9,\"#4d9221\"],[1,\"#276419\"]],\"sequential\":[[0.0,\"#0d0887\"],[0.1111111111111111,\"#46039f\"],[0.2222222222222222,\"#7201a8\"],[0.3333333333333333,\"#9c179e\"],[0.4444444444444444,\"#bd3786\"],[0.5555555555555556,\"#d8576b\"],[0.6666666666666666,\"#ed7953\"],[0.7777777777777778,\"#fb9f3a\"],[0.8888888888888888,\"#fdca26\"],[1.0,\"#f0f921\"]],\"sequentialminus\":[[0.0,\"#0d0887\"],[0.1111111111111111,\"#46039f\"],[0.2222222222222222,\"#7201a8\"],[0.3333333333333333,\"#9c179e\"],[0.4444444444444444,\"#bd3786\"],[0.5555555555555556,\"#d8576b\"],[0.6666666666666666,\"#ed7953\"],[0.7777777777777778,\"#fb9f3a\"],[0.8888888888888888,\"#fdca26\"],[1.0,\"#f0f921\"]]},\"colorway\":[\"#636efa\",\"#EF553B\",\"#00cc96\",\"#ab63fa\",\"#FFA15A\",\"#19d3f3\",\"#FF6692\",\"#B6E880\",\"#FF97FF\",\"#FECB52\"],\"font\":{\"color\":\"#2a3f5f\"},\"geo\":{\"bgcolor\":\"white\",\"lakecolor\":\"white\",\"landcolor\":\"#E5ECF6\",\"showlakes\":true,\"showland\":true,\"subunitcolor\":\"white\"},\"hoverlabel\":{\"align\":\"left\"},\"hovermode\":\"closest\",\"mapbox\":{\"style\":\"light\"},\"paper_bgcolor\":\"white\",\"plot_bgcolor\":\"#E5ECF6\",\"polar\":{\"angularaxis\":{\"gridcolor\":\"white\",\"linecolor\":\"white\",\"ticks\":\"\"},\"bgcolor\":\"#E5ECF6\",\"radialaxis\":{\"gridcolor\":\"white\",\"linecolor\":\"white\",\"ticks\":\"\"}},\"scene\":{\"xaxis\":{\"backgroundcolor\":\"#E5ECF6\",\"gridcolor\":\"white\",\"gridwidth\":2,\"linecolor\":\"white\",\"showbackground\":true,\"ticks\":\"\",\"zerolinecolor\":\"white\"},\"yaxis\":{\"backgroundcolor\":\"#E5ECF6\",\"gridcolor\":\"white\",\"gridwidth\":2,\"linecolor\":\"white\",\"showbackground\":true,\"ticks\":\"\",\"zerolinecolor\":\"white\"},\"zaxis\":{\"backgroundcolor\":\"#E5ECF6\",\"gridcolor\":\"white\",\"gridwidth\":2,\"linecolor\":\"white\",\"showbackground\":true,\"ticks\":\"\",\"zerolinecolor\":\"white\"}},\"shapedefaults\":{\"line\":{\"color\":\"#2a3f5f\"}},\"ternary\":{\"aaxis\":{\"gridcolor\":\"white\",\"linecolor\":\"white\",\"ticks\":\"\"},\"baxis\":{\"gridcolor\":\"white\",\"linecolor\":\"white\",\"ticks\":\"\"},\"bgcolor\":\"#E5ECF6\",\"caxis\":{\"gridcolor\":\"white\",\"linecolor\":\"white\",\"ticks\":\"\"}},\"title\":{\"x\":0.05},\"xaxis\":{\"automargin\":true,\"gridcolor\":\"white\",\"linecolor\":\"white\",\"ticks\":\"\",\"title\":{\"standoff\":15},\"zerolinecolor\":\"white\",\"zerolinewidth\":2},\"yaxis\":{\"automargin\":true,\"gridcolor\":\"white\",\"linecolor\":\"white\",\"ticks\":\"\",\"title\":{\"standoff\":15},\"zerolinecolor\":\"white\",\"zerolinewidth\":2}}},\"xaxis\":{\"tick0\":1,\"dtick\":1,\"tickmode\":\"linear\",\"title\":{\"text\":\"\\u041a\\u043e\\u043b\\u0438\\u0447\\u0435\\u0441\\u0442\\u0432\\u043e \\u043a\\u043b\\u0430\\u0441\\u0442\\u0435\\u0440\\u043e\\u0432\"}},\"title\":{\"text\":\"\\u041e\\u043f\\u0442\\u0438\\u043c\\u0430\\u043b\\u044c\\u043d\\u043e\\u0435 \\u043a\\u043e\\u043b\\u0438\\u0447\\u0435\\u0441\\u0442\\u0432\\u043e \\u043a\\u043b\\u0430\\u0441\\u0442\\u0435\\u0440\\u043e\\u0432\"},\"yaxis\":{\"title\":{\"text\":\"\\u0421\\u0443\\u043c\\u043c\\u0430 \\u0440\\u0430\\u0441\\u0441\\u0442\\u043e\\u044f\\u043d\\u0438\\u0439\"}}},                        {\"responsive\": true}                    ).then(function(){\n",
       "                            \n",
       "var gd = document.getElementById('167f13ca-c3c0-429f-90f4-6dcceb35d609');\n",
       "var x = new MutationObserver(function (mutations, observer) {{\n",
       "        var display = window.getComputedStyle(gd).display;\n",
       "        if (!display || display === 'none') {{\n",
       "            console.log([gd, 'removed!']);\n",
       "            Plotly.purge(gd);\n",
       "            observer.disconnect();\n",
       "        }}\n",
       "}});\n",
       "\n",
       "// Listen for the removal of the full notebook cells\n",
       "var notebookContainer = gd.closest('#notebook-container');\n",
       "if (notebookContainer) {{\n",
       "    x.observe(notebookContainer, {childList: true});\n",
       "}}\n",
       "\n",
       "// Listen for the clearing of the current output cell\n",
       "var outputEl = gd.closest('.output');\n",
       "if (outputEl) {{\n",
       "    x.observe(outputEl, {childList: true});\n",
       "}}\n",
       "\n",
       "                        })                };                });            </script>        </div>"
      ]
     },
     "metadata": {},
     "output_type": "display_data"
    }
   ],
   "source": [
    "import plotly.graph_objects as go\n",
    "figure = go.Figure()\n",
    "figure.add_trace(go.Scatter(x=distances[\"clusters\"], y=distances[\"sum of squared distances\"]))\n",
    "\n",
    "figure.update_layout(xaxis = dict(tick0 = 1,dtick = 1,tickmode = 'linear'),                  \n",
    "                  xaxis_title=\"Количество кластеров\",\n",
    "                  yaxis_title=\"Сумма расстояний\",\n",
    "                  title_text=\"Оптимальное количество кластеров\")\n",
    "figure.show()"
   ]
  },
  {
   "cell_type": "code",
   "execution_count": 69,
   "metadata": {
    "colab": {
     "base_uri": "https://localhost:8080/"
    },
    "id": "bCLaH9DqmbK7",
    "outputId": "2e9746b2-c3cf-4887-e8d6-88dd9cefcff2"
   },
   "outputs": [
    {
     "data": {
      "text/plain": [
       "array([1, 1, 1, ..., 1, 1, 1])"
      ]
     },
     "execution_count": 69,
     "metadata": {},
     "output_type": "execute_result"
    }
   ],
   "source": [
    "kmeans_model_new = KMeans(n_clusters = 4,init='k-means++',max_iter=400,random_state=42)\n",
    "kmeans_model_new.fit_predict(one_hot_df)"
   ]
  },
  {
   "cell_type": "code",
   "execution_count": 70,
   "metadata": {
    "id": "uLvBSiNMnkpr"
   },
   "outputs": [],
   "source": [
    "one_hot_df[\"clusters\"] = kmeans_model_new.labels_"
   ]
  },
  {
   "cell_type": "code",
   "execution_count": 71,
   "metadata": {
    "colab": {
     "base_uri": "https://localhost:8080/"
    },
    "id": "MwlfLeqMnp8Z",
    "outputId": "1b1a100c-9dc9-4849-ec09-ad85a12c92a2"
   },
   "outputs": [
    {
     "data": {
      "text/plain": [
       "1    236449\n",
       "0      3816\n",
       "3       127\n",
       "2         5\n",
       "Name: clusters, dtype: int64"
      ]
     },
     "execution_count": 71,
     "metadata": {},
     "output_type": "execute_result"
    }
   ],
   "source": [
    "one_hot_df[\"clusters\"].value_counts()"
   ]
  },
  {
   "cell_type": "code",
   "execution_count": 72,
   "metadata": {
    "id": "YsEM7i22vcNT"
   },
   "outputs": [],
   "source": [
    "\n",
    "one_hot_df.loc[one_hot_df['clusters'] == 0,\"clusters\"] = 'Кластер 0'\n",
    "one_hot_df.loc[one_hot_df['clusters'] == 1,\"clusters\"] = 'Кластер 1'\n",
    "one_hot_df.loc[one_hot_df['clusters'] == 2,\"clusters\"] = 'Кластер 2'\n",
    "one_hot_df.loc[one_hot_df['clusters'] == 3,\"clusters\"] = 'Кластер 3'"
   ]
  },
  {
   "cell_type": "code",
   "execution_count": 73,
   "metadata": {
    "id": "DrPlJq85wMBi"
   },
   "outputs": [],
   "source": [
    "bins=[18, 25, 35, 44, 54, 64, 65]\n",
    "labels=['18-24', '25-34', '35-44', '45-54', '55-64', '>65']\n",
    "one_hot_df['age_group'] = pd.cut(one_hot_df['age'], bins, labels=labels)"
   ]
  },
  {
   "cell_type": "code",
   "execution_count": 74,
   "metadata": {
    "id": "DU3-nvx09Rk3"
   },
   "outputs": [],
   "source": [
    "import collections\n",
    "dict_without_order_age =  dict(one_hot_df['age_group'].value_counts(1))\n",
    "dict_without_order_gender =  dict(one_hot_df['gender'].value_counts(1))\n",
    "od_gender = collections.OrderedDict(sorted(dict_without_order_gender.items()))\n",
    "dict_without_order_resident =  dict(one_hot_df['nonresident_flag'].value_counts(1))\n",
    "od_resident = collections.OrderedDict(sorted(dict_without_order_resident.items()))"
   ]
  },
  {
   "cell_type": "code",
   "execution_count": 75,
   "metadata": {
    "id": "-StM84VS9v3x"
   },
   "outputs": [],
   "source": [
    "empty_dict_age = dict.fromkeys(['18-24', '25-34', '35-44', '45-54', '55-64', '>65'])\n",
    "empty_dict_gender = dict.fromkeys(['0', '1'])\n",
    "empty_dict_resident = dict.fromkeys(['0', '1'])"
   ]
  },
  {
   "cell_type": "code",
   "execution_count": 76,
   "metadata": {
    "id": "d-3kHQynEi4y"
   },
   "outputs": [],
   "source": [
    "\n",
    "empty_dict_age.update(dict_without_order_age)\n",
    "od_gender.update(dict_without_order_gender)\n",
    "od_resident.update(empty_dict_resident)"
   ]
  },
  {
   "cell_type": "code",
   "execution_count": 77,
   "metadata": {
    "id": "GeClWEseCDJH"
   },
   "outputs": [],
   "source": [
    "age_distr = list(empty_dict_age.values())\n",
    "gender_distr = list(od_gender.values())\n",
    "resident_distr = list(od_resident.values())"
   ]
  },
  {
   "cell_type": "code",
   "execution_count": 78,
   "metadata": {
    "id": "yjAQc3ZlFs8z"
   },
   "outputs": [],
   "source": [
    "one_hot_df_clusters = list(set(one_hot_df['clusters']))\n",
    "clusters = []\n",
    "age = []\n",
    "gender = []\n",
    "residents = []\n",
    "for i in one_hot_df_clusters:\n",
    "  df_cluster = one_hot_df[one_hot_df['clusters'] == i]\n",
    "  dict_without_order_age =  dict(df_cluster['age_group'].value_counts(1))\n",
    "  dict_without_order_gender =  dict(df_cluster['gender'].value_counts(1))\n",
    "  od_gender = collections.OrderedDict(sorted(dict_without_order_gender.items()))\n",
    "  dict_without_order_resident =  dict(df_cluster['nonresident_flag'].value_counts(1))\n",
    "  #od_resident = collections.OrderedDict(sorted(dict_without_order_resident.items()))\n",
    "  empty_dict_age = dict.fromkeys(['18-24', '25-34', '35-44', '45-54', '55-64', '>65'])\n",
    "  empty_dict_gender = dict.fromkeys(['0', '1'])\n",
    "  empty_dict_resident = dict.fromkeys(['0', '1'])\n",
    "  empty_dict_age.update(dict_without_order_age)\n",
    "  od_gender.update(dict_without_order_gender)\n",
    "  #od_resident.update(empty_dict_resident)\n",
    "  age_distr = list(empty_dict_age.values())\n",
    "  age_dis = [0 if v is None else v for v in age_distr]\n",
    "  gender_distr = list(od_gender.values())\n",
    "  gender_dis = [0 if v is None else v for v in gender_distr]\n",
    "  resident_distr = list(dict_without_order_resident.values())\n",
    "  resident_dis = [0 if v is None else v for v in  resident_distr]\n",
    "\n",
    "  clusters.append(i)\n",
    "  age.append(age_dis)\n",
    "  gender.append(gender_dis)  \n",
    "  residents.append(resident_dis)"
   ]
  },
  {
   "cell_type": "code",
   "execution_count": 79,
   "metadata": {
    "colab": {
     "base_uri": "https://localhost:8080/",
     "height": 175
    },
    "id": "Q9mJE7YIHhJ_",
    "outputId": "e702a303-8793-4c52-c599-a8a9a5d562e2"
   },
   "outputs": [
    {
     "data": {
      "text/html": [
       "<div>\n",
       "<style scoped>\n",
       "    .dataframe tbody tr th:only-of-type {\n",
       "        vertical-align: middle;\n",
       "    }\n",
       "\n",
       "    .dataframe tbody tr th {\n",
       "        vertical-align: top;\n",
       "    }\n",
       "\n",
       "    .dataframe thead th {\n",
       "        text-align: right;\n",
       "    }\n",
       "</style>\n",
       "<table border=\"1\" class=\"dataframe\">\n",
       "  <thead>\n",
       "    <tr style=\"text-align: right;\">\n",
       "      <th></th>\n",
       "      <th>cluster</th>\n",
       "      <th>age_cluster</th>\n",
       "      <th>gender_cluster</th>\n",
       "      <th>residents_cluster</th>\n",
       "    </tr>\n",
       "  </thead>\n",
       "  <tbody>\n",
       "    <tr>\n",
       "      <th>0</th>\n",
       "      <td>Кластер 1</td>\n",
       "      <td>[0.09399680774237469, 0.22218849039332847, 0.2...</td>\n",
       "      <td>[0.5472131411001949, 0.452786858899805]</td>\n",
       "      <td>[0.9793993630761814, 0.020600636923818666]</td>\n",
       "    </tr>\n",
       "    <tr>\n",
       "      <th>1</th>\n",
       "      <td>Кластер 0</td>\n",
       "      <td>[0.006620428751576293, 0.12042875157629256, 0....</td>\n",
       "      <td>[0.4588574423480084, 0.5411425576519916]</td>\n",
       "      <td>[0.9787735849056604, 0.02122641509433962]</td>\n",
       "    </tr>\n",
       "    <tr>\n",
       "      <th>2</th>\n",
       "      <td>Кластер 2</td>\n",
       "      <td>[0.0, 0.0, 0.8, 0.2, 0.0, 0.0]</td>\n",
       "      <td>[1.0]</td>\n",
       "      <td>[1.0]</td>\n",
       "    </tr>\n",
       "    <tr>\n",
       "      <th>3</th>\n",
       "      <td>Кластер 3</td>\n",
       "      <td>[0.0, 0.0, 0.3217391304347826, 0.4260869565217...</td>\n",
       "      <td>[0.2440944881889764, 0.7559055118110236]</td>\n",
       "      <td>[1.0]</td>\n",
       "    </tr>\n",
       "  </tbody>\n",
       "</table>\n",
       "</div>"
      ],
      "text/plain": [
       "     cluster                                        age_cluster  \\\n",
       "0  Кластер 1  [0.09399680774237469, 0.22218849039332847, 0.2...   \n",
       "1  Кластер 0  [0.006620428751576293, 0.12042875157629256, 0....   \n",
       "2  Кластер 2                     [0.0, 0.0, 0.8, 0.2, 0.0, 0.0]   \n",
       "3  Кластер 3  [0.0, 0.0, 0.3217391304347826, 0.4260869565217...   \n",
       "\n",
       "                             gender_cluster  \\\n",
       "0   [0.5472131411001949, 0.452786858899805]   \n",
       "1  [0.4588574423480084, 0.5411425576519916]   \n",
       "2                                     [1.0]   \n",
       "3  [0.2440944881889764, 0.7559055118110236]   \n",
       "\n",
       "                            residents_cluster  \n",
       "0  [0.9793993630761814, 0.020600636923818666]  \n",
       "1   [0.9787735849056604, 0.02122641509433962]  \n",
       "2                                       [1.0]  \n",
       "3                                       [1.0]  "
      ]
     },
     "execution_count": 79,
     "metadata": {},
     "output_type": "execute_result"
    }
   ],
   "source": [
    "\n",
    "\n",
    "d = {'cluster': clusters, 'age_cluster': age, 'gender_cluster':gender, 'residents_cluster':residents}\n",
    "df = pd.DataFrame(data=d)\n",
    "df"
   ]
  },
  {
   "cell_type": "code",
   "execution_count": 80,
   "metadata": {
    "id": "G2v0X9clWILg"
   },
   "outputs": [],
   "source": [
    "data_media = pd.DataFrame(columns=[\"site\", \"age\", \"gender\", \"resident\"])"
   ]
  },
  {
   "cell_type": "code",
   "execution_count": 81,
   "metadata": {
    "id": "Erj8rDL4WF2j"
   },
   "outputs": [],
   "source": [
    "data_media.loc[len(data_media.index)] = ['VK', [0.1987, 0.3338, 0.1863, 0.1419, 0.0956, 0.0437], [0.4437, 0.5563], [0.8238, 0.1762]]\n",
    "data_media.loc[len(data_media.index)] = ['TELEGRAM', [0.27, 0.38, 0.306, 0.213, 0.1, 0.085], [0.39, 0.61], [0.6, 0.4]]\n",
    "data_media.loc[len(data_media.index)] = ['Одноклассники', [0.1647, 0.2854, 0.1959, 0.1605, 0.1307, 0.0628], [0.5079, 0.4921], [0.735, 0.265]]\n",
    "data_media.loc[len(data_media.index)] = ['Яндекс Новости', [0.1522, 0.355, 0.2103, 0.1435, 0.0958, 0.0432], [0.4604, 0.5396], [0.9169, 0.083]]\n",
    "data_media.loc[len(data_media.index)] = ['РБК', [0.1085, 0.3158, 0.2127, 0.1699, 0.1265, 0.0665], [0.4311, 0.5689], [0.8897, 0.11]]\n",
    "data_media.loc[len(data_media.index)] = ['VC.RU', [0.163, 0.4295, 0.1968, 0.1155, 0.0655, 0.0297], [0.3912, 0.6088], [0.6725, 0.3275]]\n",
    "data_media.loc[len(data_media.index)] = ['НОВАЯ ГАЗЕТА', [0.1219, 0.2939, 0.1938, 0.1666, 0.1364, 0.0874], [0.4124, 0.5876], [0.5999, 0.4001]]\n",
    "data_media.loc[len(data_media.index)] = ['Forbes RU', [0.113, 0.3217, 0.1977, 0.1623, 0.1321, 0.0731], [0.4135, 0.5865], [0.7966, 0.2034]]\n",
    "data_media.loc[len(data_media.index)] = ['Хабр', [0.172, 0.4475, 0.1937, 0.1025, 0.0569, 0.0275], [0.301, 0.699], [0.6852, 0.3148]]\n",
    "data_media.loc[len(data_media.index)] = ['НОЖ', [0.1863, 0.352, 0.1804, 0.1461, 0.0948, 0.0403], [0.4872, 0.5128], [0.7327, 0.2673]]\n",
    "data_media.loc[len(data_media.index)] = ['YouTube', [0.1818, 0.4118, 0.1879, 0.119, 0.069, 0.0305], [0.4264, 0.5736], [0.7531, 0.2469]]\n",
    "data_media.loc[len(data_media.index)] = ['Rutube', [0.1597, 0.3538, 0.1829, 0.1432, 0.1102, 0.0502], [0.4239, 0.5761], [0.8178, 0.1822]]\n",
    "data_media.loc[len(data_media.index)] = ['Ozon', [0.1457, 0.3764, 0.2212, 0.1416, 0.0823, 0.0329], [0.4633, 0.5367], [0.9361, 0.0639]]\n",
    "data_media.loc[len(data_media.index)] = ['Avito', [0.1316, 0.3731, 0.2232, 0.15, 0.0882, 0.0339], [0.4346, 0.5654], [0.9573, 0.0427]]\n",
    "data_media.loc[len(data_media.index)] = ['ЦИАН', [0.112, 0.3754, 0.2259, 0.1561, 0.0963, 0.0343], [0.5155, 0.4845], [0.9625, 0.0375]]\n",
    "data_media.loc[len(data_media.index)] = ['Юла', [0.1427, 0.3792, 0.2166, 0.141, 0.0886, 0.0319], [0.4282, 0.5718], [0.9774, 0.02259]]\n",
    "data_media.loc[len(data_media.index)] = ['Wildberries', [0.1446, 0.3722, 0.2167, 0.1429, 0.0898, 0.0337], [0.5228, 0.4772], [0.9216, 0.0784]]\n",
    "data_media.loc[len(data_media.index)] = ['Wasd TV', [0.2726, 0.4071, 0.156, 0.0872, 0.05, 0.0272], [0.2448, 0.7552], [0.8434, 0.1566]]\n",
    "data_media.loc[len(data_media.index)] = ['Good Game', [0.2494, 0.3979, 0.1575, 0.1009, 0.0614, 0.0329], [0.2608, 0.7392], [0.7995, 0.2005]]\n",
    "data_media.loc[len(data_media.index)] = ['Likee', [0.293, 0.3272, 0.1615, 0.1001, 0.0712, 0.047], [0.3812, 0.6188], [0.1535, 0.8465]]\n",
    "data_media.loc[len(data_media.index)] = ['Отзовик', [0.1273, 0.3688, 0.2221, 0.1506, 0.0918, 0.0394], [0.5091, 0.4909], [0.855, 0.145]]\n",
    "data_media.loc[len(data_media.index)] = ['IVI', [0.2294, 0.3312, 0.1713, 0.125, 0.1015, 0.0416], [0.5192, 0.4808], [0.831, 0.169]]\n",
    "data_media.loc[len(data_media.index)] = ['Кинопоиск', [0.2329, 0.3766, 0.1667, 0.1128, 0.074, 0.0369], [0.4453, 0.5547], [0.8551, 0.1449]]\n",
    "data_media.loc[len(data_media.index)] = ['2ГИС', [0.126, 0.3768, 0.2247, 0.1524, 0.0877, 0.0324], [0.4798, 0.5202], [0.9746, 0.02539]]\n",
    "data_media.loc[len(data_media.index)] = ['Биржа фриланса FL', [0.1757, 0.4779, 0.1765, 0.093, 0.053, 0.0239], [0.3945, 0.6055], [0.7649, 0.235]]\n",
    "data_media.loc[len(data_media.index)] = ['Нетология', [0.1804, 0.464, 0.1841, 0.0992, 0.0503, 0.0221], [0.4709, 0.5291], [0.8287, 0.1703]]"
   ]
  },
  {
   "cell_type": "code",
   "execution_count": 180,
   "metadata": {},
   "outputs": [
    {
     "data": {
      "text/html": [
       "<div>\n",
       "<style scoped>\n",
       "    .dataframe tbody tr th:only-of-type {\n",
       "        vertical-align: middle;\n",
       "    }\n",
       "\n",
       "    .dataframe tbody tr th {\n",
       "        vertical-align: top;\n",
       "    }\n",
       "\n",
       "    .dataframe thead th {\n",
       "        text-align: right;\n",
       "    }\n",
       "</style>\n",
       "<table border=\"1\" class=\"dataframe\">\n",
       "  <thead>\n",
       "    <tr style=\"text-align: right;\">\n",
       "      <th></th>\n",
       "      <th>site</th>\n",
       "      <th>age</th>\n",
       "      <th>gender</th>\n",
       "      <th>resident</th>\n",
       "    </tr>\n",
       "  </thead>\n",
       "  <tbody>\n",
       "    <tr>\n",
       "      <th>0</th>\n",
       "      <td>VK</td>\n",
       "      <td>[0.1987, 0.3338, 0.1863, 0.1419, 0.0956, 0.0437]</td>\n",
       "      <td>[0.4437, 0.5563]</td>\n",
       "      <td>[0.8238, 0.1762]</td>\n",
       "    </tr>\n",
       "    <tr>\n",
       "      <th>1</th>\n",
       "      <td>TELEGRAM</td>\n",
       "      <td>[0.27, 0.38, 0.306, 0.213, 0.1, 0.085]</td>\n",
       "      <td>[0.39, 0.61]</td>\n",
       "      <td>[0.6, 0.4]</td>\n",
       "    </tr>\n",
       "    <tr>\n",
       "      <th>2</th>\n",
       "      <td>Одноклассники</td>\n",
       "      <td>[0.1647, 0.2854, 0.1959, 0.1605, 0.1307, 0.0628]</td>\n",
       "      <td>[0.5079, 0.4921]</td>\n",
       "      <td>[0.735, 0.265]</td>\n",
       "    </tr>\n",
       "    <tr>\n",
       "      <th>3</th>\n",
       "      <td>Яндекс Новости</td>\n",
       "      <td>[0.1522, 0.355, 0.2103, 0.1435, 0.0958, 0.0432]</td>\n",
       "      <td>[0.4604, 0.5396]</td>\n",
       "      <td>[0.9169, 0.083]</td>\n",
       "    </tr>\n",
       "    <tr>\n",
       "      <th>4</th>\n",
       "      <td>РБК</td>\n",
       "      <td>[0.1085, 0.3158, 0.2127, 0.1699, 0.1265, 0.0665]</td>\n",
       "      <td>[0.4311, 0.5689]</td>\n",
       "      <td>[0.8897, 0.11]</td>\n",
       "    </tr>\n",
       "    <tr>\n",
       "      <th>5</th>\n",
       "      <td>VC.RU</td>\n",
       "      <td>[0.163, 0.4295, 0.1968, 0.1155, 0.0655, 0.0297]</td>\n",
       "      <td>[0.3912, 0.6088]</td>\n",
       "      <td>[0.6725, 0.3275]</td>\n",
       "    </tr>\n",
       "    <tr>\n",
       "      <th>6</th>\n",
       "      <td>НОВАЯ ГАЗЕТА</td>\n",
       "      <td>[0.1219, 0.2939, 0.1938, 0.1666, 0.1364, 0.0874]</td>\n",
       "      <td>[0.4124, 0.5876]</td>\n",
       "      <td>[0.5999, 0.4001]</td>\n",
       "    </tr>\n",
       "    <tr>\n",
       "      <th>7</th>\n",
       "      <td>Forbes RU</td>\n",
       "      <td>[0.113, 0.3217, 0.1977, 0.1623, 0.1321, 0.0731]</td>\n",
       "      <td>[0.4135, 0.5865]</td>\n",
       "      <td>[0.7966, 0.2034]</td>\n",
       "    </tr>\n",
       "    <tr>\n",
       "      <th>8</th>\n",
       "      <td>Хабр</td>\n",
       "      <td>[0.172, 0.4475, 0.1937, 0.1025, 0.0569, 0.0275]</td>\n",
       "      <td>[0.301, 0.699]</td>\n",
       "      <td>[0.6852, 0.3148]</td>\n",
       "    </tr>\n",
       "    <tr>\n",
       "      <th>9</th>\n",
       "      <td>НОЖ</td>\n",
       "      <td>[0.1863, 0.352, 0.1804, 0.1461, 0.0948, 0.0403]</td>\n",
       "      <td>[0.4872, 0.5128]</td>\n",
       "      <td>[0.7327, 0.2673]</td>\n",
       "    </tr>\n",
       "    <tr>\n",
       "      <th>10</th>\n",
       "      <td>YouTube</td>\n",
       "      <td>[0.1818, 0.4118, 0.1879, 0.119, 0.069, 0.0305]</td>\n",
       "      <td>[0.4264, 0.5736]</td>\n",
       "      <td>[0.7531, 0.2469]</td>\n",
       "    </tr>\n",
       "    <tr>\n",
       "      <th>11</th>\n",
       "      <td>Rutube</td>\n",
       "      <td>[0.1597, 0.3538, 0.1829, 0.1432, 0.1102, 0.0502]</td>\n",
       "      <td>[0.4239, 0.5761]</td>\n",
       "      <td>[0.8178, 0.1822]</td>\n",
       "    </tr>\n",
       "    <tr>\n",
       "      <th>12</th>\n",
       "      <td>Ozon</td>\n",
       "      <td>[0.1457, 0.3764, 0.2212, 0.1416, 0.0823, 0.0329]</td>\n",
       "      <td>[0.4633, 0.5367]</td>\n",
       "      <td>[0.9361, 0.0639]</td>\n",
       "    </tr>\n",
       "    <tr>\n",
       "      <th>13</th>\n",
       "      <td>Avito</td>\n",
       "      <td>[0.1316, 0.3731, 0.2232, 0.15, 0.0882, 0.0339]</td>\n",
       "      <td>[0.4346, 0.5654]</td>\n",
       "      <td>[0.9573, 0.0427]</td>\n",
       "    </tr>\n",
       "    <tr>\n",
       "      <th>14</th>\n",
       "      <td>ЦИАН</td>\n",
       "      <td>[0.112, 0.3754, 0.2259, 0.1561, 0.0963, 0.0343]</td>\n",
       "      <td>[0.5155, 0.4845]</td>\n",
       "      <td>[0.9625, 0.0375]</td>\n",
       "    </tr>\n",
       "    <tr>\n",
       "      <th>15</th>\n",
       "      <td>Юла</td>\n",
       "      <td>[0.1427, 0.3792, 0.2166, 0.141, 0.0886, 0.0319]</td>\n",
       "      <td>[0.4282, 0.5718]</td>\n",
       "      <td>[0.9774, 0.02259]</td>\n",
       "    </tr>\n",
       "    <tr>\n",
       "      <th>16</th>\n",
       "      <td>Wildberries</td>\n",
       "      <td>[0.1446, 0.3722, 0.2167, 0.1429, 0.0898, 0.0337]</td>\n",
       "      <td>[0.5228, 0.4772]</td>\n",
       "      <td>[0.9216, 0.0784]</td>\n",
       "    </tr>\n",
       "    <tr>\n",
       "      <th>17</th>\n",
       "      <td>Wasd TV</td>\n",
       "      <td>[0.2726, 0.4071, 0.156, 0.0872, 0.05, 0.0272]</td>\n",
       "      <td>[0.2448, 0.7552]</td>\n",
       "      <td>[0.8434, 0.1566]</td>\n",
       "    </tr>\n",
       "    <tr>\n",
       "      <th>18</th>\n",
       "      <td>Good Game</td>\n",
       "      <td>[0.2494, 0.3979, 0.1575, 0.1009, 0.0614, 0.0329]</td>\n",
       "      <td>[0.2608, 0.7392]</td>\n",
       "      <td>[0.7995, 0.2005]</td>\n",
       "    </tr>\n",
       "    <tr>\n",
       "      <th>19</th>\n",
       "      <td>Likee</td>\n",
       "      <td>[0.293, 0.3272, 0.1615, 0.1001, 0.0712, 0.047]</td>\n",
       "      <td>[0.3812, 0.6188]</td>\n",
       "      <td>[0.1535, 0.8465]</td>\n",
       "    </tr>\n",
       "    <tr>\n",
       "      <th>20</th>\n",
       "      <td>Отзовик</td>\n",
       "      <td>[0.1273, 0.3688, 0.2221, 0.1506, 0.0918, 0.0394]</td>\n",
       "      <td>[0.5091, 0.4909]</td>\n",
       "      <td>[0.855, 0.145]</td>\n",
       "    </tr>\n",
       "    <tr>\n",
       "      <th>21</th>\n",
       "      <td>IVI</td>\n",
       "      <td>[0.2294, 0.3312, 0.1713, 0.125, 0.1015, 0.0416]</td>\n",
       "      <td>[0.5192, 0.4808]</td>\n",
       "      <td>[0.831, 0.169]</td>\n",
       "    </tr>\n",
       "    <tr>\n",
       "      <th>22</th>\n",
       "      <td>Кинопоиск</td>\n",
       "      <td>[0.2329, 0.3766, 0.1667, 0.1128, 0.074, 0.0369]</td>\n",
       "      <td>[0.4453, 0.5547]</td>\n",
       "      <td>[0.8551, 0.1449]</td>\n",
       "    </tr>\n",
       "    <tr>\n",
       "      <th>23</th>\n",
       "      <td>2ГИС</td>\n",
       "      <td>[0.126, 0.3768, 0.2247, 0.1524, 0.0877, 0.0324]</td>\n",
       "      <td>[0.4798, 0.5202]</td>\n",
       "      <td>[0.9746, 0.02539]</td>\n",
       "    </tr>\n",
       "    <tr>\n",
       "      <th>24</th>\n",
       "      <td>Биржа фриланса FL</td>\n",
       "      <td>[0.1757, 0.4779, 0.1765, 0.093, 0.053, 0.0239]</td>\n",
       "      <td>[0.3945, 0.6055]</td>\n",
       "      <td>[0.7649, 0.235]</td>\n",
       "    </tr>\n",
       "    <tr>\n",
       "      <th>25</th>\n",
       "      <td>Нетология</td>\n",
       "      <td>[0.1804, 0.464, 0.1841, 0.0992, 0.0503, 0.0221]</td>\n",
       "      <td>[0.4709, 0.5291]</td>\n",
       "      <td>[0.8287, 0.1703]</td>\n",
       "    </tr>\n",
       "  </tbody>\n",
       "</table>\n",
       "</div>"
      ],
      "text/plain": [
       "                 site                                               age  \\\n",
       "0                  VK  [0.1987, 0.3338, 0.1863, 0.1419, 0.0956, 0.0437]   \n",
       "1            TELEGRAM            [0.27, 0.38, 0.306, 0.213, 0.1, 0.085]   \n",
       "2       Одноклассники  [0.1647, 0.2854, 0.1959, 0.1605, 0.1307, 0.0628]   \n",
       "3      Яндекс Новости   [0.1522, 0.355, 0.2103, 0.1435, 0.0958, 0.0432]   \n",
       "4                 РБК  [0.1085, 0.3158, 0.2127, 0.1699, 0.1265, 0.0665]   \n",
       "5               VC.RU   [0.163, 0.4295, 0.1968, 0.1155, 0.0655, 0.0297]   \n",
       "6        НОВАЯ ГАЗЕТА  [0.1219, 0.2939, 0.1938, 0.1666, 0.1364, 0.0874]   \n",
       "7           Forbes RU   [0.113, 0.3217, 0.1977, 0.1623, 0.1321, 0.0731]   \n",
       "8                Хабр   [0.172, 0.4475, 0.1937, 0.1025, 0.0569, 0.0275]   \n",
       "9                 НОЖ   [0.1863, 0.352, 0.1804, 0.1461, 0.0948, 0.0403]   \n",
       "10            YouTube    [0.1818, 0.4118, 0.1879, 0.119, 0.069, 0.0305]   \n",
       "11             Rutube  [0.1597, 0.3538, 0.1829, 0.1432, 0.1102, 0.0502]   \n",
       "12               Ozon  [0.1457, 0.3764, 0.2212, 0.1416, 0.0823, 0.0329]   \n",
       "13              Avito    [0.1316, 0.3731, 0.2232, 0.15, 0.0882, 0.0339]   \n",
       "14               ЦИАН   [0.112, 0.3754, 0.2259, 0.1561, 0.0963, 0.0343]   \n",
       "15                Юла   [0.1427, 0.3792, 0.2166, 0.141, 0.0886, 0.0319]   \n",
       "16        Wildberries  [0.1446, 0.3722, 0.2167, 0.1429, 0.0898, 0.0337]   \n",
       "17            Wasd TV     [0.2726, 0.4071, 0.156, 0.0872, 0.05, 0.0272]   \n",
       "18          Good Game  [0.2494, 0.3979, 0.1575, 0.1009, 0.0614, 0.0329]   \n",
       "19              Likee    [0.293, 0.3272, 0.1615, 0.1001, 0.0712, 0.047]   \n",
       "20            Отзовик  [0.1273, 0.3688, 0.2221, 0.1506, 0.0918, 0.0394]   \n",
       "21                IVI   [0.2294, 0.3312, 0.1713, 0.125, 0.1015, 0.0416]   \n",
       "22          Кинопоиск   [0.2329, 0.3766, 0.1667, 0.1128, 0.074, 0.0369]   \n",
       "23               2ГИС   [0.126, 0.3768, 0.2247, 0.1524, 0.0877, 0.0324]   \n",
       "24  Биржа фриланса FL    [0.1757, 0.4779, 0.1765, 0.093, 0.053, 0.0239]   \n",
       "25          Нетология   [0.1804, 0.464, 0.1841, 0.0992, 0.0503, 0.0221]   \n",
       "\n",
       "              gender           resident  \n",
       "0   [0.4437, 0.5563]   [0.8238, 0.1762]  \n",
       "1       [0.39, 0.61]         [0.6, 0.4]  \n",
       "2   [0.5079, 0.4921]     [0.735, 0.265]  \n",
       "3   [0.4604, 0.5396]    [0.9169, 0.083]  \n",
       "4   [0.4311, 0.5689]     [0.8897, 0.11]  \n",
       "5   [0.3912, 0.6088]   [0.6725, 0.3275]  \n",
       "6   [0.4124, 0.5876]   [0.5999, 0.4001]  \n",
       "7   [0.4135, 0.5865]   [0.7966, 0.2034]  \n",
       "8     [0.301, 0.699]   [0.6852, 0.3148]  \n",
       "9   [0.4872, 0.5128]   [0.7327, 0.2673]  \n",
       "10  [0.4264, 0.5736]   [0.7531, 0.2469]  \n",
       "11  [0.4239, 0.5761]   [0.8178, 0.1822]  \n",
       "12  [0.4633, 0.5367]   [0.9361, 0.0639]  \n",
       "13  [0.4346, 0.5654]   [0.9573, 0.0427]  \n",
       "14  [0.5155, 0.4845]   [0.9625, 0.0375]  \n",
       "15  [0.4282, 0.5718]  [0.9774, 0.02259]  \n",
       "16  [0.5228, 0.4772]   [0.9216, 0.0784]  \n",
       "17  [0.2448, 0.7552]   [0.8434, 0.1566]  \n",
       "18  [0.2608, 0.7392]   [0.7995, 0.2005]  \n",
       "19  [0.3812, 0.6188]   [0.1535, 0.8465]  \n",
       "20  [0.5091, 0.4909]     [0.855, 0.145]  \n",
       "21  [0.5192, 0.4808]     [0.831, 0.169]  \n",
       "22  [0.4453, 0.5547]   [0.8551, 0.1449]  \n",
       "23  [0.4798, 0.5202]  [0.9746, 0.02539]  \n",
       "24  [0.3945, 0.6055]    [0.7649, 0.235]  \n",
       "25  [0.4709, 0.5291]   [0.8287, 0.1703]  "
      ]
     },
     "execution_count": 180,
     "metadata": {},
     "output_type": "execute_result"
    }
   ],
   "source": [
    "data_media"
   ]
  },
  {
   "cell_type": "code",
   "execution_count": 82,
   "metadata": {
    "id": "tl8TSLoDYc0T"
   },
   "outputs": [],
   "source": [
    "df_cross = df.merge(data_media, how='cross')"
   ]
  },
  {
   "cell_type": "code",
   "execution_count": 83,
   "metadata": {
    "id": "MZxTPNOdB7oE"
   },
   "outputs": [],
   "source": [
    "## расстояние между распределениями \n",
    "import numpy as np\n",
    "import sklearn\n",
    "from sklearn import metrics\n",
    "from scipy.stats import entropy\n",
    "def KL(a, b):\n",
    "  if len(a) == len(b):\n",
    "   return (entropy(a, qk=b))\n",
    "  else: \n",
    "    a.append(0)\n",
    "    return (entropy(a, qk=b))\n",
    "    # a = np.asarray(a, dtype=np.float)\n",
    "    # b = np.asarray(b, dtype=np.float)\n",
    "    # return sklearn.metrics.mutual_info_score(a,b)\n",
    "\n",
    "    #return np.sum(np.where(a != 0, a * np.log(a / b), 0))"
   ]
  },
  {
   "cell_type": "code",
   "execution_count": 91,
   "metadata": {
    "id": "93g8GUrMUNd5"
   },
   "outputs": [],
   "source": [
    "df_cross['age_diff'] = df_cross.apply(lambda x: KL(x['age_cluster'], x['age']), axis=1)\n",
    "df_cross['gender_diff'] = df_cross.apply(lambda x: KL( x['gender_cluster'], x['gender']), axis=1)\n",
    "df_cross['res_diff'] = df_cross.apply(lambda x: KL(x['residents_cluster'], x['resident']), axis=1)"
   ]
  },
  {
   "cell_type": "code",
   "execution_count": 92,
   "metadata": {
    "colab": {
     "base_uri": "https://localhost:8080/",
     "height": 1000
    },
    "id": "-wbVHq47VHZI",
    "outputId": "2e4f2162-4e69-496e-a0d0-f0cfbea7b6fd"
   },
   "outputs": [
    {
     "data": {
      "text/html": [
       "<div>\n",
       "<style scoped>\n",
       "    .dataframe tbody tr th:only-of-type {\n",
       "        vertical-align: middle;\n",
       "    }\n",
       "\n",
       "    .dataframe tbody tr th {\n",
       "        vertical-align: top;\n",
       "    }\n",
       "\n",
       "    .dataframe thead th {\n",
       "        text-align: right;\n",
       "    }\n",
       "</style>\n",
       "<table border=\"1\" class=\"dataframe\">\n",
       "  <thead>\n",
       "    <tr style=\"text-align: right;\">\n",
       "      <th></th>\n",
       "      <th>cluster</th>\n",
       "      <th>age_cluster</th>\n",
       "      <th>gender_cluster</th>\n",
       "      <th>residents_cluster</th>\n",
       "      <th>site</th>\n",
       "      <th>age</th>\n",
       "      <th>gender</th>\n",
       "      <th>resident</th>\n",
       "      <th>age_diff</th>\n",
       "      <th>gender_diff</th>\n",
       "      <th>res_diff</th>\n",
       "      <th>total_diff</th>\n",
       "    </tr>\n",
       "  </thead>\n",
       "  <tbody>\n",
       "    <tr>\n",
       "      <th>14</th>\n",
       "      <td>Кластер 1</td>\n",
       "      <td>[0.09399680774237469, 0.22218849039332847, 0.2...</td>\n",
       "      <td>[0.5472131411001949, 0.452786858899805]</td>\n",
       "      <td>[0.9793993630761814, 0.020600636923818666]</td>\n",
       "      <td>ЦИАН</td>\n",
       "      <td>[0.112, 0.3754, 0.2259, 0.1561, 0.0963, 0.0343]</td>\n",
       "      <td>[0.5155, 0.4845]</td>\n",
       "      <td>[0.9625, 0.0375]</td>\n",
       "      <td>0.101697</td>\n",
       "      <td>0.002017</td>\n",
       "      <td>0.004707</td>\n",
       "      <td>0.108421</td>\n",
       "    </tr>\n",
       "    <tr>\n",
       "      <th>23</th>\n",
       "      <td>Кластер 1</td>\n",
       "      <td>[0.09399680774237469, 0.22218849039332847, 0.2...</td>\n",
       "      <td>[0.5472131411001949, 0.452786858899805]</td>\n",
       "      <td>[0.9793993630761814, 0.020600636923818666]</td>\n",
       "      <td>2ГИС</td>\n",
       "      <td>[0.126, 0.3768, 0.2247, 0.1524, 0.0877, 0.0324]</td>\n",
       "      <td>[0.4798, 0.5202]</td>\n",
       "      <td>[0.9746, 0.02539]</td>\n",
       "      <td>0.114922</td>\n",
       "      <td>0.009098</td>\n",
       "      <td>0.000495</td>\n",
       "      <td>0.124515</td>\n",
       "    </tr>\n",
       "    <tr>\n",
       "      <th>13</th>\n",
       "      <td>Кластер 1</td>\n",
       "      <td>[0.09399680774237469, 0.22218849039332847, 0.2...</td>\n",
       "      <td>[0.5472131411001949, 0.452786858899805]</td>\n",
       "      <td>[0.9793993630761814, 0.020600636923818666]</td>\n",
       "      <td>Avito</td>\n",
       "      <td>[0.1316, 0.3731, 0.2232, 0.15, 0.0882, 0.0339]</td>\n",
       "      <td>[0.4346, 0.5654]</td>\n",
       "      <td>[0.9573, 0.0427]</td>\n",
       "      <td>0.116913</td>\n",
       "      <td>0.025515</td>\n",
       "      <td>0.007337</td>\n",
       "      <td>0.149765</td>\n",
       "    </tr>\n",
       "    <tr>\n",
       "      <th>15</th>\n",
       "      <td>Кластер 1</td>\n",
       "      <td>[0.09399680774237469, 0.22218849039332847, 0.2...</td>\n",
       "      <td>[0.5472131411001949, 0.452786858899805]</td>\n",
       "      <td>[0.9793993630761814, 0.020600636923818666]</td>\n",
       "      <td>Юла</td>\n",
       "      <td>[0.1427, 0.3792, 0.2166, 0.141, 0.0886, 0.0319]</td>\n",
       "      <td>[0.4282, 0.5718]</td>\n",
       "      <td>[0.9774, 0.02259]</td>\n",
       "      <td>0.127755</td>\n",
       "      <td>0.028537</td>\n",
       "      <td>0.000092</td>\n",
       "      <td>0.156385</td>\n",
       "    </tr>\n",
       "    <tr>\n",
       "      <th>16</th>\n",
       "      <td>Кластер 1</td>\n",
       "      <td>[0.09399680774237469, 0.22218849039332847, 0.2...</td>\n",
       "      <td>[0.5472131411001949, 0.452786858899805]</td>\n",
       "      <td>[0.9793993630761814, 0.020600636923818666]</td>\n",
       "      <td>Wildberries</td>\n",
       "      <td>[0.1446, 0.3722, 0.2167, 0.1429, 0.0898, 0.0337]</td>\n",
       "      <td>[0.5228, 0.4772]</td>\n",
       "      <td>[0.9216, 0.0784]</td>\n",
       "      <td>0.124114</td>\n",
       "      <td>0.001197</td>\n",
       "      <td>0.032042</td>\n",
       "      <td>0.157353</td>\n",
       "    </tr>\n",
       "    <tr>\n",
       "      <th>4</th>\n",
       "      <td>Кластер 1</td>\n",
       "      <td>[0.09399680774237469, 0.22218849039332847, 0.2...</td>\n",
       "      <td>[0.5472131411001949, 0.452786858899805]</td>\n",
       "      <td>[0.9793993630761814, 0.020600636923818666]</td>\n",
       "      <td>РБК</td>\n",
       "      <td>[0.1085, 0.3158, 0.2127, 0.1699, 0.1265, 0.0665]</td>\n",
       "      <td>[0.4311, 0.5689]</td>\n",
       "      <td>[0.8897, 0.11]</td>\n",
       "      <td>0.079358</td>\n",
       "      <td>0.027146</td>\n",
       "      <td>0.059267</td>\n",
       "      <td>0.165770</td>\n",
       "    </tr>\n",
       "    <tr>\n",
       "      <th>12</th>\n",
       "      <td>Кластер 1</td>\n",
       "      <td>[0.09399680774237469, 0.22218849039332847, 0.2...</td>\n",
       "      <td>[0.5472131411001949, 0.452786858899805]</td>\n",
       "      <td>[0.9793993630761814, 0.020600636923818666]</td>\n",
       "      <td>Ozon</td>\n",
       "      <td>[0.1457, 0.3764, 0.2212, 0.1416, 0.0823, 0.0329]</td>\n",
       "      <td>[0.4633, 0.5367]</td>\n",
       "      <td>[0.9361, 0.0639]</td>\n",
       "      <td>0.134736</td>\n",
       "      <td>0.014109</td>\n",
       "      <td>0.020966</td>\n",
       "      <td>0.169811</td>\n",
       "    </tr>\n",
       "    <tr>\n",
       "      <th>3</th>\n",
       "      <td>Кластер 1</td>\n",
       "      <td>[0.09399680774237469, 0.22218849039332847, 0.2...</td>\n",
       "      <td>[0.5472131411001949, 0.452786858899805]</td>\n",
       "      <td>[0.9793993630761814, 0.020600636923818666]</td>\n",
       "      <td>Яндекс Новости</td>\n",
       "      <td>[0.1522, 0.355, 0.2103, 0.1435, 0.0958, 0.0432]</td>\n",
       "      <td>[0.4604, 0.5396]</td>\n",
       "      <td>[0.9169, 0.083]</td>\n",
       "      <td>0.121481</td>\n",
       "      <td>0.015105</td>\n",
       "      <td>0.035775</td>\n",
       "      <td>0.172362</td>\n",
       "    </tr>\n",
       "    <tr>\n",
       "      <th>20</th>\n",
       "      <td>Кластер 1</td>\n",
       "      <td>[0.09399680774237469, 0.22218849039332847, 0.2...</td>\n",
       "      <td>[0.5472131411001949, 0.452786858899805]</td>\n",
       "      <td>[0.9793993630761814, 0.020600636923818666]</td>\n",
       "      <td>Отзовик</td>\n",
       "      <td>[0.1273, 0.3688, 0.2221, 0.1506, 0.0918, 0.0394]</td>\n",
       "      <td>[0.5091, 0.4909]</td>\n",
       "      <td>[0.855, 0.145]</td>\n",
       "      <td>0.113738</td>\n",
       "      <td>0.002912</td>\n",
       "      <td>0.092839</td>\n",
       "      <td>0.209489</td>\n",
       "    </tr>\n",
       "    <tr>\n",
       "      <th>7</th>\n",
       "      <td>Кластер 1</td>\n",
       "      <td>[0.09399680774237469, 0.22218849039332847, 0.2...</td>\n",
       "      <td>[0.5472131411001949, 0.452786858899805]</td>\n",
       "      <td>[0.9793993630761814, 0.020600636923818666]</td>\n",
       "      <td>Forbes RU</td>\n",
       "      <td>[0.113, 0.3217, 0.1977, 0.1623, 0.1321, 0.0731]</td>\n",
       "      <td>[0.4135, 0.5865]</td>\n",
       "      <td>[0.7966, 0.2034]</td>\n",
       "      <td>0.091309</td>\n",
       "      <td>0.036160</td>\n",
       "      <td>0.155159</td>\n",
       "      <td>0.282627</td>\n",
       "    </tr>\n",
       "    <tr>\n",
       "      <th>11</th>\n",
       "      <td>Кластер 1</td>\n",
       "      <td>[0.09399680774237469, 0.22218849039332847, 0.2...</td>\n",
       "      <td>[0.5472131411001949, 0.452786858899805]</td>\n",
       "      <td>[0.9793993630761814, 0.020600636923818666]</td>\n",
       "      <td>Rutube</td>\n",
       "      <td>[0.1597, 0.3538, 0.1829, 0.1432, 0.1102, 0.0502]</td>\n",
       "      <td>[0.4239, 0.5761]</td>\n",
       "      <td>[0.8178, 0.1822]</td>\n",
       "      <td>0.124924</td>\n",
       "      <td>0.030668</td>\n",
       "      <td>0.131702</td>\n",
       "      <td>0.287293</td>\n",
       "    </tr>\n",
       "    <tr>\n",
       "      <th>0</th>\n",
       "      <td>Кластер 1</td>\n",
       "      <td>[0.09399680774237469, 0.22218849039332847, 0.2...</td>\n",
       "      <td>[0.5472131411001949, 0.452786858899805]</td>\n",
       "      <td>[0.9793993630761814, 0.020600636923818666]</td>\n",
       "      <td>VK</td>\n",
       "      <td>[0.1987, 0.3338, 0.1863, 0.1419, 0.0956, 0.0437]</td>\n",
       "      <td>[0.4437, 0.5563]</td>\n",
       "      <td>[0.8238, 0.1762]</td>\n",
       "      <td>0.142981</td>\n",
       "      <td>0.021522</td>\n",
       "      <td>0.125232</td>\n",
       "      <td>0.289736</td>\n",
       "    </tr>\n",
       "    <tr>\n",
       "      <th>21</th>\n",
       "      <td>Кластер 1</td>\n",
       "      <td>[0.09399680774237469, 0.22218849039332847, 0.2...</td>\n",
       "      <td>[0.5472131411001949, 0.452786858899805]</td>\n",
       "      <td>[0.9793993630761814, 0.020600636923818666]</td>\n",
       "      <td>IVI</td>\n",
       "      <td>[0.2294, 0.3312, 0.1713, 0.125, 0.1015, 0.0416]</td>\n",
       "      <td>[0.5192, 0.4808]</td>\n",
       "      <td>[0.831, 0.169]</td>\n",
       "      <td>0.171684</td>\n",
       "      <td>0.001575</td>\n",
       "      <td>0.117569</td>\n",
       "      <td>0.290828</td>\n",
       "    </tr>\n",
       "    <tr>\n",
       "      <th>2</th>\n",
       "      <td>Кластер 1</td>\n",
       "      <td>[0.09399680774237469, 0.22218849039332847, 0.2...</td>\n",
       "      <td>[0.5472131411001949, 0.452786858899805]</td>\n",
       "      <td>[0.9793993630761814, 0.020600636923818666]</td>\n",
       "      <td>Одноклассники</td>\n",
       "      <td>[0.1647, 0.2854, 0.1959, 0.1605, 0.1307, 0.0628]</td>\n",
       "      <td>[0.5079, 0.4921]</td>\n",
       "      <td>[0.735, 0.265]</td>\n",
       "      <td>0.091214</td>\n",
       "      <td>0.003098</td>\n",
       "      <td>0.228533</td>\n",
       "      <td>0.322844</td>\n",
       "    </tr>\n",
       "    <tr>\n",
       "      <th>22</th>\n",
       "      <td>Кластер 1</td>\n",
       "      <td>[0.09399680774237469, 0.22218849039332847, 0.2...</td>\n",
       "      <td>[0.5472131411001949, 0.452786858899805]</td>\n",
       "      <td>[0.9793993630761814, 0.020600636923818666]</td>\n",
       "      <td>Кинопоиск</td>\n",
       "      <td>[0.2329, 0.3766, 0.1667, 0.1128, 0.074, 0.0369]</td>\n",
       "      <td>[0.4453, 0.5547]</td>\n",
       "      <td>[0.8551, 0.1449]</td>\n",
       "      <td>0.233133</td>\n",
       "      <td>0.020857</td>\n",
       "      <td>0.092739</td>\n",
       "      <td>0.346729</td>\n",
       "    </tr>\n",
       "    <tr>\n",
       "      <th>9</th>\n",
       "      <td>Кластер 1</td>\n",
       "      <td>[0.09399680774237469, 0.22218849039332847, 0.2...</td>\n",
       "      <td>[0.5472131411001949, 0.452786858899805]</td>\n",
       "      <td>[0.9793993630761814, 0.020600636923818666]</td>\n",
       "      <td>НОЖ</td>\n",
       "      <td>[0.1863, 0.352, 0.1804, 0.1461, 0.0948, 0.0403]</td>\n",
       "      <td>[0.4872, 0.5128]</td>\n",
       "      <td>[0.7327, 0.2673]</td>\n",
       "      <td>0.140586</td>\n",
       "      <td>0.007210</td>\n",
       "      <td>0.231424</td>\n",
       "      <td>0.379221</td>\n",
       "    </tr>\n",
       "    <tr>\n",
       "      <th>30</th>\n",
       "      <td>Кластер 0</td>\n",
       "      <td>[0.006620428751576293, 0.12042875157629256, 0....</td>\n",
       "      <td>[0.4588574423480084, 0.5411425576519916]</td>\n",
       "      <td>[0.9787735849056604, 0.02122641509433962]</td>\n",
       "      <td>РБК</td>\n",
       "      <td>[0.1085, 0.3158, 0.2127, 0.1699, 0.1265, 0.0665]</td>\n",
       "      <td>[0.4311, 0.5689]</td>\n",
       "      <td>[0.8897, 0.11]</td>\n",
       "      <td>0.334407</td>\n",
       "      <td>0.001563</td>\n",
       "      <td>0.058168</td>\n",
       "      <td>0.394139</td>\n",
       "    </tr>\n",
       "    <tr>\n",
       "      <th>40</th>\n",
       "      <td>Кластер 0</td>\n",
       "      <td>[0.006620428751576293, 0.12042875157629256, 0....</td>\n",
       "      <td>[0.4588574423480084, 0.5411425576519916]</td>\n",
       "      <td>[0.9787735849056604, 0.02122641509433962]</td>\n",
       "      <td>ЦИАН</td>\n",
       "      <td>[0.112, 0.3754, 0.2259, 0.1561, 0.0963, 0.0343]</td>\n",
       "      <td>[0.5155, 0.4845]</td>\n",
       "      <td>[0.9625, 0.0375]</td>\n",
       "      <td>0.408448</td>\n",
       "      <td>0.006422</td>\n",
       "      <td>0.004331</td>\n",
       "      <td>0.419200</td>\n",
       "    </tr>\n",
       "    <tr>\n",
       "      <th>25</th>\n",
       "      <td>Кластер 1</td>\n",
       "      <td>[0.09399680774237469, 0.22218849039332847, 0.2...</td>\n",
       "      <td>[0.5472131411001949, 0.452786858899805]</td>\n",
       "      <td>[0.9793993630761814, 0.020600636923818666]</td>\n",
       "      <td>Нетология</td>\n",
       "      <td>[0.1804, 0.464, 0.1841, 0.0992, 0.0503, 0.0221]</td>\n",
       "      <td>[0.4709, 0.5291]</td>\n",
       "      <td>[0.8287, 0.1703]</td>\n",
       "      <td>0.294859</td>\n",
       "      <td>0.011663</td>\n",
       "      <td>0.119125</td>\n",
       "      <td>0.425648</td>\n",
       "    </tr>\n",
       "    <tr>\n",
       "      <th>10</th>\n",
       "      <td>Кластер 1</td>\n",
       "      <td>[0.09399680774237469, 0.22218849039332847, 0.2...</td>\n",
       "      <td>[0.5472131411001949, 0.452786858899805]</td>\n",
       "      <td>[0.9793993630761814, 0.020600636923818666]</td>\n",
       "      <td>YouTube</td>\n",
       "      <td>[0.1818, 0.4118, 0.1879, 0.119, 0.069, 0.0305]</td>\n",
       "      <td>[0.4264, 0.5736]</td>\n",
       "      <td>[0.7531, 0.2469]</td>\n",
       "      <td>0.209456</td>\n",
       "      <td>0.029419</td>\n",
       "      <td>0.206164</td>\n",
       "      <td>0.445039</td>\n",
       "    </tr>\n",
       "    <tr>\n",
       "      <th>49</th>\n",
       "      <td>Кластер 0</td>\n",
       "      <td>[0.006620428751576293, 0.12042875157629256, 0....</td>\n",
       "      <td>[0.4588574423480084, 0.5411425576519916]</td>\n",
       "      <td>[0.9787735849056604, 0.02122641509433962]</td>\n",
       "      <td>2ГИС</td>\n",
       "      <td>[0.126, 0.3768, 0.2247, 0.1524, 0.0877, 0.0324]</td>\n",
       "      <td>[0.4798, 0.5202]</td>\n",
       "      <td>[0.9746, 0.02539]</td>\n",
       "      <td>0.444120</td>\n",
       "      <td>0.000880</td>\n",
       "      <td>0.000371</td>\n",
       "      <td>0.445370</td>\n",
       "    </tr>\n",
       "    <tr>\n",
       "      <th>39</th>\n",
       "      <td>Кластер 0</td>\n",
       "      <td>[0.006620428751576293, 0.12042875157629256, 0....</td>\n",
       "      <td>[0.4588574423480084, 0.5411425576519916]</td>\n",
       "      <td>[0.9787735849056604, 0.02122641509433962]</td>\n",
       "      <td>Avito</td>\n",
       "      <td>[0.1316, 0.3731, 0.2232, 0.15, 0.0882, 0.0339]</td>\n",
       "      <td>[0.4346, 0.5654]</td>\n",
       "      <td>[0.9573, 0.0427]</td>\n",
       "      <td>0.449456</td>\n",
       "      <td>0.001193</td>\n",
       "      <td>0.006876</td>\n",
       "      <td>0.457525</td>\n",
       "    </tr>\n",
       "    <tr>\n",
       "      <th>41</th>\n",
       "      <td>Кластер 0</td>\n",
       "      <td>[0.006620428751576293, 0.12042875157629256, 0....</td>\n",
       "      <td>[0.4588574423480084, 0.5411425576519916]</td>\n",
       "      <td>[0.9787735849056604, 0.02122641509433962]</td>\n",
       "      <td>Юла</td>\n",
       "      <td>[0.1427, 0.3792, 0.2166, 0.141, 0.0886, 0.0319]</td>\n",
       "      <td>[0.4282, 0.5718]</td>\n",
       "      <td>[0.9774, 0.02259]</td>\n",
       "      <td>0.472400</td>\n",
       "      <td>0.001909</td>\n",
       "      <td>0.000043</td>\n",
       "      <td>0.474352</td>\n",
       "    </tr>\n",
       "    <tr>\n",
       "      <th>29</th>\n",
       "      <td>Кластер 0</td>\n",
       "      <td>[0.006620428751576293, 0.12042875157629256, 0....</td>\n",
       "      <td>[0.4588574423480084, 0.5411425576519916]</td>\n",
       "      <td>[0.9787735849056604, 0.02122641509433962]</td>\n",
       "      <td>Яндекс Новости</td>\n",
       "      <td>[0.1522, 0.355, 0.2103, 0.1435, 0.0958, 0.0432]</td>\n",
       "      <td>[0.4604, 0.5396]</td>\n",
       "      <td>[0.9169, 0.083]</td>\n",
       "      <td>0.457166</td>\n",
       "      <td>0.000005</td>\n",
       "      <td>0.034872</td>\n",
       "      <td>0.492042</td>\n",
       "    </tr>\n",
       "    <tr>\n",
       "      <th>42</th>\n",
       "      <td>Кластер 0</td>\n",
       "      <td>[0.006620428751576293, 0.12042875157629256, 0....</td>\n",
       "      <td>[0.4588574423480084, 0.5411425576519916]</td>\n",
       "      <td>[0.9787735849056604, 0.02122641509433962]</td>\n",
       "      <td>Wildberries</td>\n",
       "      <td>[0.1446, 0.3722, 0.2167, 0.1429, 0.0898, 0.0337]</td>\n",
       "      <td>[0.5228, 0.4772]</td>\n",
       "      <td>[0.9216, 0.0784]</td>\n",
       "      <td>0.465969</td>\n",
       "      <td>0.008185</td>\n",
       "      <td>0.031177</td>\n",
       "      <td>0.505332</td>\n",
       "    </tr>\n",
       "    <tr>\n",
       "      <th>38</th>\n",
       "      <td>Кластер 0</td>\n",
       "      <td>[0.006620428751576293, 0.12042875157629256, 0....</td>\n",
       "      <td>[0.4588574423480084, 0.5411425576519916]</td>\n",
       "      <td>[0.9787735849056604, 0.02122641509433962]</td>\n",
       "      <td>Ozon</td>\n",
       "      <td>[0.1457, 0.3764, 0.2212, 0.1416, 0.0823, 0.0329]</td>\n",
       "      <td>[0.4633, 0.5367]</td>\n",
       "      <td>[0.9361, 0.0639]</td>\n",
       "      <td>0.488101</td>\n",
       "      <td>0.000040</td>\n",
       "      <td>0.020239</td>\n",
       "      <td>0.508379</td>\n",
       "    </tr>\n",
       "    <tr>\n",
       "      <th>33</th>\n",
       "      <td>Кластер 0</td>\n",
       "      <td>[0.006620428751576293, 0.12042875157629256, 0....</td>\n",
       "      <td>[0.4588574423480084, 0.5411425576519916]</td>\n",
       "      <td>[0.9787735849056604, 0.02122641509433962]</td>\n",
       "      <td>Forbes RU</td>\n",
       "      <td>[0.113, 0.3217, 0.1977, 0.1623, 0.1321, 0.0731]</td>\n",
       "      <td>[0.4135, 0.5865]</td>\n",
       "      <td>[0.7966, 0.2034]</td>\n",
       "      <td>0.351625</td>\n",
       "      <td>0.004202</td>\n",
       "      <td>0.153606</td>\n",
       "      <td>0.509434</td>\n",
       "    </tr>\n",
       "    <tr>\n",
       "      <th>46</th>\n",
       "      <td>Кластер 0</td>\n",
       "      <td>[0.006620428751576293, 0.12042875157629256, 0....</td>\n",
       "      <td>[0.4588574423480084, 0.5411425576519916]</td>\n",
       "      <td>[0.9787735849056604, 0.02122641509433962]</td>\n",
       "      <td>Отзовик</td>\n",
       "      <td>[0.1273, 0.3688, 0.2221, 0.1506, 0.0918, 0.0394]</td>\n",
       "      <td>[0.5091, 0.4909]</td>\n",
       "      <td>[0.855, 0.145]</td>\n",
       "      <td>0.438147</td>\n",
       "      <td>0.005053</td>\n",
       "      <td>0.091543</td>\n",
       "      <td>0.534743</td>\n",
       "    </tr>\n",
       "    <tr>\n",
       "      <th>24</th>\n",
       "      <td>Кластер 1</td>\n",
       "      <td>[0.09399680774237469, 0.22218849039332847, 0.2...</td>\n",
       "      <td>[0.5472131411001949, 0.452786858899805]</td>\n",
       "      <td>[0.9793993630761814, 0.020600636923818666]</td>\n",
       "      <td>Биржа фриланса FL</td>\n",
       "      <td>[0.1757, 0.4779, 0.1765, 0.093, 0.053, 0.0239]</td>\n",
       "      <td>[0.3945, 0.6055]</td>\n",
       "      <td>[0.7649, 0.235]</td>\n",
       "      <td>0.305919</td>\n",
       "      <td>0.047464</td>\n",
       "      <td>0.191855</td>\n",
       "      <td>0.545237</td>\n",
       "    </tr>\n",
       "    <tr>\n",
       "      <th>6</th>\n",
       "      <td>Кластер 1</td>\n",
       "      <td>[0.09399680774237469, 0.22218849039332847, 0.2...</td>\n",
       "      <td>[0.5472131411001949, 0.452786858899805]</td>\n",
       "      <td>[0.9793993630761814, 0.020600636923818666]</td>\n",
       "      <td>НОВАЯ ГАЗЕТА</td>\n",
       "      <td>[0.1219, 0.2939, 0.1938, 0.1666, 0.1364, 0.0874]</td>\n",
       "      <td>[0.4124, 0.5876]</td>\n",
       "      <td>[0.5999, 0.4001]</td>\n",
       "      <td>0.095060</td>\n",
       "      <td>0.036769</td>\n",
       "      <td>0.418969</td>\n",
       "      <td>0.550797</td>\n",
       "    </tr>\n",
       "    <tr>\n",
       "      <th>5</th>\n",
       "      <td>Кластер 1</td>\n",
       "      <td>[0.09399680774237469, 0.22218849039332847, 0.2...</td>\n",
       "      <td>[0.5472131411001949, 0.452786858899805]</td>\n",
       "      <td>[0.9793993630761814, 0.020600636923818666]</td>\n",
       "      <td>VC.RU</td>\n",
       "      <td>[0.163, 0.4295, 0.1968, 0.1155, 0.0655, 0.0297]</td>\n",
       "      <td>[0.3912, 0.6088]</td>\n",
       "      <td>[0.6725, 0.3275]</td>\n",
       "      <td>0.216073</td>\n",
       "      <td>0.049600</td>\n",
       "      <td>0.311208</td>\n",
       "      <td>0.576881</td>\n",
       "    </tr>\n",
       "    <tr>\n",
       "      <th>37</th>\n",
       "      <td>Кластер 0</td>\n",
       "      <td>[0.006620428751576293, 0.12042875157629256, 0....</td>\n",
       "      <td>[0.4588574423480084, 0.5411425576519916]</td>\n",
       "      <td>[0.9787735849056604, 0.02122641509433962]</td>\n",
       "      <td>Rutube</td>\n",
       "      <td>[0.1597, 0.3538, 0.1829, 0.1432, 0.1102, 0.0502]</td>\n",
       "      <td>[0.4239, 0.5761]</td>\n",
       "      <td>[0.8178, 0.1822]</td>\n",
       "      <td>0.452992</td>\n",
       "      <td>0.002486</td>\n",
       "      <td>0.130235</td>\n",
       "      <td>0.585713</td>\n",
       "    </tr>\n",
       "    <tr>\n",
       "      <th>28</th>\n",
       "      <td>Кластер 0</td>\n",
       "      <td>[0.006620428751576293, 0.12042875157629256, 0....</td>\n",
       "      <td>[0.4588574423480084, 0.5411425576519916]</td>\n",
       "      <td>[0.9787735849056604, 0.02122641509433962]</td>\n",
       "      <td>Одноклассники</td>\n",
       "      <td>[0.1647, 0.2854, 0.1959, 0.1605, 0.1307, 0.0628]</td>\n",
       "      <td>[0.5079, 0.4921]</td>\n",
       "      <td>[0.735, 0.265]</td>\n",
       "      <td>0.373753</td>\n",
       "      <td>0.004814</td>\n",
       "      <td>0.226764</td>\n",
       "      <td>0.605331</td>\n",
       "    </tr>\n",
       "    <tr>\n",
       "      <th>1</th>\n",
       "      <td>Кластер 1</td>\n",
       "      <td>[0.09399680774237469, 0.22218849039332847, 0.2...</td>\n",
       "      <td>[0.5472131411001949, 0.452786858899805]</td>\n",
       "      <td>[0.9793993630761814, 0.020600636923818666]</td>\n",
       "      <td>TELEGRAM</td>\n",
       "      <td>[0.27, 0.38, 0.306, 0.213, 0.1, 0.085]</td>\n",
       "      <td>[0.39, 0.61]</td>\n",
       "      <td>[0.6, 0.4]</td>\n",
       "      <td>0.152818</td>\n",
       "      <td>0.050389</td>\n",
       "      <td>0.418811</td>\n",
       "      <td>0.622018</td>\n",
       "    </tr>\n",
       "    <tr>\n",
       "      <th>26</th>\n",
       "      <td>Кластер 0</td>\n",
       "      <td>[0.006620428751576293, 0.12042875157629256, 0....</td>\n",
       "      <td>[0.4588574423480084, 0.5411425576519916]</td>\n",
       "      <td>[0.9787735849056604, 0.02122641509433962]</td>\n",
       "      <td>VK</td>\n",
       "      <td>[0.1987, 0.3338, 0.1863, 0.1419, 0.0956, 0.0437]</td>\n",
       "      <td>[0.4437, 0.5563]</td>\n",
       "      <td>[0.8238, 0.1762]</td>\n",
       "      <td>0.499759</td>\n",
       "      <td>0.000464</td>\n",
       "      <td>0.123791</td>\n",
       "      <td>0.624014</td>\n",
       "    </tr>\n",
       "    <tr>\n",
       "      <th>18</th>\n",
       "      <td>Кластер 1</td>\n",
       "      <td>[0.09399680774237469, 0.22218849039332847, 0.2...</td>\n",
       "      <td>[0.5472131411001949, 0.452786858899805]</td>\n",
       "      <td>[0.9793993630761814, 0.020600636923818666]</td>\n",
       "      <td>Good Game</td>\n",
       "      <td>[0.2494, 0.3979, 0.1575, 0.1009, 0.0614, 0.0329]</td>\n",
       "      <td>[0.2608, 0.7392]</td>\n",
       "      <td>[0.7995, 0.2005]</td>\n",
       "      <td>0.291336</td>\n",
       "      <td>0.183599</td>\n",
       "      <td>0.151895</td>\n",
       "      <td>0.626830</td>\n",
       "    </tr>\n",
       "    <tr>\n",
       "      <th>47</th>\n",
       "      <td>Кластер 0</td>\n",
       "      <td>[0.006620428751576293, 0.12042875157629256, 0....</td>\n",
       "      <td>[0.4588574423480084, 0.5411425576519916]</td>\n",
       "      <td>[0.9787735849056604, 0.02122641509433962]</td>\n",
       "      <td>IVI</td>\n",
       "      <td>[0.2294, 0.3312, 0.1713, 0.125, 0.1015, 0.0416]</td>\n",
       "      <td>[0.5192, 0.4808]</td>\n",
       "      <td>[0.831, 0.169]</td>\n",
       "      <td>0.542289</td>\n",
       "      <td>0.007288</td>\n",
       "      <td>0.116159</td>\n",
       "      <td>0.665736</td>\n",
       "    </tr>\n",
       "    <tr>\n",
       "      <th>17</th>\n",
       "      <td>Кластер 1</td>\n",
       "      <td>[0.09399680774237469, 0.22218849039332847, 0.2...</td>\n",
       "      <td>[0.5472131411001949, 0.452786858899805]</td>\n",
       "      <td>[0.9793993630761814, 0.020600636923818666]</td>\n",
       "      <td>Wasd TV</td>\n",
       "      <td>[0.2726, 0.4071, 0.156, 0.0872, 0.05, 0.0272]</td>\n",
       "      <td>[0.2448, 0.7552]</td>\n",
       "      <td>[0.8434, 0.1566]</td>\n",
       "      <td>0.355673</td>\n",
       "      <td>0.208548</td>\n",
       "      <td>0.104633</td>\n",
       "      <td>0.668854</td>\n",
       "    </tr>\n",
       "    <tr>\n",
       "      <th>8</th>\n",
       "      <td>Кластер 1</td>\n",
       "      <td>[0.09399680774237469, 0.22218849039332847, 0.2...</td>\n",
       "      <td>[0.5472131411001949, 0.452786858899805]</td>\n",
       "      <td>[0.9793993630761814, 0.020600636923818666]</td>\n",
       "      <td>Хабр</td>\n",
       "      <td>[0.172, 0.4475, 0.1937, 0.1025, 0.0569, 0.0275]</td>\n",
       "      <td>[0.301, 0.699]</td>\n",
       "      <td>[0.6852, 0.3148]</td>\n",
       "      <td>0.261579</td>\n",
       "      <td>0.130471</td>\n",
       "      <td>0.293700</td>\n",
       "      <td>0.685750</td>\n",
       "    </tr>\n",
       "    <tr>\n",
       "      <th>35</th>\n",
       "      <td>Кластер 0</td>\n",
       "      <td>[0.006620428751576293, 0.12042875157629256, 0....</td>\n",
       "      <td>[0.4588574423480084, 0.5411425576519916]</td>\n",
       "      <td>[0.9787735849056604, 0.02122641509433962]</td>\n",
       "      <td>НОЖ</td>\n",
       "      <td>[0.1863, 0.352, 0.1804, 0.1461, 0.0948, 0.0403]</td>\n",
       "      <td>[0.4872, 0.5128]</td>\n",
       "      <td>[0.7327, 0.2673]</td>\n",
       "      <td>0.497073</td>\n",
       "      <td>0.001610</td>\n",
       "      <td>0.229648</td>\n",
       "      <td>0.728331</td>\n",
       "    </tr>\n",
       "    <tr>\n",
       "      <th>48</th>\n",
       "      <td>Кластер 0</td>\n",
       "      <td>[0.006620428751576293, 0.12042875157629256, 0....</td>\n",
       "      <td>[0.4588574423480084, 0.5411425576519916]</td>\n",
       "      <td>[0.9787735849056604, 0.02122641509433962]</td>\n",
       "      <td>Кинопоиск</td>\n",
       "      <td>[0.2329, 0.3766, 0.1667, 0.1128, 0.074, 0.0369]</td>\n",
       "      <td>[0.4453, 0.5547]</td>\n",
       "      <td>[0.8551, 0.1449]</td>\n",
       "      <td>0.659582</td>\n",
       "      <td>0.000371</td>\n",
       "      <td>0.091443</td>\n",
       "      <td>0.751396</td>\n",
       "    </tr>\n",
       "    <tr>\n",
       "      <th>32</th>\n",
       "      <td>Кластер 0</td>\n",
       "      <td>[0.006620428751576293, 0.12042875157629256, 0....</td>\n",
       "      <td>[0.4588574423480084, 0.5411425576519916]</td>\n",
       "      <td>[0.9787735849056604, 0.02122641509433962]</td>\n",
       "      <td>НОВАЯ ГАЗЕТА</td>\n",
       "      <td>[0.1219, 0.2939, 0.1938, 0.1666, 0.1364, 0.0874]</td>\n",
       "      <td>[0.4124, 0.5876]</td>\n",
       "      <td>[0.5999, 0.4001]</td>\n",
       "      <td>0.348960</td>\n",
       "      <td>0.004411</td>\n",
       "      <td>0.416816</td>\n",
       "      <td>0.770186</td>\n",
       "    </tr>\n",
       "    <tr>\n",
       "      <th>36</th>\n",
       "      <td>Кластер 0</td>\n",
       "      <td>[0.006620428751576293, 0.12042875157629256, 0....</td>\n",
       "      <td>[0.4588574423480084, 0.5411425576519916]</td>\n",
       "      <td>[0.9787735849056604, 0.02122641509433962]</td>\n",
       "      <td>YouTube</td>\n",
       "      <td>[0.1818, 0.4118, 0.1879, 0.119, 0.069, 0.0305]</td>\n",
       "      <td>[0.4264, 0.5736]</td>\n",
       "      <td>[0.7531, 0.2469]</td>\n",
       "      <td>0.624540</td>\n",
       "      <td>0.002141</td>\n",
       "      <td>0.204455</td>\n",
       "      <td>0.831136</td>\n",
       "    </tr>\n",
       "    <tr>\n",
       "      <th>51</th>\n",
       "      <td>Кластер 0</td>\n",
       "      <td>[0.006620428751576293, 0.12042875157629256, 0....</td>\n",
       "      <td>[0.4588574423480084, 0.5411425576519916]</td>\n",
       "      <td>[0.9787735849056604, 0.02122641509433962]</td>\n",
       "      <td>Нетология</td>\n",
       "      <td>[0.1804, 0.464, 0.1841, 0.0992, 0.0503, 0.0221]</td>\n",
       "      <td>[0.4709, 0.5291]</td>\n",
       "      <td>[0.8287, 0.1703]</td>\n",
       "      <td>0.766211</td>\n",
       "      <td>0.000291</td>\n",
       "      <td>0.117709</td>\n",
       "      <td>0.884211</td>\n",
       "    </tr>\n",
       "    <tr>\n",
       "      <th>82</th>\n",
       "      <td>Кластер 3</td>\n",
       "      <td>[0.0, 0.0, 0.3217391304347826, 0.4260869565217...</td>\n",
       "      <td>[0.2440944881889764, 0.7559055118110236]</td>\n",
       "      <td>[1.0, 0]</td>\n",
       "      <td>РБК</td>\n",
       "      <td>[0.1085, 0.3158, 0.2127, 0.1699, 0.1265, 0.0665]</td>\n",
       "      <td>[0.4311, 0.5689]</td>\n",
       "      <td>[0.8897, 0.11]</td>\n",
       "      <td>0.698782</td>\n",
       "      <td>0.076000</td>\n",
       "      <td>0.116571</td>\n",
       "      <td>0.891353</td>\n",
       "    </tr>\n",
       "    <tr>\n",
       "      <th>27</th>\n",
       "      <td>Кластер 0</td>\n",
       "      <td>[0.006620428751576293, 0.12042875157629256, 0....</td>\n",
       "      <td>[0.4588574423480084, 0.5411425576519916]</td>\n",
       "      <td>[0.9787735849056604, 0.02122641509433962]</td>\n",
       "      <td>TELEGRAM</td>\n",
       "      <td>[0.27, 0.38, 0.306, 0.213, 0.1, 0.085]</td>\n",
       "      <td>[0.39, 0.61]</td>\n",
       "      <td>[0.6, 0.4]</td>\n",
       "      <td>0.512095</td>\n",
       "      <td>0.009791</td>\n",
       "      <td>0.416658</td>\n",
       "      <td>0.938544</td>\n",
       "    </tr>\n",
       "    <tr>\n",
       "      <th>91</th>\n",
       "      <td>Кластер 3</td>\n",
       "      <td>[0.0, 0.0, 0.3217391304347826, 0.4260869565217...</td>\n",
       "      <td>[0.2440944881889764, 0.7559055118110236]</td>\n",
       "      <td>[1.0, 0]</td>\n",
       "      <td>Avito</td>\n",
       "      <td>[0.1316, 0.3731, 0.2232, 0.15, 0.0882, 0.0339]</td>\n",
       "      <td>[0.4346, 0.5654]</td>\n",
       "      <td>[0.9573, 0.0427]</td>\n",
       "      <td>0.827401</td>\n",
       "      <td>0.078691</td>\n",
       "      <td>0.043638</td>\n",
       "      <td>0.949731</td>\n",
       "    </tr>\n",
       "    <tr>\n",
       "      <th>31</th>\n",
       "      <td>Кластер 0</td>\n",
       "      <td>[0.006620428751576293, 0.12042875157629256, 0....</td>\n",
       "      <td>[0.4588574423480084, 0.5411425576519916]</td>\n",
       "      <td>[0.9787735849056604, 0.02122641509433962]</td>\n",
       "      <td>VC.RU</td>\n",
       "      <td>[0.163, 0.4295, 0.1968, 0.1155, 0.0655, 0.0297]</td>\n",
       "      <td>[0.3912, 0.6088]</td>\n",
       "      <td>[0.6725, 0.3275]</td>\n",
       "      <td>0.632064</td>\n",
       "      <td>0.009447</td>\n",
       "      <td>0.309251</td>\n",
       "      <td>0.950762</td>\n",
       "    </tr>\n",
       "    <tr>\n",
       "      <th>93</th>\n",
       "      <td>Кластер 3</td>\n",
       "      <td>[0.0, 0.0, 0.3217391304347826, 0.4260869565217...</td>\n",
       "      <td>[0.2440944881889764, 0.7559055118110236]</td>\n",
       "      <td>[1.0, 0]</td>\n",
       "      <td>Юла</td>\n",
       "      <td>[0.1427, 0.3792, 0.2166, 0.141, 0.0886, 0.0319]</td>\n",
       "      <td>[0.4282, 0.5718]</td>\n",
       "      <td>[0.9774, 0.02259]</td>\n",
       "      <td>0.862282</td>\n",
       "      <td>0.073804</td>\n",
       "      <td>0.022849</td>\n",
       "      <td>0.958935</td>\n",
       "    </tr>\n",
       "    <tr>\n",
       "      <th>101</th>\n",
       "      <td>Кластер 3</td>\n",
       "      <td>[0.0, 0.0, 0.3217391304347826, 0.4260869565217...</td>\n",
       "      <td>[0.2440944881889764, 0.7559055118110236]</td>\n",
       "      <td>[1.0, 0]</td>\n",
       "      <td>2ГИС</td>\n",
       "      <td>[0.126, 0.3768, 0.2247, 0.1524, 0.0877, 0.0324]</td>\n",
       "      <td>[0.4798, 0.5202]</td>\n",
       "      <td>[0.9746, 0.02539]</td>\n",
       "      <td>0.819916</td>\n",
       "      <td>0.117522</td>\n",
       "      <td>0.025718</td>\n",
       "      <td>0.963156</td>\n",
       "    </tr>\n",
       "  </tbody>\n",
       "</table>\n",
       "</div>"
      ],
      "text/plain": [
       "       cluster                                        age_cluster  \\\n",
       "14   Кластер 1  [0.09399680774237469, 0.22218849039332847, 0.2...   \n",
       "23   Кластер 1  [0.09399680774237469, 0.22218849039332847, 0.2...   \n",
       "13   Кластер 1  [0.09399680774237469, 0.22218849039332847, 0.2...   \n",
       "15   Кластер 1  [0.09399680774237469, 0.22218849039332847, 0.2...   \n",
       "16   Кластер 1  [0.09399680774237469, 0.22218849039332847, 0.2...   \n",
       "4    Кластер 1  [0.09399680774237469, 0.22218849039332847, 0.2...   \n",
       "12   Кластер 1  [0.09399680774237469, 0.22218849039332847, 0.2...   \n",
       "3    Кластер 1  [0.09399680774237469, 0.22218849039332847, 0.2...   \n",
       "20   Кластер 1  [0.09399680774237469, 0.22218849039332847, 0.2...   \n",
       "7    Кластер 1  [0.09399680774237469, 0.22218849039332847, 0.2...   \n",
       "11   Кластер 1  [0.09399680774237469, 0.22218849039332847, 0.2...   \n",
       "0    Кластер 1  [0.09399680774237469, 0.22218849039332847, 0.2...   \n",
       "21   Кластер 1  [0.09399680774237469, 0.22218849039332847, 0.2...   \n",
       "2    Кластер 1  [0.09399680774237469, 0.22218849039332847, 0.2...   \n",
       "22   Кластер 1  [0.09399680774237469, 0.22218849039332847, 0.2...   \n",
       "9    Кластер 1  [0.09399680774237469, 0.22218849039332847, 0.2...   \n",
       "30   Кластер 0  [0.006620428751576293, 0.12042875157629256, 0....   \n",
       "40   Кластер 0  [0.006620428751576293, 0.12042875157629256, 0....   \n",
       "25   Кластер 1  [0.09399680774237469, 0.22218849039332847, 0.2...   \n",
       "10   Кластер 1  [0.09399680774237469, 0.22218849039332847, 0.2...   \n",
       "49   Кластер 0  [0.006620428751576293, 0.12042875157629256, 0....   \n",
       "39   Кластер 0  [0.006620428751576293, 0.12042875157629256, 0....   \n",
       "41   Кластер 0  [0.006620428751576293, 0.12042875157629256, 0....   \n",
       "29   Кластер 0  [0.006620428751576293, 0.12042875157629256, 0....   \n",
       "42   Кластер 0  [0.006620428751576293, 0.12042875157629256, 0....   \n",
       "38   Кластер 0  [0.006620428751576293, 0.12042875157629256, 0....   \n",
       "33   Кластер 0  [0.006620428751576293, 0.12042875157629256, 0....   \n",
       "46   Кластер 0  [0.006620428751576293, 0.12042875157629256, 0....   \n",
       "24   Кластер 1  [0.09399680774237469, 0.22218849039332847, 0.2...   \n",
       "6    Кластер 1  [0.09399680774237469, 0.22218849039332847, 0.2...   \n",
       "5    Кластер 1  [0.09399680774237469, 0.22218849039332847, 0.2...   \n",
       "37   Кластер 0  [0.006620428751576293, 0.12042875157629256, 0....   \n",
       "28   Кластер 0  [0.006620428751576293, 0.12042875157629256, 0....   \n",
       "1    Кластер 1  [0.09399680774237469, 0.22218849039332847, 0.2...   \n",
       "26   Кластер 0  [0.006620428751576293, 0.12042875157629256, 0....   \n",
       "18   Кластер 1  [0.09399680774237469, 0.22218849039332847, 0.2...   \n",
       "47   Кластер 0  [0.006620428751576293, 0.12042875157629256, 0....   \n",
       "17   Кластер 1  [0.09399680774237469, 0.22218849039332847, 0.2...   \n",
       "8    Кластер 1  [0.09399680774237469, 0.22218849039332847, 0.2...   \n",
       "35   Кластер 0  [0.006620428751576293, 0.12042875157629256, 0....   \n",
       "48   Кластер 0  [0.006620428751576293, 0.12042875157629256, 0....   \n",
       "32   Кластер 0  [0.006620428751576293, 0.12042875157629256, 0....   \n",
       "36   Кластер 0  [0.006620428751576293, 0.12042875157629256, 0....   \n",
       "51   Кластер 0  [0.006620428751576293, 0.12042875157629256, 0....   \n",
       "82   Кластер 3  [0.0, 0.0, 0.3217391304347826, 0.4260869565217...   \n",
       "27   Кластер 0  [0.006620428751576293, 0.12042875157629256, 0....   \n",
       "91   Кластер 3  [0.0, 0.0, 0.3217391304347826, 0.4260869565217...   \n",
       "31   Кластер 0  [0.006620428751576293, 0.12042875157629256, 0....   \n",
       "93   Кластер 3  [0.0, 0.0, 0.3217391304347826, 0.4260869565217...   \n",
       "101  Кластер 3  [0.0, 0.0, 0.3217391304347826, 0.4260869565217...   \n",
       "\n",
       "                               gender_cluster  \\\n",
       "14    [0.5472131411001949, 0.452786858899805]   \n",
       "23    [0.5472131411001949, 0.452786858899805]   \n",
       "13    [0.5472131411001949, 0.452786858899805]   \n",
       "15    [0.5472131411001949, 0.452786858899805]   \n",
       "16    [0.5472131411001949, 0.452786858899805]   \n",
       "4     [0.5472131411001949, 0.452786858899805]   \n",
       "12    [0.5472131411001949, 0.452786858899805]   \n",
       "3     [0.5472131411001949, 0.452786858899805]   \n",
       "20    [0.5472131411001949, 0.452786858899805]   \n",
       "7     [0.5472131411001949, 0.452786858899805]   \n",
       "11    [0.5472131411001949, 0.452786858899805]   \n",
       "0     [0.5472131411001949, 0.452786858899805]   \n",
       "21    [0.5472131411001949, 0.452786858899805]   \n",
       "2     [0.5472131411001949, 0.452786858899805]   \n",
       "22    [0.5472131411001949, 0.452786858899805]   \n",
       "9     [0.5472131411001949, 0.452786858899805]   \n",
       "30   [0.4588574423480084, 0.5411425576519916]   \n",
       "40   [0.4588574423480084, 0.5411425576519916]   \n",
       "25    [0.5472131411001949, 0.452786858899805]   \n",
       "10    [0.5472131411001949, 0.452786858899805]   \n",
       "49   [0.4588574423480084, 0.5411425576519916]   \n",
       "39   [0.4588574423480084, 0.5411425576519916]   \n",
       "41   [0.4588574423480084, 0.5411425576519916]   \n",
       "29   [0.4588574423480084, 0.5411425576519916]   \n",
       "42   [0.4588574423480084, 0.5411425576519916]   \n",
       "38   [0.4588574423480084, 0.5411425576519916]   \n",
       "33   [0.4588574423480084, 0.5411425576519916]   \n",
       "46   [0.4588574423480084, 0.5411425576519916]   \n",
       "24    [0.5472131411001949, 0.452786858899805]   \n",
       "6     [0.5472131411001949, 0.452786858899805]   \n",
       "5     [0.5472131411001949, 0.452786858899805]   \n",
       "37   [0.4588574423480084, 0.5411425576519916]   \n",
       "28   [0.4588574423480084, 0.5411425576519916]   \n",
       "1     [0.5472131411001949, 0.452786858899805]   \n",
       "26   [0.4588574423480084, 0.5411425576519916]   \n",
       "18    [0.5472131411001949, 0.452786858899805]   \n",
       "47   [0.4588574423480084, 0.5411425576519916]   \n",
       "17    [0.5472131411001949, 0.452786858899805]   \n",
       "8     [0.5472131411001949, 0.452786858899805]   \n",
       "35   [0.4588574423480084, 0.5411425576519916]   \n",
       "48   [0.4588574423480084, 0.5411425576519916]   \n",
       "32   [0.4588574423480084, 0.5411425576519916]   \n",
       "36   [0.4588574423480084, 0.5411425576519916]   \n",
       "51   [0.4588574423480084, 0.5411425576519916]   \n",
       "82   [0.2440944881889764, 0.7559055118110236]   \n",
       "27   [0.4588574423480084, 0.5411425576519916]   \n",
       "91   [0.2440944881889764, 0.7559055118110236]   \n",
       "31   [0.4588574423480084, 0.5411425576519916]   \n",
       "93   [0.2440944881889764, 0.7559055118110236]   \n",
       "101  [0.2440944881889764, 0.7559055118110236]   \n",
       "\n",
       "                              residents_cluster               site  \\\n",
       "14   [0.9793993630761814, 0.020600636923818666]               ЦИАН   \n",
       "23   [0.9793993630761814, 0.020600636923818666]               2ГИС   \n",
       "13   [0.9793993630761814, 0.020600636923818666]              Avito   \n",
       "15   [0.9793993630761814, 0.020600636923818666]                Юла   \n",
       "16   [0.9793993630761814, 0.020600636923818666]        Wildberries   \n",
       "4    [0.9793993630761814, 0.020600636923818666]                РБК   \n",
       "12   [0.9793993630761814, 0.020600636923818666]               Ozon   \n",
       "3    [0.9793993630761814, 0.020600636923818666]     Яндекс Новости   \n",
       "20   [0.9793993630761814, 0.020600636923818666]            Отзовик   \n",
       "7    [0.9793993630761814, 0.020600636923818666]          Forbes RU   \n",
       "11   [0.9793993630761814, 0.020600636923818666]             Rutube   \n",
       "0    [0.9793993630761814, 0.020600636923818666]                 VK   \n",
       "21   [0.9793993630761814, 0.020600636923818666]                IVI   \n",
       "2    [0.9793993630761814, 0.020600636923818666]      Одноклассники   \n",
       "22   [0.9793993630761814, 0.020600636923818666]          Кинопоиск   \n",
       "9    [0.9793993630761814, 0.020600636923818666]                НОЖ   \n",
       "30    [0.9787735849056604, 0.02122641509433962]                РБК   \n",
       "40    [0.9787735849056604, 0.02122641509433962]               ЦИАН   \n",
       "25   [0.9793993630761814, 0.020600636923818666]          Нетология   \n",
       "10   [0.9793993630761814, 0.020600636923818666]            YouTube   \n",
       "49    [0.9787735849056604, 0.02122641509433962]               2ГИС   \n",
       "39    [0.9787735849056604, 0.02122641509433962]              Avito   \n",
       "41    [0.9787735849056604, 0.02122641509433962]                Юла   \n",
       "29    [0.9787735849056604, 0.02122641509433962]     Яндекс Новости   \n",
       "42    [0.9787735849056604, 0.02122641509433962]        Wildberries   \n",
       "38    [0.9787735849056604, 0.02122641509433962]               Ozon   \n",
       "33    [0.9787735849056604, 0.02122641509433962]          Forbes RU   \n",
       "46    [0.9787735849056604, 0.02122641509433962]            Отзовик   \n",
       "24   [0.9793993630761814, 0.020600636923818666]  Биржа фриланса FL   \n",
       "6    [0.9793993630761814, 0.020600636923818666]       НОВАЯ ГАЗЕТА   \n",
       "5    [0.9793993630761814, 0.020600636923818666]              VC.RU   \n",
       "37    [0.9787735849056604, 0.02122641509433962]             Rutube   \n",
       "28    [0.9787735849056604, 0.02122641509433962]      Одноклассники   \n",
       "1    [0.9793993630761814, 0.020600636923818666]           TELEGRAM   \n",
       "26    [0.9787735849056604, 0.02122641509433962]                 VK   \n",
       "18   [0.9793993630761814, 0.020600636923818666]          Good Game   \n",
       "47    [0.9787735849056604, 0.02122641509433962]                IVI   \n",
       "17   [0.9793993630761814, 0.020600636923818666]            Wasd TV   \n",
       "8    [0.9793993630761814, 0.020600636923818666]               Хабр   \n",
       "35    [0.9787735849056604, 0.02122641509433962]                НОЖ   \n",
       "48    [0.9787735849056604, 0.02122641509433962]          Кинопоиск   \n",
       "32    [0.9787735849056604, 0.02122641509433962]       НОВАЯ ГАЗЕТА   \n",
       "36    [0.9787735849056604, 0.02122641509433962]            YouTube   \n",
       "51    [0.9787735849056604, 0.02122641509433962]          Нетология   \n",
       "82                                     [1.0, 0]                РБК   \n",
       "27    [0.9787735849056604, 0.02122641509433962]           TELEGRAM   \n",
       "91                                     [1.0, 0]              Avito   \n",
       "31    [0.9787735849056604, 0.02122641509433962]              VC.RU   \n",
       "93                                     [1.0, 0]                Юла   \n",
       "101                                    [1.0, 0]               2ГИС   \n",
       "\n",
       "                                                  age            gender  \\\n",
       "14    [0.112, 0.3754, 0.2259, 0.1561, 0.0963, 0.0343]  [0.5155, 0.4845]   \n",
       "23    [0.126, 0.3768, 0.2247, 0.1524, 0.0877, 0.0324]  [0.4798, 0.5202]   \n",
       "13     [0.1316, 0.3731, 0.2232, 0.15, 0.0882, 0.0339]  [0.4346, 0.5654]   \n",
       "15    [0.1427, 0.3792, 0.2166, 0.141, 0.0886, 0.0319]  [0.4282, 0.5718]   \n",
       "16   [0.1446, 0.3722, 0.2167, 0.1429, 0.0898, 0.0337]  [0.5228, 0.4772]   \n",
       "4    [0.1085, 0.3158, 0.2127, 0.1699, 0.1265, 0.0665]  [0.4311, 0.5689]   \n",
       "12   [0.1457, 0.3764, 0.2212, 0.1416, 0.0823, 0.0329]  [0.4633, 0.5367]   \n",
       "3     [0.1522, 0.355, 0.2103, 0.1435, 0.0958, 0.0432]  [0.4604, 0.5396]   \n",
       "20   [0.1273, 0.3688, 0.2221, 0.1506, 0.0918, 0.0394]  [0.5091, 0.4909]   \n",
       "7     [0.113, 0.3217, 0.1977, 0.1623, 0.1321, 0.0731]  [0.4135, 0.5865]   \n",
       "11   [0.1597, 0.3538, 0.1829, 0.1432, 0.1102, 0.0502]  [0.4239, 0.5761]   \n",
       "0    [0.1987, 0.3338, 0.1863, 0.1419, 0.0956, 0.0437]  [0.4437, 0.5563]   \n",
       "21    [0.2294, 0.3312, 0.1713, 0.125, 0.1015, 0.0416]  [0.5192, 0.4808]   \n",
       "2    [0.1647, 0.2854, 0.1959, 0.1605, 0.1307, 0.0628]  [0.5079, 0.4921]   \n",
       "22    [0.2329, 0.3766, 0.1667, 0.1128, 0.074, 0.0369]  [0.4453, 0.5547]   \n",
       "9     [0.1863, 0.352, 0.1804, 0.1461, 0.0948, 0.0403]  [0.4872, 0.5128]   \n",
       "30   [0.1085, 0.3158, 0.2127, 0.1699, 0.1265, 0.0665]  [0.4311, 0.5689]   \n",
       "40    [0.112, 0.3754, 0.2259, 0.1561, 0.0963, 0.0343]  [0.5155, 0.4845]   \n",
       "25    [0.1804, 0.464, 0.1841, 0.0992, 0.0503, 0.0221]  [0.4709, 0.5291]   \n",
       "10     [0.1818, 0.4118, 0.1879, 0.119, 0.069, 0.0305]  [0.4264, 0.5736]   \n",
       "49    [0.126, 0.3768, 0.2247, 0.1524, 0.0877, 0.0324]  [0.4798, 0.5202]   \n",
       "39     [0.1316, 0.3731, 0.2232, 0.15, 0.0882, 0.0339]  [0.4346, 0.5654]   \n",
       "41    [0.1427, 0.3792, 0.2166, 0.141, 0.0886, 0.0319]  [0.4282, 0.5718]   \n",
       "29    [0.1522, 0.355, 0.2103, 0.1435, 0.0958, 0.0432]  [0.4604, 0.5396]   \n",
       "42   [0.1446, 0.3722, 0.2167, 0.1429, 0.0898, 0.0337]  [0.5228, 0.4772]   \n",
       "38   [0.1457, 0.3764, 0.2212, 0.1416, 0.0823, 0.0329]  [0.4633, 0.5367]   \n",
       "33    [0.113, 0.3217, 0.1977, 0.1623, 0.1321, 0.0731]  [0.4135, 0.5865]   \n",
       "46   [0.1273, 0.3688, 0.2221, 0.1506, 0.0918, 0.0394]  [0.5091, 0.4909]   \n",
       "24     [0.1757, 0.4779, 0.1765, 0.093, 0.053, 0.0239]  [0.3945, 0.6055]   \n",
       "6    [0.1219, 0.2939, 0.1938, 0.1666, 0.1364, 0.0874]  [0.4124, 0.5876]   \n",
       "5     [0.163, 0.4295, 0.1968, 0.1155, 0.0655, 0.0297]  [0.3912, 0.6088]   \n",
       "37   [0.1597, 0.3538, 0.1829, 0.1432, 0.1102, 0.0502]  [0.4239, 0.5761]   \n",
       "28   [0.1647, 0.2854, 0.1959, 0.1605, 0.1307, 0.0628]  [0.5079, 0.4921]   \n",
       "1              [0.27, 0.38, 0.306, 0.213, 0.1, 0.085]      [0.39, 0.61]   \n",
       "26   [0.1987, 0.3338, 0.1863, 0.1419, 0.0956, 0.0437]  [0.4437, 0.5563]   \n",
       "18   [0.2494, 0.3979, 0.1575, 0.1009, 0.0614, 0.0329]  [0.2608, 0.7392]   \n",
       "47    [0.2294, 0.3312, 0.1713, 0.125, 0.1015, 0.0416]  [0.5192, 0.4808]   \n",
       "17      [0.2726, 0.4071, 0.156, 0.0872, 0.05, 0.0272]  [0.2448, 0.7552]   \n",
       "8     [0.172, 0.4475, 0.1937, 0.1025, 0.0569, 0.0275]    [0.301, 0.699]   \n",
       "35    [0.1863, 0.352, 0.1804, 0.1461, 0.0948, 0.0403]  [0.4872, 0.5128]   \n",
       "48    [0.2329, 0.3766, 0.1667, 0.1128, 0.074, 0.0369]  [0.4453, 0.5547]   \n",
       "32   [0.1219, 0.2939, 0.1938, 0.1666, 0.1364, 0.0874]  [0.4124, 0.5876]   \n",
       "36     [0.1818, 0.4118, 0.1879, 0.119, 0.069, 0.0305]  [0.4264, 0.5736]   \n",
       "51    [0.1804, 0.464, 0.1841, 0.0992, 0.0503, 0.0221]  [0.4709, 0.5291]   \n",
       "82   [0.1085, 0.3158, 0.2127, 0.1699, 0.1265, 0.0665]  [0.4311, 0.5689]   \n",
       "27             [0.27, 0.38, 0.306, 0.213, 0.1, 0.085]      [0.39, 0.61]   \n",
       "91     [0.1316, 0.3731, 0.2232, 0.15, 0.0882, 0.0339]  [0.4346, 0.5654]   \n",
       "31    [0.163, 0.4295, 0.1968, 0.1155, 0.0655, 0.0297]  [0.3912, 0.6088]   \n",
       "93    [0.1427, 0.3792, 0.2166, 0.141, 0.0886, 0.0319]  [0.4282, 0.5718]   \n",
       "101   [0.126, 0.3768, 0.2247, 0.1524, 0.0877, 0.0324]  [0.4798, 0.5202]   \n",
       "\n",
       "              resident  age_diff  gender_diff  res_diff  total_diff  \n",
       "14    [0.9625, 0.0375]  0.101697     0.002017  0.004707    0.108421  \n",
       "23   [0.9746, 0.02539]  0.114922     0.009098  0.000495    0.124515  \n",
       "13    [0.9573, 0.0427]  0.116913     0.025515  0.007337    0.149765  \n",
       "15   [0.9774, 0.02259]  0.127755     0.028537  0.000092    0.156385  \n",
       "16    [0.9216, 0.0784]  0.124114     0.001197  0.032042    0.157353  \n",
       "4       [0.8897, 0.11]  0.079358     0.027146  0.059267    0.165770  \n",
       "12    [0.9361, 0.0639]  0.134736     0.014109  0.020966    0.169811  \n",
       "3      [0.9169, 0.083]  0.121481     0.015105  0.035775    0.172362  \n",
       "20      [0.855, 0.145]  0.113738     0.002912  0.092839    0.209489  \n",
       "7     [0.7966, 0.2034]  0.091309     0.036160  0.155159    0.282627  \n",
       "11    [0.8178, 0.1822]  0.124924     0.030668  0.131702    0.287293  \n",
       "0     [0.8238, 0.1762]  0.142981     0.021522  0.125232    0.289736  \n",
       "21      [0.831, 0.169]  0.171684     0.001575  0.117569    0.290828  \n",
       "2       [0.735, 0.265]  0.091214     0.003098  0.228533    0.322844  \n",
       "22    [0.8551, 0.1449]  0.233133     0.020857  0.092739    0.346729  \n",
       "9     [0.7327, 0.2673]  0.140586     0.007210  0.231424    0.379221  \n",
       "30      [0.8897, 0.11]  0.334407     0.001563  0.058168    0.394139  \n",
       "40    [0.9625, 0.0375]  0.408448     0.006422  0.004331    0.419200  \n",
       "25    [0.8287, 0.1703]  0.294859     0.011663  0.119125    0.425648  \n",
       "10    [0.7531, 0.2469]  0.209456     0.029419  0.206164    0.445039  \n",
       "49   [0.9746, 0.02539]  0.444120     0.000880  0.000371    0.445370  \n",
       "39    [0.9573, 0.0427]  0.449456     0.001193  0.006876    0.457525  \n",
       "41   [0.9774, 0.02259]  0.472400     0.001909  0.000043    0.474352  \n",
       "29     [0.9169, 0.083]  0.457166     0.000005  0.034872    0.492042  \n",
       "42    [0.9216, 0.0784]  0.465969     0.008185  0.031177    0.505332  \n",
       "38    [0.9361, 0.0639]  0.488101     0.000040  0.020239    0.508379  \n",
       "33    [0.7966, 0.2034]  0.351625     0.004202  0.153606    0.509434  \n",
       "46      [0.855, 0.145]  0.438147     0.005053  0.091543    0.534743  \n",
       "24     [0.7649, 0.235]  0.305919     0.047464  0.191855    0.545237  \n",
       "6     [0.5999, 0.4001]  0.095060     0.036769  0.418969    0.550797  \n",
       "5     [0.6725, 0.3275]  0.216073     0.049600  0.311208    0.576881  \n",
       "37    [0.8178, 0.1822]  0.452992     0.002486  0.130235    0.585713  \n",
       "28      [0.735, 0.265]  0.373753     0.004814  0.226764    0.605331  \n",
       "1           [0.6, 0.4]  0.152818     0.050389  0.418811    0.622018  \n",
       "26    [0.8238, 0.1762]  0.499759     0.000464  0.123791    0.624014  \n",
       "18    [0.7995, 0.2005]  0.291336     0.183599  0.151895    0.626830  \n",
       "47      [0.831, 0.169]  0.542289     0.007288  0.116159    0.665736  \n",
       "17    [0.8434, 0.1566]  0.355673     0.208548  0.104633    0.668854  \n",
       "8     [0.6852, 0.3148]  0.261579     0.130471  0.293700    0.685750  \n",
       "35    [0.7327, 0.2673]  0.497073     0.001610  0.229648    0.728331  \n",
       "48    [0.8551, 0.1449]  0.659582     0.000371  0.091443    0.751396  \n",
       "32    [0.5999, 0.4001]  0.348960     0.004411  0.416816    0.770186  \n",
       "36    [0.7531, 0.2469]  0.624540     0.002141  0.204455    0.831136  \n",
       "51    [0.8287, 0.1703]  0.766211     0.000291  0.117709    0.884211  \n",
       "82      [0.8897, 0.11]  0.698782     0.076000  0.116571    0.891353  \n",
       "27          [0.6, 0.4]  0.512095     0.009791  0.416658    0.938544  \n",
       "91    [0.9573, 0.0427]  0.827401     0.078691  0.043638    0.949731  \n",
       "31    [0.6725, 0.3275]  0.632064     0.009447  0.309251    0.950762  \n",
       "93   [0.9774, 0.02259]  0.862282     0.073804  0.022849    0.958935  \n",
       "101  [0.9746, 0.02539]  0.819916     0.117522  0.025718    0.963156  "
      ]
     },
     "execution_count": 92,
     "metadata": {},
     "output_type": "execute_result"
    }
   ],
   "source": [
    "df_cross.head(50)"
   ]
  },
  {
   "cell_type": "code",
   "execution_count": 93,
   "metadata": {
    "id": "9ZJxlJ1-aEiR"
   },
   "outputs": [
    {
     "data": {
      "text/html": [
       "<div>\n",
       "<style scoped>\n",
       "    .dataframe tbody tr th:only-of-type {\n",
       "        vertical-align: middle;\n",
       "    }\n",
       "\n",
       "    .dataframe tbody tr th {\n",
       "        vertical-align: top;\n",
       "    }\n",
       "\n",
       "    .dataframe thead th {\n",
       "        text-align: right;\n",
       "    }\n",
       "</style>\n",
       "<table border=\"1\" class=\"dataframe\">\n",
       "  <thead>\n",
       "    <tr style=\"text-align: right;\">\n",
       "      <th></th>\n",
       "      <th>cluster</th>\n",
       "      <th>age_cluster</th>\n",
       "      <th>gender_cluster</th>\n",
       "      <th>residents_cluster</th>\n",
       "      <th>site</th>\n",
       "      <th>age</th>\n",
       "      <th>gender</th>\n",
       "      <th>resident</th>\n",
       "      <th>age_diff</th>\n",
       "      <th>gender_diff</th>\n",
       "      <th>res_diff</th>\n",
       "      <th>total_diff</th>\n",
       "    </tr>\n",
       "  </thead>\n",
       "  <tbody>\n",
       "    <tr>\n",
       "      <th>14</th>\n",
       "      <td>Кластер 1</td>\n",
       "      <td>[0.09399680774237469, 0.22218849039332847, 0.2...</td>\n",
       "      <td>[0.5472131411001949, 0.452786858899805]</td>\n",
       "      <td>[0.9793993630761814, 0.020600636923818666]</td>\n",
       "      <td>ЦИАН</td>\n",
       "      <td>[0.112, 0.3754, 0.2259, 0.1561, 0.0963, 0.0343]</td>\n",
       "      <td>[0.5155, 0.4845]</td>\n",
       "      <td>[0.9625, 0.0375]</td>\n",
       "      <td>0.101697</td>\n",
       "      <td>0.002017</td>\n",
       "      <td>0.004707</td>\n",
       "      <td>0.108421</td>\n",
       "    </tr>\n",
       "    <tr>\n",
       "      <th>23</th>\n",
       "      <td>Кластер 1</td>\n",
       "      <td>[0.09399680774237469, 0.22218849039332847, 0.2...</td>\n",
       "      <td>[0.5472131411001949, 0.452786858899805]</td>\n",
       "      <td>[0.9793993630761814, 0.020600636923818666]</td>\n",
       "      <td>2ГИС</td>\n",
       "      <td>[0.126, 0.3768, 0.2247, 0.1524, 0.0877, 0.0324]</td>\n",
       "      <td>[0.4798, 0.5202]</td>\n",
       "      <td>[0.9746, 0.02539]</td>\n",
       "      <td>0.114922</td>\n",
       "      <td>0.009098</td>\n",
       "      <td>0.000495</td>\n",
       "      <td>0.124515</td>\n",
       "    </tr>\n",
       "    <tr>\n",
       "      <th>13</th>\n",
       "      <td>Кластер 1</td>\n",
       "      <td>[0.09399680774237469, 0.22218849039332847, 0.2...</td>\n",
       "      <td>[0.5472131411001949, 0.452786858899805]</td>\n",
       "      <td>[0.9793993630761814, 0.020600636923818666]</td>\n",
       "      <td>Avito</td>\n",
       "      <td>[0.1316, 0.3731, 0.2232, 0.15, 0.0882, 0.0339]</td>\n",
       "      <td>[0.4346, 0.5654]</td>\n",
       "      <td>[0.9573, 0.0427]</td>\n",
       "      <td>0.116913</td>\n",
       "      <td>0.025515</td>\n",
       "      <td>0.007337</td>\n",
       "      <td>0.149765</td>\n",
       "    </tr>\n",
       "    <tr>\n",
       "      <th>15</th>\n",
       "      <td>Кластер 1</td>\n",
       "      <td>[0.09399680774237469, 0.22218849039332847, 0.2...</td>\n",
       "      <td>[0.5472131411001949, 0.452786858899805]</td>\n",
       "      <td>[0.9793993630761814, 0.020600636923818666]</td>\n",
       "      <td>Юла</td>\n",
       "      <td>[0.1427, 0.3792, 0.2166, 0.141, 0.0886, 0.0319]</td>\n",
       "      <td>[0.4282, 0.5718]</td>\n",
       "      <td>[0.9774, 0.02259]</td>\n",
       "      <td>0.127755</td>\n",
       "      <td>0.028537</td>\n",
       "      <td>0.000092</td>\n",
       "      <td>0.156385</td>\n",
       "    </tr>\n",
       "    <tr>\n",
       "      <th>16</th>\n",
       "      <td>Кластер 1</td>\n",
       "      <td>[0.09399680774237469, 0.22218849039332847, 0.2...</td>\n",
       "      <td>[0.5472131411001949, 0.452786858899805]</td>\n",
       "      <td>[0.9793993630761814, 0.020600636923818666]</td>\n",
       "      <td>Wildberries</td>\n",
       "      <td>[0.1446, 0.3722, 0.2167, 0.1429, 0.0898, 0.0337]</td>\n",
       "      <td>[0.5228, 0.4772]</td>\n",
       "      <td>[0.9216, 0.0784]</td>\n",
       "      <td>0.124114</td>\n",
       "      <td>0.001197</td>\n",
       "      <td>0.032042</td>\n",
       "      <td>0.157353</td>\n",
       "    </tr>\n",
       "    <tr>\n",
       "      <th>...</th>\n",
       "      <td>...</td>\n",
       "      <td>...</td>\n",
       "      <td>...</td>\n",
       "      <td>...</td>\n",
       "      <td>...</td>\n",
       "      <td>...</td>\n",
       "      <td>...</td>\n",
       "      <td>...</td>\n",
       "      <td>...</td>\n",
       "      <td>...</td>\n",
       "      <td>...</td>\n",
       "      <td>...</td>\n",
       "    </tr>\n",
       "    <tr>\n",
       "      <th>60</th>\n",
       "      <td>Кластер 2</td>\n",
       "      <td>[0.0, 0.0, 0.8, 0.2, 0.0, 0.0]</td>\n",
       "      <td>[1.0, 0]</td>\n",
       "      <td>[1.0, 0]</td>\n",
       "      <td>Хабр</td>\n",
       "      <td>[0.172, 0.4475, 0.1937, 0.1025, 0.0569, 0.0275]</td>\n",
       "      <td>[0.301, 0.699]</td>\n",
       "      <td>[0.6852, 0.3148]</td>\n",
       "      <td>1.268432</td>\n",
       "      <td>1.200645</td>\n",
       "      <td>0.378045</td>\n",
       "      <td>2.847121</td>\n",
       "    </tr>\n",
       "    <tr>\n",
       "      <th>70</th>\n",
       "      <td>Кластер 2</td>\n",
       "      <td>[0.0, 0.0, 0.8, 0.2, 0.0, 0.0]</td>\n",
       "      <td>[1.0, 0]</td>\n",
       "      <td>[1.0, 0]</td>\n",
       "      <td>Good Game</td>\n",
       "      <td>[0.2494, 0.3979, 0.1575, 0.1009, 0.0614, 0.0329]</td>\n",
       "      <td>[0.2608, 0.7392]</td>\n",
       "      <td>[0.7995, 0.2005]</td>\n",
       "      <td>1.436987</td>\n",
       "      <td>1.344001</td>\n",
       "      <td>0.223769</td>\n",
       "      <td>3.004757</td>\n",
       "    </tr>\n",
       "    <tr>\n",
       "      <th>69</th>\n",
       "      <td>Кластер 2</td>\n",
       "      <td>[0.0, 0.0, 0.8, 0.2, 0.0, 0.0]</td>\n",
       "      <td>[1.0, 0]</td>\n",
       "      <td>[1.0, 0]</td>\n",
       "      <td>Wasd TV</td>\n",
       "      <td>[0.2726, 0.4071, 0.156, 0.0872, 0.05, 0.0272]</td>\n",
       "      <td>[0.2448, 0.7552]</td>\n",
       "      <td>[0.8434, 0.1566]</td>\n",
       "      <td>1.473927</td>\n",
       "      <td>1.407314</td>\n",
       "      <td>0.170314</td>\n",
       "      <td>3.051555</td>\n",
       "    </tr>\n",
       "    <tr>\n",
       "      <th>97</th>\n",
       "      <td>Кластер 3</td>\n",
       "      <td>[0.0, 0.0, 0.3217391304347826, 0.4260869565217...</td>\n",
       "      <td>[0.2440944881889764, 0.7559055118110236]</td>\n",
       "      <td>[1.0, 0]</td>\n",
       "      <td>Likee</td>\n",
       "      <td>[0.293, 0.3272, 0.1615, 0.1001, 0.0712, 0.047]</td>\n",
       "      <td>[0.3812, 0.6188]</td>\n",
       "      <td>[0.1535, 0.8465]</td>\n",
       "      <td>1.157836</td>\n",
       "      <td>0.042473</td>\n",
       "      <td>1.874055</td>\n",
       "      <td>3.074363</td>\n",
       "    </tr>\n",
       "    <tr>\n",
       "      <th>71</th>\n",
       "      <td>Кластер 2</td>\n",
       "      <td>[0.0, 0.0, 0.8, 0.2, 0.0, 0.0]</td>\n",
       "      <td>[1.0, 0]</td>\n",
       "      <td>[1.0, 0]</td>\n",
       "      <td>Likee</td>\n",
       "      <td>[0.293, 0.3272, 0.1615, 0.1001, 0.0712, 0.047]</td>\n",
       "      <td>[0.3812, 0.6188]</td>\n",
       "      <td>[0.1535, 0.8465]</td>\n",
       "      <td>1.418515</td>\n",
       "      <td>0.964431</td>\n",
       "      <td>1.874055</td>\n",
       "      <td>4.257001</td>\n",
       "    </tr>\n",
       "  </tbody>\n",
       "</table>\n",
       "<p>104 rows × 12 columns</p>\n",
       "</div>"
      ],
      "text/plain": [
       "      cluster                                        age_cluster  \\\n",
       "14  Кластер 1  [0.09399680774237469, 0.22218849039332847, 0.2...   \n",
       "23  Кластер 1  [0.09399680774237469, 0.22218849039332847, 0.2...   \n",
       "13  Кластер 1  [0.09399680774237469, 0.22218849039332847, 0.2...   \n",
       "15  Кластер 1  [0.09399680774237469, 0.22218849039332847, 0.2...   \n",
       "16  Кластер 1  [0.09399680774237469, 0.22218849039332847, 0.2...   \n",
       "..        ...                                                ...   \n",
       "60  Кластер 2                     [0.0, 0.0, 0.8, 0.2, 0.0, 0.0]   \n",
       "70  Кластер 2                     [0.0, 0.0, 0.8, 0.2, 0.0, 0.0]   \n",
       "69  Кластер 2                     [0.0, 0.0, 0.8, 0.2, 0.0, 0.0]   \n",
       "97  Кластер 3  [0.0, 0.0, 0.3217391304347826, 0.4260869565217...   \n",
       "71  Кластер 2                     [0.0, 0.0, 0.8, 0.2, 0.0, 0.0]   \n",
       "\n",
       "                              gender_cluster  \\\n",
       "14   [0.5472131411001949, 0.452786858899805]   \n",
       "23   [0.5472131411001949, 0.452786858899805]   \n",
       "13   [0.5472131411001949, 0.452786858899805]   \n",
       "15   [0.5472131411001949, 0.452786858899805]   \n",
       "16   [0.5472131411001949, 0.452786858899805]   \n",
       "..                                       ...   \n",
       "60                                  [1.0, 0]   \n",
       "70                                  [1.0, 0]   \n",
       "69                                  [1.0, 0]   \n",
       "97  [0.2440944881889764, 0.7559055118110236]   \n",
       "71                                  [1.0, 0]   \n",
       "\n",
       "                             residents_cluster         site  \\\n",
       "14  [0.9793993630761814, 0.020600636923818666]         ЦИАН   \n",
       "23  [0.9793993630761814, 0.020600636923818666]         2ГИС   \n",
       "13  [0.9793993630761814, 0.020600636923818666]        Avito   \n",
       "15  [0.9793993630761814, 0.020600636923818666]          Юла   \n",
       "16  [0.9793993630761814, 0.020600636923818666]  Wildberries   \n",
       "..                                         ...          ...   \n",
       "60                                    [1.0, 0]         Хабр   \n",
       "70                                    [1.0, 0]    Good Game   \n",
       "69                                    [1.0, 0]      Wasd TV   \n",
       "97                                    [1.0, 0]        Likee   \n",
       "71                                    [1.0, 0]        Likee   \n",
       "\n",
       "                                                 age            gender  \\\n",
       "14   [0.112, 0.3754, 0.2259, 0.1561, 0.0963, 0.0343]  [0.5155, 0.4845]   \n",
       "23   [0.126, 0.3768, 0.2247, 0.1524, 0.0877, 0.0324]  [0.4798, 0.5202]   \n",
       "13    [0.1316, 0.3731, 0.2232, 0.15, 0.0882, 0.0339]  [0.4346, 0.5654]   \n",
       "15   [0.1427, 0.3792, 0.2166, 0.141, 0.0886, 0.0319]  [0.4282, 0.5718]   \n",
       "16  [0.1446, 0.3722, 0.2167, 0.1429, 0.0898, 0.0337]  [0.5228, 0.4772]   \n",
       "..                                               ...               ...   \n",
       "60   [0.172, 0.4475, 0.1937, 0.1025, 0.0569, 0.0275]    [0.301, 0.699]   \n",
       "70  [0.2494, 0.3979, 0.1575, 0.1009, 0.0614, 0.0329]  [0.2608, 0.7392]   \n",
       "69     [0.2726, 0.4071, 0.156, 0.0872, 0.05, 0.0272]  [0.2448, 0.7552]   \n",
       "97    [0.293, 0.3272, 0.1615, 0.1001, 0.0712, 0.047]  [0.3812, 0.6188]   \n",
       "71    [0.293, 0.3272, 0.1615, 0.1001, 0.0712, 0.047]  [0.3812, 0.6188]   \n",
       "\n",
       "             resident  age_diff  gender_diff  res_diff  total_diff  \n",
       "14   [0.9625, 0.0375]  0.101697     0.002017  0.004707    0.108421  \n",
       "23  [0.9746, 0.02539]  0.114922     0.009098  0.000495    0.124515  \n",
       "13   [0.9573, 0.0427]  0.116913     0.025515  0.007337    0.149765  \n",
       "15  [0.9774, 0.02259]  0.127755     0.028537  0.000092    0.156385  \n",
       "16   [0.9216, 0.0784]  0.124114     0.001197  0.032042    0.157353  \n",
       "..                ...       ...          ...       ...         ...  \n",
       "60   [0.6852, 0.3148]  1.268432     1.200645  0.378045    2.847121  \n",
       "70   [0.7995, 0.2005]  1.436987     1.344001  0.223769    3.004757  \n",
       "69   [0.8434, 0.1566]  1.473927     1.407314  0.170314    3.051555  \n",
       "97   [0.1535, 0.8465]  1.157836     0.042473  1.874055    3.074363  \n",
       "71   [0.1535, 0.8465]  1.418515     0.964431  1.874055    4.257001  \n",
       "\n",
       "[104 rows x 12 columns]"
      ]
     },
     "execution_count": 93,
     "metadata": {},
     "output_type": "execute_result"
    }
   ],
   "source": [
    "df_cross[\"total_diff\"] = df_cross.age_diff + df_cross.gender_diff + df_cross.res_diff\n",
    "df_cross"
   ]
  },
  {
   "cell_type": "code",
   "execution_count": 107,
   "metadata": {},
   "outputs": [
    {
     "data": {
      "text/plain": [
       "[30    РБК\n",
       " Name: site, dtype: object,\n",
       " 14    ЦИАН\n",
       " Name: site, dtype: object,\n",
       " 66    ЦИАН\n",
       " Name: site, dtype: object,\n",
       " 82    РБК\n",
       " Name: site, dtype: object]"
      ]
     },
     "execution_count": 107,
     "metadata": {},
     "output_type": "execute_result"
    }
   ],
   "source": [
    "[df_cross[df_cross['total_diff'] == i]['site'] for i in df_cross.groupby([\"cluster\"]).min()['total_diff'].reset_index()['total_diff']]\n"
   ]
  },
  {
   "cell_type": "code",
   "execution_count": 117,
   "metadata": {},
   "outputs": [],
   "source": [
    "df_top5 = df_cross.sort_values(['cluster','total_diff'],ascending=True).groupby('cluster').head(5)"
   ]
  },
  {
   "cell_type": "code",
   "execution_count": null,
   "metadata": {},
   "outputs": [],
   "source": []
  },
  {
   "cell_type": "code",
   "execution_count": 109,
   "metadata": {},
   "outputs": [
    {
     "data": {
      "text/html": [
       "<div>\n",
       "<style scoped>\n",
       "    .dataframe tbody tr th:only-of-type {\n",
       "        vertical-align: middle;\n",
       "    }\n",
       "\n",
       "    .dataframe tbody tr th {\n",
       "        vertical-align: top;\n",
       "    }\n",
       "\n",
       "    .dataframe thead th {\n",
       "        text-align: right;\n",
       "    }\n",
       "</style>\n",
       "<table border=\"1\" class=\"dataframe\">\n",
       "  <thead>\n",
       "    <tr style=\"text-align: right;\">\n",
       "      <th></th>\n",
       "      <th>age_cluster</th>\n",
       "      <th>gender_cluster</th>\n",
       "      <th>residents_cluster</th>\n",
       "      <th>site</th>\n",
       "      <th>age</th>\n",
       "      <th>gender</th>\n",
       "      <th>resident</th>\n",
       "      <th>age_diff</th>\n",
       "      <th>gender_diff</th>\n",
       "      <th>res_diff</th>\n",
       "      <th>total_diff</th>\n",
       "    </tr>\n",
       "  </thead>\n",
       "  <tbody>\n",
       "    <tr>\n",
       "      <th>14</th>\n",
       "      <td>13.5</td>\n",
       "      <td>13.5</td>\n",
       "      <td>13.5</td>\n",
       "      <td>24.0</td>\n",
       "      <td>2.0</td>\n",
       "      <td>24.0</td>\n",
       "      <td>24.0</td>\n",
       "      <td>5.0</td>\n",
       "      <td>3.0</td>\n",
       "      <td>3.0</td>\n",
       "      <td>1.0</td>\n",
       "    </tr>\n",
       "    <tr>\n",
       "      <th>23</th>\n",
       "      <td>13.5</td>\n",
       "      <td>13.5</td>\n",
       "      <td>13.5</td>\n",
       "      <td>1.0</td>\n",
       "      <td>5.0</td>\n",
       "      <td>20.0</td>\n",
       "      <td>25.0</td>\n",
       "      <td>7.0</td>\n",
       "      <td>7.0</td>\n",
       "      <td>2.0</td>\n",
       "      <td>2.0</td>\n",
       "    </tr>\n",
       "    <tr>\n",
       "      <th>13</th>\n",
       "      <td>13.5</td>\n",
       "      <td>13.5</td>\n",
       "      <td>13.5</td>\n",
       "      <td>2.0</td>\n",
       "      <td>7.0</td>\n",
       "      <td>14.0</td>\n",
       "      <td>23.0</td>\n",
       "      <td>8.0</td>\n",
       "      <td>13.0</td>\n",
       "      <td>4.0</td>\n",
       "      <td>3.0</td>\n",
       "    </tr>\n",
       "    <tr>\n",
       "      <th>15</th>\n",
       "      <td>13.5</td>\n",
       "      <td>13.5</td>\n",
       "      <td>13.5</td>\n",
       "      <td>25.0</td>\n",
       "      <td>8.0</td>\n",
       "      <td>12.0</td>\n",
       "      <td>26.0</td>\n",
       "      <td>12.0</td>\n",
       "      <td>15.0</td>\n",
       "      <td>1.0</td>\n",
       "      <td>4.0</td>\n",
       "    </tr>\n",
       "    <tr>\n",
       "      <th>16</th>\n",
       "      <td>13.5</td>\n",
       "      <td>13.5</td>\n",
       "      <td>13.5</td>\n",
       "      <td>13.0</td>\n",
       "      <td>9.0</td>\n",
       "      <td>26.0</td>\n",
       "      <td>21.0</td>\n",
       "      <td>10.0</td>\n",
       "      <td>1.0</td>\n",
       "      <td>6.0</td>\n",
       "      <td>5.0</td>\n",
       "    </tr>\n",
       "    <tr>\n",
       "      <th>...</th>\n",
       "      <td>...</td>\n",
       "      <td>...</td>\n",
       "      <td>...</td>\n",
       "      <td>...</td>\n",
       "      <td>...</td>\n",
       "      <td>...</td>\n",
       "      <td>...</td>\n",
       "      <td>...</td>\n",
       "      <td>...</td>\n",
       "      <td>...</td>\n",
       "      <td>...</td>\n",
       "    </tr>\n",
       "    <tr>\n",
       "      <th>60</th>\n",
       "      <td>13.5</td>\n",
       "      <td>13.5</td>\n",
       "      <td>13.5</td>\n",
       "      <td>23.0</td>\n",
       "      <td>15.0</td>\n",
       "      <td>3.0</td>\n",
       "      <td>5.0</td>\n",
       "      <td>19.0</td>\n",
       "      <td>24.0</td>\n",
       "      <td>22.0</td>\n",
       "      <td>23.0</td>\n",
       "    </tr>\n",
       "    <tr>\n",
       "      <th>70</th>\n",
       "      <td>13.5</td>\n",
       "      <td>13.5</td>\n",
       "      <td>13.5</td>\n",
       "      <td>4.0</td>\n",
       "      <td>23.0</td>\n",
       "      <td>2.0</td>\n",
       "      <td>11.0</td>\n",
       "      <td>25.0</td>\n",
       "      <td>25.0</td>\n",
       "      <td>16.0</td>\n",
       "      <td>24.0</td>\n",
       "    </tr>\n",
       "    <tr>\n",
       "      <th>69</th>\n",
       "      <td>13.5</td>\n",
       "      <td>13.5</td>\n",
       "      <td>13.5</td>\n",
       "      <td>12.0</td>\n",
       "      <td>25.0</td>\n",
       "      <td>1.0</td>\n",
       "      <td>16.0</td>\n",
       "      <td>26.0</td>\n",
       "      <td>26.0</td>\n",
       "      <td>11.0</td>\n",
       "      <td>25.0</td>\n",
       "    </tr>\n",
       "    <tr>\n",
       "      <th>97</th>\n",
       "      <td>13.5</td>\n",
       "      <td>13.5</td>\n",
       "      <td>13.5</td>\n",
       "      <td>6.0</td>\n",
       "      <td>26.0</td>\n",
       "      <td>4.0</td>\n",
       "      <td>1.0</td>\n",
       "      <td>22.0</td>\n",
       "      <td>4.0</td>\n",
       "      <td>26.0</td>\n",
       "      <td>26.0</td>\n",
       "    </tr>\n",
       "    <tr>\n",
       "      <th>71</th>\n",
       "      <td>13.5</td>\n",
       "      <td>13.5</td>\n",
       "      <td>13.5</td>\n",
       "      <td>6.0</td>\n",
       "      <td>26.0</td>\n",
       "      <td>4.0</td>\n",
       "      <td>1.0</td>\n",
       "      <td>24.0</td>\n",
       "      <td>23.0</td>\n",
       "      <td>26.0</td>\n",
       "      <td>26.0</td>\n",
       "    </tr>\n",
       "  </tbody>\n",
       "</table>\n",
       "<p>104 rows × 11 columns</p>\n",
       "</div>"
      ],
      "text/plain": [
       "    age_cluster  gender_cluster  residents_cluster  site   age  gender  \\\n",
       "14         13.5            13.5               13.5  24.0   2.0    24.0   \n",
       "23         13.5            13.5               13.5   1.0   5.0    20.0   \n",
       "13         13.5            13.5               13.5   2.0   7.0    14.0   \n",
       "15         13.5            13.5               13.5  25.0   8.0    12.0   \n",
       "16         13.5            13.5               13.5  13.0   9.0    26.0   \n",
       "..          ...             ...                ...   ...   ...     ...   \n",
       "60         13.5            13.5               13.5  23.0  15.0     3.0   \n",
       "70         13.5            13.5               13.5   4.0  23.0     2.0   \n",
       "69         13.5            13.5               13.5  12.0  25.0     1.0   \n",
       "97         13.5            13.5               13.5   6.0  26.0     4.0   \n",
       "71         13.5            13.5               13.5   6.0  26.0     4.0   \n",
       "\n",
       "    resident  age_diff  gender_diff  res_diff  total_diff  \n",
       "14      24.0       5.0          3.0       3.0         1.0  \n",
       "23      25.0       7.0          7.0       2.0         2.0  \n",
       "13      23.0       8.0         13.0       4.0         3.0  \n",
       "15      26.0      12.0         15.0       1.0         4.0  \n",
       "16      21.0      10.0          1.0       6.0         5.0  \n",
       "..       ...       ...          ...       ...         ...  \n",
       "60       5.0      19.0         24.0      22.0        23.0  \n",
       "70      11.0      25.0         25.0      16.0        24.0  \n",
       "69      16.0      26.0         26.0      11.0        25.0  \n",
       "97       1.0      22.0          4.0      26.0        26.0  \n",
       "71       1.0      24.0         23.0      26.0        26.0  \n",
       "\n",
       "[104 rows x 11 columns]"
      ]
     },
     "execution_count": 109,
     "metadata": {},
     "output_type": "execute_result"
    }
   ],
   "source": [
    "df_cross.groupby([\"cluster\"]).rank()"
   ]
  },
  {
   "cell_type": "code",
   "execution_count": 99,
   "metadata": {},
   "outputs": [
    {
     "data": {
      "text/html": [
       "<div>\n",
       "<style scoped>\n",
       "    .dataframe tbody tr th:only-of-type {\n",
       "        vertical-align: middle;\n",
       "    }\n",
       "\n",
       "    .dataframe tbody tr th {\n",
       "        vertical-align: top;\n",
       "    }\n",
       "\n",
       "    .dataframe thead th {\n",
       "        text-align: right;\n",
       "    }\n",
       "</style>\n",
       "<table border=\"1\" class=\"dataframe\">\n",
       "  <thead>\n",
       "    <tr style=\"text-align: right;\">\n",
       "      <th></th>\n",
       "      <th>cluster</th>\n",
       "      <th>age_cluster</th>\n",
       "      <th>gender_cluster</th>\n",
       "      <th>residents_cluster</th>\n",
       "      <th>site</th>\n",
       "      <th>age</th>\n",
       "      <th>gender</th>\n",
       "      <th>resident</th>\n",
       "      <th>age_diff</th>\n",
       "      <th>gender_diff</th>\n",
       "      <th>res_diff</th>\n",
       "      <th>total_diff</th>\n",
       "    </tr>\n",
       "  </thead>\n",
       "  <tbody>\n",
       "  </tbody>\n",
       "</table>\n",
       "</div>"
      ],
      "text/plain": [
       "Empty DataFrame\n",
       "Columns: [cluster, age_cluster, gender_cluster, residents_cluster, site, age, gender, resident, age_diff, gender_diff, res_diff, total_diff]\n",
       "Index: []"
      ]
     },
     "execution_count": 99,
     "metadata": {},
     "output_type": "execute_result"
    }
   ],
   "source": [
    "df_cross[df_cross['total_diff'] == 0.108421]"
   ]
  },
  {
   "cell_type": "code",
   "execution_count": 89,
   "metadata": {},
   "outputs": [
    {
     "data": {
      "text/html": [
       "<div>\n",
       "<style scoped>\n",
       "    .dataframe tbody tr th:only-of-type {\n",
       "        vertical-align: middle;\n",
       "    }\n",
       "\n",
       "    .dataframe tbody tr th {\n",
       "        vertical-align: top;\n",
       "    }\n",
       "\n",
       "    .dataframe thead th {\n",
       "        text-align: right;\n",
       "    }\n",
       "</style>\n",
       "<table border=\"1\" class=\"dataframe\">\n",
       "  <thead>\n",
       "    <tr style=\"text-align: right;\">\n",
       "      <th></th>\n",
       "      <th>cluster</th>\n",
       "      <th>age_cluster</th>\n",
       "      <th>gender_cluster</th>\n",
       "      <th>residents_cluster</th>\n",
       "      <th>site</th>\n",
       "      <th>age</th>\n",
       "      <th>gender</th>\n",
       "      <th>resident</th>\n",
       "      <th>age_diff</th>\n",
       "      <th>gender_diff</th>\n",
       "      <th>res_diff</th>\n",
       "      <th>total_diff</th>\n",
       "    </tr>\n",
       "  </thead>\n",
       "  <tbody>\n",
       "    <tr>\n",
       "      <th>14</th>\n",
       "      <td>Кластер 1</td>\n",
       "      <td>[0.09399680774237469, 0.22218849039332847, 0.2...</td>\n",
       "      <td>[0.5472131411001949, 0.452786858899805]</td>\n",
       "      <td>[0.9793993630761814, 0.020600636923818666]</td>\n",
       "      <td>ЦИАН</td>\n",
       "      <td>[0.112, 0.3754, 0.2259, 0.1561, 0.0963, 0.0343]</td>\n",
       "      <td>[0.5155, 0.4845]</td>\n",
       "      <td>[0.9625, 0.0375]</td>\n",
       "      <td>0.101697</td>\n",
       "      <td>0.002017</td>\n",
       "      <td>0.004707</td>\n",
       "      <td>0.108421</td>\n",
       "    </tr>\n",
       "    <tr>\n",
       "      <th>23</th>\n",
       "      <td>Кластер 1</td>\n",
       "      <td>[0.09399680774237469, 0.22218849039332847, 0.2...</td>\n",
       "      <td>[0.5472131411001949, 0.452786858899805]</td>\n",
       "      <td>[0.9793993630761814, 0.020600636923818666]</td>\n",
       "      <td>2ГИС</td>\n",
       "      <td>[0.126, 0.3768, 0.2247, 0.1524, 0.0877, 0.0324]</td>\n",
       "      <td>[0.4798, 0.5202]</td>\n",
       "      <td>[0.9746, 0.02539]</td>\n",
       "      <td>0.114922</td>\n",
       "      <td>0.009098</td>\n",
       "      <td>0.000495</td>\n",
       "      <td>0.124515</td>\n",
       "    </tr>\n",
       "    <tr>\n",
       "      <th>13</th>\n",
       "      <td>Кластер 1</td>\n",
       "      <td>[0.09399680774237469, 0.22218849039332847, 0.2...</td>\n",
       "      <td>[0.5472131411001949, 0.452786858899805]</td>\n",
       "      <td>[0.9793993630761814, 0.020600636923818666]</td>\n",
       "      <td>Avito</td>\n",
       "      <td>[0.1316, 0.3731, 0.2232, 0.15, 0.0882, 0.0339]</td>\n",
       "      <td>[0.4346, 0.5654]</td>\n",
       "      <td>[0.9573, 0.0427]</td>\n",
       "      <td>0.116913</td>\n",
       "      <td>0.025515</td>\n",
       "      <td>0.007337</td>\n",
       "      <td>0.149765</td>\n",
       "    </tr>\n",
       "    <tr>\n",
       "      <th>15</th>\n",
       "      <td>Кластер 1</td>\n",
       "      <td>[0.09399680774237469, 0.22218849039332847, 0.2...</td>\n",
       "      <td>[0.5472131411001949, 0.452786858899805]</td>\n",
       "      <td>[0.9793993630761814, 0.020600636923818666]</td>\n",
       "      <td>Юла</td>\n",
       "      <td>[0.1427, 0.3792, 0.2166, 0.141, 0.0886, 0.0319]</td>\n",
       "      <td>[0.4282, 0.5718]</td>\n",
       "      <td>[0.9774, 0.02259]</td>\n",
       "      <td>0.127755</td>\n",
       "      <td>0.028537</td>\n",
       "      <td>0.000092</td>\n",
       "      <td>0.156385</td>\n",
       "    </tr>\n",
       "    <tr>\n",
       "      <th>16</th>\n",
       "      <td>Кластер 1</td>\n",
       "      <td>[0.09399680774237469, 0.22218849039332847, 0.2...</td>\n",
       "      <td>[0.5472131411001949, 0.452786858899805]</td>\n",
       "      <td>[0.9793993630761814, 0.020600636923818666]</td>\n",
       "      <td>Wildberries</td>\n",
       "      <td>[0.1446, 0.3722, 0.2167, 0.1429, 0.0898, 0.0337]</td>\n",
       "      <td>[0.5228, 0.4772]</td>\n",
       "      <td>[0.9216, 0.0784]</td>\n",
       "      <td>0.124114</td>\n",
       "      <td>0.001197</td>\n",
       "      <td>0.032042</td>\n",
       "      <td>0.157353</td>\n",
       "    </tr>\n",
       "    <tr>\n",
       "      <th>...</th>\n",
       "      <td>...</td>\n",
       "      <td>...</td>\n",
       "      <td>...</td>\n",
       "      <td>...</td>\n",
       "      <td>...</td>\n",
       "      <td>...</td>\n",
       "      <td>...</td>\n",
       "      <td>...</td>\n",
       "      <td>...</td>\n",
       "      <td>...</td>\n",
       "      <td>...</td>\n",
       "      <td>...</td>\n",
       "    </tr>\n",
       "    <tr>\n",
       "      <th>60</th>\n",
       "      <td>Кластер 2</td>\n",
       "      <td>[0.0, 0.0, 0.8, 0.2, 0.0, 0.0]</td>\n",
       "      <td>[1.0, 0]</td>\n",
       "      <td>[1.0, 0]</td>\n",
       "      <td>Хабр</td>\n",
       "      <td>[0.172, 0.4475, 0.1937, 0.1025, 0.0569, 0.0275]</td>\n",
       "      <td>[0.301, 0.699]</td>\n",
       "      <td>[0.6852, 0.3148]</td>\n",
       "      <td>1.268432</td>\n",
       "      <td>1.200645</td>\n",
       "      <td>0.378045</td>\n",
       "      <td>2.847121</td>\n",
       "    </tr>\n",
       "    <tr>\n",
       "      <th>70</th>\n",
       "      <td>Кластер 2</td>\n",
       "      <td>[0.0, 0.0, 0.8, 0.2, 0.0, 0.0]</td>\n",
       "      <td>[1.0, 0]</td>\n",
       "      <td>[1.0, 0]</td>\n",
       "      <td>Good Game</td>\n",
       "      <td>[0.2494, 0.3979, 0.1575, 0.1009, 0.0614, 0.0329]</td>\n",
       "      <td>[0.2608, 0.7392]</td>\n",
       "      <td>[0.7995, 0.2005]</td>\n",
       "      <td>1.436987</td>\n",
       "      <td>1.344001</td>\n",
       "      <td>0.223769</td>\n",
       "      <td>3.004757</td>\n",
       "    </tr>\n",
       "    <tr>\n",
       "      <th>69</th>\n",
       "      <td>Кластер 2</td>\n",
       "      <td>[0.0, 0.0, 0.8, 0.2, 0.0, 0.0]</td>\n",
       "      <td>[1.0, 0]</td>\n",
       "      <td>[1.0, 0]</td>\n",
       "      <td>Wasd TV</td>\n",
       "      <td>[0.2726, 0.4071, 0.156, 0.0872, 0.05, 0.0272]</td>\n",
       "      <td>[0.2448, 0.7552]</td>\n",
       "      <td>[0.8434, 0.1566]</td>\n",
       "      <td>1.473927</td>\n",
       "      <td>1.407314</td>\n",
       "      <td>0.170314</td>\n",
       "      <td>3.051555</td>\n",
       "    </tr>\n",
       "    <tr>\n",
       "      <th>97</th>\n",
       "      <td>Кластер 3</td>\n",
       "      <td>[0.0, 0.0, 0.3217391304347826, 0.4260869565217...</td>\n",
       "      <td>[0.2440944881889764, 0.7559055118110236]</td>\n",
       "      <td>[1.0, 0]</td>\n",
       "      <td>Likee</td>\n",
       "      <td>[0.293, 0.3272, 0.1615, 0.1001, 0.0712, 0.047]</td>\n",
       "      <td>[0.3812, 0.6188]</td>\n",
       "      <td>[0.1535, 0.8465]</td>\n",
       "      <td>1.157836</td>\n",
       "      <td>0.042473</td>\n",
       "      <td>1.874055</td>\n",
       "      <td>3.074363</td>\n",
       "    </tr>\n",
       "    <tr>\n",
       "      <th>71</th>\n",
       "      <td>Кластер 2</td>\n",
       "      <td>[0.0, 0.0, 0.8, 0.2, 0.0, 0.0]</td>\n",
       "      <td>[1.0, 0]</td>\n",
       "      <td>[1.0, 0]</td>\n",
       "      <td>Likee</td>\n",
       "      <td>[0.293, 0.3272, 0.1615, 0.1001, 0.0712, 0.047]</td>\n",
       "      <td>[0.3812, 0.6188]</td>\n",
       "      <td>[0.1535, 0.8465]</td>\n",
       "      <td>1.418515</td>\n",
       "      <td>0.964431</td>\n",
       "      <td>1.874055</td>\n",
       "      <td>4.257001</td>\n",
       "    </tr>\n",
       "  </tbody>\n",
       "</table>\n",
       "<p>104 rows × 12 columns</p>\n",
       "</div>"
      ],
      "text/plain": [
       "      cluster                                        age_cluster  \\\n",
       "14  Кластер 1  [0.09399680774237469, 0.22218849039332847, 0.2...   \n",
       "23  Кластер 1  [0.09399680774237469, 0.22218849039332847, 0.2...   \n",
       "13  Кластер 1  [0.09399680774237469, 0.22218849039332847, 0.2...   \n",
       "15  Кластер 1  [0.09399680774237469, 0.22218849039332847, 0.2...   \n",
       "16  Кластер 1  [0.09399680774237469, 0.22218849039332847, 0.2...   \n",
       "..        ...                                                ...   \n",
       "60  Кластер 2                     [0.0, 0.0, 0.8, 0.2, 0.0, 0.0]   \n",
       "70  Кластер 2                     [0.0, 0.0, 0.8, 0.2, 0.0, 0.0]   \n",
       "69  Кластер 2                     [0.0, 0.0, 0.8, 0.2, 0.0, 0.0]   \n",
       "97  Кластер 3  [0.0, 0.0, 0.3217391304347826, 0.4260869565217...   \n",
       "71  Кластер 2                     [0.0, 0.0, 0.8, 0.2, 0.0, 0.0]   \n",
       "\n",
       "                              gender_cluster  \\\n",
       "14   [0.5472131411001949, 0.452786858899805]   \n",
       "23   [0.5472131411001949, 0.452786858899805]   \n",
       "13   [0.5472131411001949, 0.452786858899805]   \n",
       "15   [0.5472131411001949, 0.452786858899805]   \n",
       "16   [0.5472131411001949, 0.452786858899805]   \n",
       "..                                       ...   \n",
       "60                                  [1.0, 0]   \n",
       "70                                  [1.0, 0]   \n",
       "69                                  [1.0, 0]   \n",
       "97  [0.2440944881889764, 0.7559055118110236]   \n",
       "71                                  [1.0, 0]   \n",
       "\n",
       "                             residents_cluster         site  \\\n",
       "14  [0.9793993630761814, 0.020600636923818666]         ЦИАН   \n",
       "23  [0.9793993630761814, 0.020600636923818666]         2ГИС   \n",
       "13  [0.9793993630761814, 0.020600636923818666]        Avito   \n",
       "15  [0.9793993630761814, 0.020600636923818666]          Юла   \n",
       "16  [0.9793993630761814, 0.020600636923818666]  Wildberries   \n",
       "..                                         ...          ...   \n",
       "60                                    [1.0, 0]         Хабр   \n",
       "70                                    [1.0, 0]    Good Game   \n",
       "69                                    [1.0, 0]      Wasd TV   \n",
       "97                                    [1.0, 0]        Likee   \n",
       "71                                    [1.0, 0]        Likee   \n",
       "\n",
       "                                                 age            gender  \\\n",
       "14   [0.112, 0.3754, 0.2259, 0.1561, 0.0963, 0.0343]  [0.5155, 0.4845]   \n",
       "23   [0.126, 0.3768, 0.2247, 0.1524, 0.0877, 0.0324]  [0.4798, 0.5202]   \n",
       "13    [0.1316, 0.3731, 0.2232, 0.15, 0.0882, 0.0339]  [0.4346, 0.5654]   \n",
       "15   [0.1427, 0.3792, 0.2166, 0.141, 0.0886, 0.0319]  [0.4282, 0.5718]   \n",
       "16  [0.1446, 0.3722, 0.2167, 0.1429, 0.0898, 0.0337]  [0.5228, 0.4772]   \n",
       "..                                               ...               ...   \n",
       "60   [0.172, 0.4475, 0.1937, 0.1025, 0.0569, 0.0275]    [0.301, 0.699]   \n",
       "70  [0.2494, 0.3979, 0.1575, 0.1009, 0.0614, 0.0329]  [0.2608, 0.7392]   \n",
       "69     [0.2726, 0.4071, 0.156, 0.0872, 0.05, 0.0272]  [0.2448, 0.7552]   \n",
       "97    [0.293, 0.3272, 0.1615, 0.1001, 0.0712, 0.047]  [0.3812, 0.6188]   \n",
       "71    [0.293, 0.3272, 0.1615, 0.1001, 0.0712, 0.047]  [0.3812, 0.6188]   \n",
       "\n",
       "             resident  age_diff  gender_diff  res_diff  total_diff  \n",
       "14   [0.9625, 0.0375]  0.101697     0.002017  0.004707    0.108421  \n",
       "23  [0.9746, 0.02539]  0.114922     0.009098  0.000495    0.124515  \n",
       "13   [0.9573, 0.0427]  0.116913     0.025515  0.007337    0.149765  \n",
       "15  [0.9774, 0.02259]  0.127755     0.028537  0.000092    0.156385  \n",
       "16   [0.9216, 0.0784]  0.124114     0.001197  0.032042    0.157353  \n",
       "..                ...       ...          ...       ...         ...  \n",
       "60   [0.6852, 0.3148]  1.268432     1.200645  0.378045    2.847121  \n",
       "70   [0.7995, 0.2005]  1.436987     1.344001  0.223769    3.004757  \n",
       "69   [0.8434, 0.1566]  1.473927     1.407314  0.170314    3.051555  \n",
       "97   [0.1535, 0.8465]  1.157836     0.042473  1.874055    3.074363  \n",
       "71   [0.1535, 0.8465]  1.418515     0.964431  1.874055    4.257001  \n",
       "\n",
       "[104 rows x 12 columns]"
      ]
     },
     "execution_count": 89,
     "metadata": {},
     "output_type": "execute_result"
    }
   ],
   "source": [
    "df_cross = df_cross.sort_values('total_diff')\n",
    "df_cross"
   ]
  },
  {
   "cell_type": "code",
   "execution_count": 178,
   "metadata": {},
   "outputs": [],
   "source": [
    "df_media = pd.read_csv(r'C:\\Moscow City Hack\\data_eff_media.csv').drop_duplicates(subset=['site'])"
   ]
  },
  {
   "cell_type": "code",
   "execution_count": 176,
   "metadata": {},
   "outputs": [
    {
     "data": {
      "text/html": [
       "<div>\n",
       "<style scoped>\n",
       "    .dataframe tbody tr th:only-of-type {\n",
       "        vertical-align: middle;\n",
       "    }\n",
       "\n",
       "    .dataframe tbody tr th {\n",
       "        vertical-align: top;\n",
       "    }\n",
       "\n",
       "    .dataframe thead th {\n",
       "        text-align: right;\n",
       "    }\n",
       "</style>\n",
       "<table border=\"1\" class=\"dataframe\">\n",
       "  <thead>\n",
       "    <tr style=\"text-align: right;\">\n",
       "      <th></th>\n",
       "      <th>site</th>\n",
       "      <th>efficiency</th>\n",
       "    </tr>\n",
       "  </thead>\n",
       "  <tbody>\n",
       "    <tr>\n",
       "      <th>0</th>\n",
       "      <td>VK</td>\n",
       "      <td>4.225846</td>\n",
       "    </tr>\n",
       "    <tr>\n",
       "      <th>1</th>\n",
       "      <td>TELEGRAM</td>\n",
       "      <td>-0.311078</td>\n",
       "    </tr>\n",
       "    <tr>\n",
       "      <th>2</th>\n",
       "      <td>Одноклассники</td>\n",
       "      <td>-0.173194</td>\n",
       "    </tr>\n",
       "    <tr>\n",
       "      <th>3</th>\n",
       "      <td>Яндекс Новости</td>\n",
       "      <td>1.656321</td>\n",
       "    </tr>\n",
       "    <tr>\n",
       "      <th>4</th>\n",
       "      <td>РБК</td>\n",
       "      <td>-0.331012</td>\n",
       "    </tr>\n",
       "    <tr>\n",
       "      <th>5</th>\n",
       "      <td>VC.RU</td>\n",
       "      <td>-0.333997</td>\n",
       "    </tr>\n",
       "    <tr>\n",
       "      <th>6</th>\n",
       "      <td>НОВАЯ ГАЗЕТА</td>\n",
       "      <td>-0.334201</td>\n",
       "    </tr>\n",
       "    <tr>\n",
       "      <th>7</th>\n",
       "      <td>Forbes RU</td>\n",
       "      <td>-0.334165</td>\n",
       "    </tr>\n",
       "    <tr>\n",
       "      <th>8</th>\n",
       "      <td>Хабр</td>\n",
       "      <td>-0.333556</td>\n",
       "    </tr>\n",
       "    <tr>\n",
       "      <th>9</th>\n",
       "      <td>НОЖ</td>\n",
       "      <td>-0.334225</td>\n",
       "    </tr>\n",
       "    <tr>\n",
       "      <th>10</th>\n",
       "      <td>YouTube</td>\n",
       "      <td>1.429503</td>\n",
       "    </tr>\n",
       "    <tr>\n",
       "      <th>11</th>\n",
       "      <td>Rutube</td>\n",
       "      <td>-0.332215</td>\n",
       "    </tr>\n",
       "    <tr>\n",
       "      <th>12</th>\n",
       "      <td>Ozon</td>\n",
       "      <td>-0.308727</td>\n",
       "    </tr>\n",
       "    <tr>\n",
       "      <th>13</th>\n",
       "      <td>Avito</td>\n",
       "      <td>-0.255953</td>\n",
       "    </tr>\n",
       "    <tr>\n",
       "      <th>14</th>\n",
       "      <td>ЦИАН</td>\n",
       "      <td>-0.330252</td>\n",
       "    </tr>\n",
       "    <tr>\n",
       "      <th>15</th>\n",
       "      <td>Юла</td>\n",
       "      <td>-0.332855</td>\n",
       "    </tr>\n",
       "    <tr>\n",
       "      <th>16</th>\n",
       "      <td>Wildberries</td>\n",
       "      <td>-0.272989</td>\n",
       "    </tr>\n",
       "    <tr>\n",
       "      <th>17</th>\n",
       "      <td>Wasd TV</td>\n",
       "      <td>-0.334105</td>\n",
       "    </tr>\n",
       "    <tr>\n",
       "      <th>18</th>\n",
       "      <td>Good Game</td>\n",
       "      <td>-0.334226</td>\n",
       "    </tr>\n",
       "    <tr>\n",
       "      <th>19</th>\n",
       "      <td>Likee</td>\n",
       "      <td>-0.334007</td>\n",
       "    </tr>\n",
       "    <tr>\n",
       "      <th>20</th>\n",
       "      <td>Отзовик</td>\n",
       "      <td>-0.333137</td>\n",
       "    </tr>\n",
       "    <tr>\n",
       "      <th>21</th>\n",
       "      <td>IVI</td>\n",
       "      <td>-0.332740</td>\n",
       "    </tr>\n",
       "    <tr>\n",
       "      <th>22</th>\n",
       "      <td>Кинопоиск</td>\n",
       "      <td>-0.326080</td>\n",
       "    </tr>\n",
       "    <tr>\n",
       "      <th>23</th>\n",
       "      <td>2ГИС</td>\n",
       "      <td>-0.330814</td>\n",
       "    </tr>\n",
       "    <tr>\n",
       "      <th>24</th>\n",
       "      <td>Биржа фриланса FL</td>\n",
       "      <td>-0.334048</td>\n",
       "    </tr>\n",
       "    <tr>\n",
       "      <th>25</th>\n",
       "      <td>Нетология</td>\n",
       "      <td>-0.334094</td>\n",
       "    </tr>\n",
       "  </tbody>\n",
       "</table>\n",
       "</div>"
      ],
      "text/plain": [
       "                 site  efficiency\n",
       "0                  VK    4.225846\n",
       "1            TELEGRAM   -0.311078\n",
       "2       Одноклассники   -0.173194\n",
       "3      Яндекс Новости    1.656321\n",
       "4                 РБК   -0.331012\n",
       "5               VC.RU   -0.333997\n",
       "6        НОВАЯ ГАЗЕТА   -0.334201\n",
       "7           Forbes RU   -0.334165\n",
       "8                Хабр   -0.333556\n",
       "9                 НОЖ   -0.334225\n",
       "10            YouTube    1.429503\n",
       "11             Rutube   -0.332215\n",
       "12               Ozon   -0.308727\n",
       "13              Avito   -0.255953\n",
       "14               ЦИАН   -0.330252\n",
       "15                Юла   -0.332855\n",
       "16        Wildberries   -0.272989\n",
       "17            Wasd TV   -0.334105\n",
       "18          Good Game   -0.334226\n",
       "19              Likee   -0.334007\n",
       "20            Отзовик   -0.333137\n",
       "21                IVI   -0.332740\n",
       "22          Кинопоиск   -0.326080\n",
       "23               2ГИС   -0.330814\n",
       "24  Биржа фриланса FL   -0.334048\n",
       "25          Нетология   -0.334094"
      ]
     },
     "execution_count": 176,
     "metadata": {},
     "output_type": "execute_result"
    }
   ],
   "source": [
    "# df__ = df_media['efficiency']\n",
    "# df_media['efficiency']=(df__-df__.mean())/df__.std()\n",
    "# df_media"
   ]
  },
  {
   "cell_type": "code",
   "execution_count": 189,
   "metadata": {},
   "outputs": [
    {
     "data": {
      "application/vnd.plotly.v1+json": {
       "config": {
        "plotlyServerURL": "https://plot.ly"
       },
       "data": [
        {
         "alignmentgroup": "True",
         "hovertemplate": "variable=total_diff<br>cluster=Кластер 0<br>site=%{x}<br>value=%{y}<extra></extra>",
         "legendgroup": "total_diff",
         "marker": {
          "color": "#636efa",
          "opacity": 0.7,
          "pattern": {
           "shape": ""
          }
         },
         "name": "total_diff",
         "offsetgroup": "total_diff",
         "orientation": "v",
         "showlegend": true,
         "textposition": "auto",
         "type": "bar",
         "x": [
          "РБК",
          "ЦИАН",
          "2ГИС",
          "Avito",
          "Юла"
         ],
         "xaxis": "x",
         "y": [
          0.39413856565024136,
          0.4191999825628411,
          0.4453700503578439,
          0.45752546921172926,
          0.4743516972058574
         ],
         "yaxis": "y"
        },
        {
         "alignmentgroup": "True",
         "hovertemplate": "variable=total_diff<br>cluster=Кластер 1<br>site=%{x}<br>value=%{y}<extra></extra>",
         "legendgroup": "total_diff",
         "marker": {
          "color": "#636efa",
          "opacity": 0.7,
          "pattern": {
           "shape": ""
          }
         },
         "name": "total_diff",
         "offsetgroup": "total_diff",
         "orientation": "v",
         "showlegend": false,
         "textposition": "auto",
         "type": "bar",
         "x": [
          "ЦИАН",
          "2ГИС",
          "Avito",
          "Юла",
          "Wildberries"
         ],
         "xaxis": "x2",
         "y": [
          0.10842094563160469,
          0.12451512923022295,
          0.1497653929404732,
          0.15638480328393953,
          0.15735290183337095
         ],
         "yaxis": "y2"
        },
        {
         "alignmentgroup": "True",
         "hovertemplate": "variable=total_diff<br>cluster=Кластер 2<br>site=%{x}<br>value=%{y}<extra></extra>",
         "legendgroup": "total_diff",
         "marker": {
          "color": "#636efa",
          "opacity": 0.7,
          "pattern": {
           "shape": ""
          }
         },
         "name": "total_diff",
         "offsetgroup": "total_diff",
         "orientation": "v",
         "showlegend": false,
         "textposition": "auto",
         "type": "bar",
         "x": [
          "ЦИАН",
          "2ГИС",
          "Wildberries",
          "Отзовик",
          "Ozon"
         ],
         "xaxis": "x3",
         "y": [
          1.7620187395058264,
          1.830342260539687,
          1.8422129928951811,
          1.9136898357697087,
          1.9330112556377872
         ],
         "yaxis": "y3"
        },
        {
         "alignmentgroup": "True",
         "hovertemplate": "variable=total_diff<br>cluster=Кластер 3<br>site=%{x}<br>value=%{y}<extra></extra>",
         "legendgroup": "total_diff",
         "marker": {
          "color": "#636efa",
          "opacity": 0.7,
          "pattern": {
           "shape": ""
          }
         },
         "name": "total_diff",
         "offsetgroup": "total_diff",
         "orientation": "v",
         "showlegend": false,
         "textposition": "auto",
         "type": "bar",
         "x": [
          "РБК",
          "Avito",
          "Юла",
          "2ГИС",
          "ЦИАН"
         ],
         "xaxis": "x4",
         "y": [
          0.8913528054642443,
          0.9497308124112793,
          0.9589351429418483,
          0.9631563164803352,
          0.9763583378079318
         ],
         "yaxis": "y4"
        },
        {
         "alignmentgroup": "True",
         "hovertemplate": "variable=efficiency<br>cluster=Кластер 0<br>site=%{x}<br>value=%{y}<extra></extra>",
         "legendgroup": "efficiency",
         "marker": {
          "color": "#EF553B",
          "opacity": 0.7,
          "pattern": {
           "shape": ""
          }
         },
         "name": "efficiency",
         "offsetgroup": "efficiency",
         "orientation": "v",
         "showlegend": true,
         "textposition": "auto",
         "type": "bar",
         "x": [
          "РБК",
          "ЦИАН",
          "2ГИС",
          "Avito",
          "Юла"
         ],
         "xaxis": "x",
         "y": [
          364.8605996843766,
          450.70694487698535,
          387.2254559565386,
          8846.95792880259,
          156.53370655470027
         ],
         "yaxis": "y"
        },
        {
         "alignmentgroup": "True",
         "hovertemplate": "variable=efficiency<br>cluster=Кластер 1<br>site=%{x}<br>value=%{y}<extra></extra>",
         "legendgroup": "efficiency",
         "marker": {
          "color": "#EF553B",
          "opacity": 0.7,
          "pattern": {
           "shape": ""
          }
         },
         "name": "efficiency",
         "offsetgroup": "efficiency",
         "orientation": "v",
         "showlegend": false,
         "textposition": "auto",
         "type": "bar",
         "x": [
          "ЦИАН",
          "2ГИС",
          "Avito",
          "Юла",
          "Wildberries"
         ],
         "xaxis": "x2",
         "y": [
          450.70694487698535,
          387.2254559565386,
          8846.95792880259,
          156.53370655470027,
          6921.818181818182
         ],
         "yaxis": "y2"
        },
        {
         "alignmentgroup": "True",
         "hovertemplate": "variable=efficiency<br>cluster=Кластер 2<br>site=%{x}<br>value=%{y}<extra></extra>",
         "legendgroup": "efficiency",
         "marker": {
          "color": "#EF553B",
          "opacity": 0.7,
          "pattern": {
           "shape": ""
          }
         },
         "name": "efficiency",
         "offsetgroup": "efficiency",
         "orientation": "v",
         "showlegend": false,
         "textposition": "auto",
         "type": "bar",
         "x": [
          "ЦИАН",
          "2ГИС",
          "Wildberries",
          "Отзовик",
          "Ozon"
         ],
         "xaxis": "x3",
         "y": [
          450.70694487698535,
          387.2254559565386,
          6921.818181818182,
          124.6819860484202,
          2883.209109730849
         ],
         "yaxis": "y3"
        },
        {
         "alignmentgroup": "True",
         "hovertemplate": "variable=efficiency<br>cluster=Кластер 3<br>site=%{x}<br>value=%{y}<extra></extra>",
         "legendgroup": "efficiency",
         "marker": {
          "color": "#EF553B",
          "opacity": 0.7,
          "pattern": {
           "shape": ""
          }
         },
         "name": "efficiency",
         "offsetgroup": "efficiency",
         "orientation": "v",
         "showlegend": false,
         "textposition": "auto",
         "type": "bar",
         "x": [
          "РБК",
          "Avito",
          "Юла",
          "2ГИС",
          "ЦИАН"
         ],
         "xaxis": "x4",
         "y": [
          364.8605996843766,
          8846.95792880259,
          156.53370655470027,
          387.2254559565386,
          450.70694487698535
         ],
         "yaxis": "y4"
        },
        {
         "alignmentgroup": "True",
         "hovertemplate": "variable=relative_efficiency<br>cluster=Кластер 0<br>site=%{x}<br>value=%{y}<extra></extra>",
         "legendgroup": "relative_efficiency",
         "marker": {
          "color": "#00cc96",
          "opacity": 0.7,
          "pattern": {
           "shape": ""
          }
         },
         "name": "relative_efficiency",
         "offsetgroup": "relative_efficiency",
         "orientation": "v",
         "showlegend": true,
         "textposition": "auto",
         "type": "bar",
         "x": [
          "РБК",
          "ЦИАН",
          "2ГИС",
          "Avito",
          "Юла"
         ],
         "xaxis": "x",
         "y": [
          925.7165664122144,
          1075.1597414711753,
          869.4465549387807,
          19336.53648625292,
          329.9950384424752
         ],
         "yaxis": "y"
        },
        {
         "alignmentgroup": "True",
         "hovertemplate": "variable=relative_efficiency<br>cluster=Кластер 1<br>site=%{x}<br>value=%{y}<extra></extra>",
         "legendgroup": "relative_efficiency",
         "marker": {
          "color": "#00cc96",
          "opacity": 0.7,
          "pattern": {
           "shape": ""
          }
         },
         "name": "relative_efficiency",
         "offsetgroup": "relative_efficiency",
         "orientation": "v",
         "showlegend": false,
         "textposition": "auto",
         "type": "bar",
         "x": [
          "ЦИАН",
          "2ГИС",
          "Avito",
          "Юла",
          "Wildberries"
         ],
         "xaxis": "x2",
         "y": [
          4157.009904787294,
          3109.866715397901,
          59072.11108723204,
          1000.9521594658427,
          43989.13589244163
         ],
         "yaxis": "y2"
        },
        {
         "alignmentgroup": "True",
         "hovertemplate": "variable=relative_efficiency<br>cluster=Кластер 2<br>site=%{x}<br>value=%{y}<extra></extra>",
         "legendgroup": "relative_efficiency",
         "marker": {
          "color": "#00cc96",
          "opacity": 0.7,
          "pattern": {
           "shape": ""
          }
         },
         "name": "relative_efficiency",
         "offsetgroup": "relative_efficiency",
         "orientation": "v",
         "showlegend": false,
         "textposition": "auto",
         "type": "bar",
         "x": [
          "ЦИАН",
          "2ГИС",
          "Wildberries",
          "Отзовик",
          "Ozon"
         ],
         "xaxis": "x3",
         "y": [
          255.79009733085476,
          211.55904242868922,
          3757.338705412128,
          65.15266148041782,
          1491.5635391784353
         ],
         "yaxis": "y3"
        },
        {
         "alignmentgroup": "True",
         "hovertemplate": "variable=relative_efficiency<br>cluster=Кластер 3<br>site=%{x}<br>value=%{y}<extra></extra>",
         "legendgroup": "relative_efficiency",
         "marker": {
          "color": "#00cc96",
          "opacity": 0.7,
          "pattern": {
           "shape": ""
          }
         },
         "name": "relative_efficiency",
         "offsetgroup": "relative_efficiency",
         "orientation": "v",
         "showlegend": false,
         "textposition": "auto",
         "type": "bar",
         "x": [
          "РБК",
          "Avito",
          "Юла",
          "2ГИС",
          "ЦИАН"
         ],
         "xaxis": "x4",
         "y": [
          409.3335404877599,
          9315.226812891304,
          163.2370110813561,
          402.03801743374083,
          461.6204188811341
         ],
         "yaxis": "y4"
        }
       ],
       "layout": {
        "annotations": [
         {
          "font": {},
          "showarrow": false,
          "text": "cluster=Кластер 0",
          "x": 0.1175,
          "xanchor": "center",
          "xref": "paper",
          "y": 1,
          "yanchor": "bottom",
          "yref": "paper"
         },
         {
          "font": {},
          "showarrow": false,
          "text": "cluster=Кластер 1",
          "x": 0.3725,
          "xanchor": "center",
          "xref": "paper",
          "y": 1,
          "yanchor": "bottom",
          "yref": "paper"
         },
         {
          "font": {},
          "showarrow": false,
          "text": "cluster=Кластер 2",
          "x": 0.6275,
          "xanchor": "center",
          "xref": "paper",
          "y": 1,
          "yanchor": "bottom",
          "yref": "paper"
         },
         {
          "font": {},
          "showarrow": false,
          "text": "cluster=Кластер 3",
          "x": 0.8824999999999998,
          "xanchor": "center",
          "xref": "paper",
          "y": 1,
          "yanchor": "bottom",
          "yref": "paper"
         }
        ],
        "autosize": true,
        "barmode": "relative",
        "legend": {
         "title": {
          "text": "variable"
         },
         "tracegroupgap": 0
        },
        "margin": {
         "t": 60
        },
        "template": {
         "data": {
          "bar": [
           {
            "error_x": {
             "color": "#2a3f5f"
            },
            "error_y": {
             "color": "#2a3f5f"
            },
            "marker": {
             "line": {
              "color": "#E5ECF6",
              "width": 0.5
             },
             "pattern": {
              "fillmode": "overlay",
              "size": 10,
              "solidity": 0.2
             }
            },
            "type": "bar"
           }
          ],
          "barpolar": [
           {
            "marker": {
             "line": {
              "color": "#E5ECF6",
              "width": 0.5
             },
             "pattern": {
              "fillmode": "overlay",
              "size": 10,
              "solidity": 0.2
             }
            },
            "type": "barpolar"
           }
          ],
          "carpet": [
           {
            "aaxis": {
             "endlinecolor": "#2a3f5f",
             "gridcolor": "white",
             "linecolor": "white",
             "minorgridcolor": "white",
             "startlinecolor": "#2a3f5f"
            },
            "baxis": {
             "endlinecolor": "#2a3f5f",
             "gridcolor": "white",
             "linecolor": "white",
             "minorgridcolor": "white",
             "startlinecolor": "#2a3f5f"
            },
            "type": "carpet"
           }
          ],
          "choropleth": [
           {
            "colorbar": {
             "outlinewidth": 0,
             "ticks": ""
            },
            "type": "choropleth"
           }
          ],
          "contour": [
           {
            "colorbar": {
             "outlinewidth": 0,
             "ticks": ""
            },
            "colorscale": [
             [
              0,
              "#0d0887"
             ],
             [
              0.1111111111111111,
              "#46039f"
             ],
             [
              0.2222222222222222,
              "#7201a8"
             ],
             [
              0.3333333333333333,
              "#9c179e"
             ],
             [
              0.4444444444444444,
              "#bd3786"
             ],
             [
              0.5555555555555556,
              "#d8576b"
             ],
             [
              0.6666666666666666,
              "#ed7953"
             ],
             [
              0.7777777777777778,
              "#fb9f3a"
             ],
             [
              0.8888888888888888,
              "#fdca26"
             ],
             [
              1,
              "#f0f921"
             ]
            ],
            "type": "contour"
           }
          ],
          "contourcarpet": [
           {
            "colorbar": {
             "outlinewidth": 0,
             "ticks": ""
            },
            "type": "contourcarpet"
           }
          ],
          "heatmap": [
           {
            "colorbar": {
             "outlinewidth": 0,
             "ticks": ""
            },
            "colorscale": [
             [
              0,
              "#0d0887"
             ],
             [
              0.1111111111111111,
              "#46039f"
             ],
             [
              0.2222222222222222,
              "#7201a8"
             ],
             [
              0.3333333333333333,
              "#9c179e"
             ],
             [
              0.4444444444444444,
              "#bd3786"
             ],
             [
              0.5555555555555556,
              "#d8576b"
             ],
             [
              0.6666666666666666,
              "#ed7953"
             ],
             [
              0.7777777777777778,
              "#fb9f3a"
             ],
             [
              0.8888888888888888,
              "#fdca26"
             ],
             [
              1,
              "#f0f921"
             ]
            ],
            "type": "heatmap"
           }
          ],
          "heatmapgl": [
           {
            "colorbar": {
             "outlinewidth": 0,
             "ticks": ""
            },
            "colorscale": [
             [
              0,
              "#0d0887"
             ],
             [
              0.1111111111111111,
              "#46039f"
             ],
             [
              0.2222222222222222,
              "#7201a8"
             ],
             [
              0.3333333333333333,
              "#9c179e"
             ],
             [
              0.4444444444444444,
              "#bd3786"
             ],
             [
              0.5555555555555556,
              "#d8576b"
             ],
             [
              0.6666666666666666,
              "#ed7953"
             ],
             [
              0.7777777777777778,
              "#fb9f3a"
             ],
             [
              0.8888888888888888,
              "#fdca26"
             ],
             [
              1,
              "#f0f921"
             ]
            ],
            "type": "heatmapgl"
           }
          ],
          "histogram": [
           {
            "marker": {
             "pattern": {
              "fillmode": "overlay",
              "size": 10,
              "solidity": 0.2
             }
            },
            "type": "histogram"
           }
          ],
          "histogram2d": [
           {
            "colorbar": {
             "outlinewidth": 0,
             "ticks": ""
            },
            "colorscale": [
             [
              0,
              "#0d0887"
             ],
             [
              0.1111111111111111,
              "#46039f"
             ],
             [
              0.2222222222222222,
              "#7201a8"
             ],
             [
              0.3333333333333333,
              "#9c179e"
             ],
             [
              0.4444444444444444,
              "#bd3786"
             ],
             [
              0.5555555555555556,
              "#d8576b"
             ],
             [
              0.6666666666666666,
              "#ed7953"
             ],
             [
              0.7777777777777778,
              "#fb9f3a"
             ],
             [
              0.8888888888888888,
              "#fdca26"
             ],
             [
              1,
              "#f0f921"
             ]
            ],
            "type": "histogram2d"
           }
          ],
          "histogram2dcontour": [
           {
            "colorbar": {
             "outlinewidth": 0,
             "ticks": ""
            },
            "colorscale": [
             [
              0,
              "#0d0887"
             ],
             [
              0.1111111111111111,
              "#46039f"
             ],
             [
              0.2222222222222222,
              "#7201a8"
             ],
             [
              0.3333333333333333,
              "#9c179e"
             ],
             [
              0.4444444444444444,
              "#bd3786"
             ],
             [
              0.5555555555555556,
              "#d8576b"
             ],
             [
              0.6666666666666666,
              "#ed7953"
             ],
             [
              0.7777777777777778,
              "#fb9f3a"
             ],
             [
              0.8888888888888888,
              "#fdca26"
             ],
             [
              1,
              "#f0f921"
             ]
            ],
            "type": "histogram2dcontour"
           }
          ],
          "mesh3d": [
           {
            "colorbar": {
             "outlinewidth": 0,
             "ticks": ""
            },
            "type": "mesh3d"
           }
          ],
          "parcoords": [
           {
            "line": {
             "colorbar": {
              "outlinewidth": 0,
              "ticks": ""
             }
            },
            "type": "parcoords"
           }
          ],
          "pie": [
           {
            "automargin": true,
            "type": "pie"
           }
          ],
          "scatter": [
           {
            "marker": {
             "colorbar": {
              "outlinewidth": 0,
              "ticks": ""
             }
            },
            "type": "scatter"
           }
          ],
          "scatter3d": [
           {
            "line": {
             "colorbar": {
              "outlinewidth": 0,
              "ticks": ""
             }
            },
            "marker": {
             "colorbar": {
              "outlinewidth": 0,
              "ticks": ""
             }
            },
            "type": "scatter3d"
           }
          ],
          "scattercarpet": [
           {
            "marker": {
             "colorbar": {
              "outlinewidth": 0,
              "ticks": ""
             }
            },
            "type": "scattercarpet"
           }
          ],
          "scattergeo": [
           {
            "marker": {
             "colorbar": {
              "outlinewidth": 0,
              "ticks": ""
             }
            },
            "type": "scattergeo"
           }
          ],
          "scattergl": [
           {
            "marker": {
             "colorbar": {
              "outlinewidth": 0,
              "ticks": ""
             }
            },
            "type": "scattergl"
           }
          ],
          "scattermapbox": [
           {
            "marker": {
             "colorbar": {
              "outlinewidth": 0,
              "ticks": ""
             }
            },
            "type": "scattermapbox"
           }
          ],
          "scatterpolar": [
           {
            "marker": {
             "colorbar": {
              "outlinewidth": 0,
              "ticks": ""
             }
            },
            "type": "scatterpolar"
           }
          ],
          "scatterpolargl": [
           {
            "marker": {
             "colorbar": {
              "outlinewidth": 0,
              "ticks": ""
             }
            },
            "type": "scatterpolargl"
           }
          ],
          "scatterternary": [
           {
            "marker": {
             "colorbar": {
              "outlinewidth": 0,
              "ticks": ""
             }
            },
            "type": "scatterternary"
           }
          ],
          "surface": [
           {
            "colorbar": {
             "outlinewidth": 0,
             "ticks": ""
            },
            "colorscale": [
             [
              0,
              "#0d0887"
             ],
             [
              0.1111111111111111,
              "#46039f"
             ],
             [
              0.2222222222222222,
              "#7201a8"
             ],
             [
              0.3333333333333333,
              "#9c179e"
             ],
             [
              0.4444444444444444,
              "#bd3786"
             ],
             [
              0.5555555555555556,
              "#d8576b"
             ],
             [
              0.6666666666666666,
              "#ed7953"
             ],
             [
              0.7777777777777778,
              "#fb9f3a"
             ],
             [
              0.8888888888888888,
              "#fdca26"
             ],
             [
              1,
              "#f0f921"
             ]
            ],
            "type": "surface"
           }
          ],
          "table": [
           {
            "cells": {
             "fill": {
              "color": "#EBF0F8"
             },
             "line": {
              "color": "white"
             }
            },
            "header": {
             "fill": {
              "color": "#C8D4E3"
             },
             "line": {
              "color": "white"
             }
            },
            "type": "table"
           }
          ]
         },
         "layout": {
          "annotationdefaults": {
           "arrowcolor": "#2a3f5f",
           "arrowhead": 0,
           "arrowwidth": 1
          },
          "autotypenumbers": "strict",
          "coloraxis": {
           "colorbar": {
            "outlinewidth": 0,
            "ticks": ""
           }
          },
          "colorscale": {
           "diverging": [
            [
             0,
             "#8e0152"
            ],
            [
             0.1,
             "#c51b7d"
            ],
            [
             0.2,
             "#de77ae"
            ],
            [
             0.3,
             "#f1b6da"
            ],
            [
             0.4,
             "#fde0ef"
            ],
            [
             0.5,
             "#f7f7f7"
            ],
            [
             0.6,
             "#e6f5d0"
            ],
            [
             0.7,
             "#b8e186"
            ],
            [
             0.8,
             "#7fbc41"
            ],
            [
             0.9,
             "#4d9221"
            ],
            [
             1,
             "#276419"
            ]
           ],
           "sequential": [
            [
             0,
             "#0d0887"
            ],
            [
             0.1111111111111111,
             "#46039f"
            ],
            [
             0.2222222222222222,
             "#7201a8"
            ],
            [
             0.3333333333333333,
             "#9c179e"
            ],
            [
             0.4444444444444444,
             "#bd3786"
            ],
            [
             0.5555555555555556,
             "#d8576b"
            ],
            [
             0.6666666666666666,
             "#ed7953"
            ],
            [
             0.7777777777777778,
             "#fb9f3a"
            ],
            [
             0.8888888888888888,
             "#fdca26"
            ],
            [
             1,
             "#f0f921"
            ]
           ],
           "sequentialminus": [
            [
             0,
             "#0d0887"
            ],
            [
             0.1111111111111111,
             "#46039f"
            ],
            [
             0.2222222222222222,
             "#7201a8"
            ],
            [
             0.3333333333333333,
             "#9c179e"
            ],
            [
             0.4444444444444444,
             "#bd3786"
            ],
            [
             0.5555555555555556,
             "#d8576b"
            ],
            [
             0.6666666666666666,
             "#ed7953"
            ],
            [
             0.7777777777777778,
             "#fb9f3a"
            ],
            [
             0.8888888888888888,
             "#fdca26"
            ],
            [
             1,
             "#f0f921"
            ]
           ]
          },
          "colorway": [
           "#636efa",
           "#EF553B",
           "#00cc96",
           "#ab63fa",
           "#FFA15A",
           "#19d3f3",
           "#FF6692",
           "#B6E880",
           "#FF97FF",
           "#FECB52"
          ],
          "font": {
           "color": "#2a3f5f"
          },
          "geo": {
           "bgcolor": "white",
           "lakecolor": "white",
           "landcolor": "#E5ECF6",
           "showlakes": true,
           "showland": true,
           "subunitcolor": "white"
          },
          "hoverlabel": {
           "align": "left"
          },
          "hovermode": "closest",
          "mapbox": {
           "style": "light"
          },
          "paper_bgcolor": "white",
          "plot_bgcolor": "#E5ECF6",
          "polar": {
           "angularaxis": {
            "gridcolor": "white",
            "linecolor": "white",
            "ticks": ""
           },
           "bgcolor": "#E5ECF6",
           "radialaxis": {
            "gridcolor": "white",
            "linecolor": "white",
            "ticks": ""
           }
          },
          "scene": {
           "xaxis": {
            "backgroundcolor": "#E5ECF6",
            "gridcolor": "white",
            "gridwidth": 2,
            "linecolor": "white",
            "showbackground": true,
            "ticks": "",
            "zerolinecolor": "white"
           },
           "yaxis": {
            "backgroundcolor": "#E5ECF6",
            "gridcolor": "white",
            "gridwidth": 2,
            "linecolor": "white",
            "showbackground": true,
            "ticks": "",
            "zerolinecolor": "white"
           },
           "zaxis": {
            "backgroundcolor": "#E5ECF6",
            "gridcolor": "white",
            "gridwidth": 2,
            "linecolor": "white",
            "showbackground": true,
            "ticks": "",
            "zerolinecolor": "white"
           }
          },
          "shapedefaults": {
           "line": {
            "color": "#2a3f5f"
           }
          },
          "ternary": {
           "aaxis": {
            "gridcolor": "white",
            "linecolor": "white",
            "ticks": ""
           },
           "baxis": {
            "gridcolor": "white",
            "linecolor": "white",
            "ticks": ""
           },
           "bgcolor": "#E5ECF6",
           "caxis": {
            "gridcolor": "white",
            "linecolor": "white",
            "ticks": ""
           }
          },
          "title": {
           "x": 0.05
          },
          "xaxis": {
           "automargin": true,
           "gridcolor": "white",
           "linecolor": "white",
           "ticks": "",
           "title": {
            "standoff": 15
           },
           "zerolinecolor": "white",
           "zerolinewidth": 2
          },
          "yaxis": {
           "automargin": true,
           "gridcolor": "white",
           "linecolor": "white",
           "ticks": "",
           "title": {
            "standoff": 15
           },
           "zerolinecolor": "white",
           "zerolinewidth": 2
          }
         }
        },
        "xaxis": {
         "anchor": "y",
         "autorange": true,
         "domain": [
          0,
          0.235
         ],
         "range": [
          -0.5,
          7.5
         ],
         "title": {
          "text": "site"
         },
         "type": "category"
        },
        "xaxis2": {
         "anchor": "y2",
         "autorange": true,
         "domain": [
          0.255,
          0.49
         ],
         "matches": "x",
         "range": [
          -0.5,
          7.5
         ],
         "title": {
          "text": "site"
         },
         "type": "category"
        },
        "xaxis3": {
         "anchor": "y3",
         "autorange": true,
         "domain": [
          0.51,
          0.745
         ],
         "matches": "x",
         "range": [
          -0.5,
          7.5
         ],
         "title": {
          "text": "site"
         },
         "type": "category"
        },
        "xaxis4": {
         "anchor": "y4",
         "autorange": true,
         "domain": [
          0.7649999999999999,
          0.9999999999999999
         ],
         "matches": "x",
         "range": [
          -0.5,
          7.5
         ],
         "title": {
          "text": "site"
         },
         "type": "category"
        },
        "yaxis": {
         "anchor": "x",
         "autorange": true,
         "domain": [
          0,
          1
         ],
         "range": [
          0,
          71493.91450676585
         ],
         "title": {
          "text": "value"
         },
         "type": "linear"
        },
        "yaxis2": {
         "anchor": "x2",
         "autorange": true,
         "domain": [
          0,
          1
         ],
         "matches": "y",
         "range": [
          0,
          71493.91450676585
         ],
         "showticklabels": false,
         "type": "linear"
        },
        "yaxis3": {
         "anchor": "x3",
         "autorange": true,
         "domain": [
          0,
          1
         ],
         "matches": "y",
         "range": [
          0,
          71493.91450676585
         ],
         "showticklabels": false,
         "type": "linear"
        },
        "yaxis4": {
         "anchor": "x4",
         "autorange": true,
         "domain": [
          0,
          1
         ],
         "matches": "y",
         "range": [
          0,
          71493.91450676585
         ],
         "showticklabels": false,
         "type": "linear"
        }
       }
      },
      "image/png": "[encoded data removed]",
      "text/html": [
       "<div>                            <div id=\"98096c45-9b73-4b2e-85af-6fb9e1d06e1f\" class=\"plotly-graph-div\" style=\"height:525px; width:100%;\"></div>            <script type=\"text/javascript\">                require([\"plotly\"], function(Plotly) {                    window.PLOTLYENV=window.PLOTLYENV || {};                                    if (document.getElementById(\"98096c45-9b73-4b2e-85af-6fb9e1d06e1f\")) {                    Plotly.newPlot(                        \"98096c45-9b73-4b2e-85af-6fb9e1d06e1f\",                        [{\"alignmentgroup\":\"True\",\"hovertemplate\":\"variable=total_diff<br>cluster=\\u041a\\u043b\\u0430\\u0441\\u0442\\u0435\\u0440 0<br>site=%{x}<br>value=%{y}<extra></extra>\",\"legendgroup\":\"total_diff\",\"marker\":{\"color\":\"#636efa\",\"opacity\":0.7,\"pattern\":{\"shape\":\"\"}},\"name\":\"total_diff\",\"offsetgroup\":\"total_diff\",\"orientation\":\"v\",\"showlegend\":true,\"textposition\":\"auto\",\"x\":[\"\\u0420\\u0411\\u041a\",\"\\u0426\\u0418\\u0410\\u041d\",\"2\\u0413\\u0418\\u0421\",\"Avito\",\"\\u042e\\u043b\\u0430\"],\"xaxis\":\"x\",\"y\":[0.39413856565024136,0.4191999825628411,0.4453700503578439,0.45752546921172926,0.4743516972058574],\"yaxis\":\"y\",\"type\":\"bar\"},{\"alignmentgroup\":\"True\",\"hovertemplate\":\"variable=total_diff<br>cluster=\\u041a\\u043b\\u0430\\u0441\\u0442\\u0435\\u0440 1<br>site=%{x}<br>value=%{y}<extra></extra>\",\"legendgroup\":\"total_diff\",\"marker\":{\"color\":\"#636efa\",\"opacity\":0.7,\"pattern\":{\"shape\":\"\"}},\"name\":\"total_diff\",\"offsetgroup\":\"total_diff\",\"orientation\":\"v\",\"showlegend\":false,\"textposition\":\"auto\",\"x\":[\"\\u0426\\u0418\\u0410\\u041d\",\"2\\u0413\\u0418\\u0421\",\"Avito\",\"\\u042e\\u043b\\u0430\",\"Wildberries\"],\"xaxis\":\"x2\",\"y\":[0.10842094563160469,0.12451512923022295,0.1497653929404732,0.15638480328393953,0.15735290183337095],\"yaxis\":\"y2\",\"type\":\"bar\"},{\"alignmentgroup\":\"True\",\"hovertemplate\":\"variable=total_diff<br>cluster=\\u041a\\u043b\\u0430\\u0441\\u0442\\u0435\\u0440 2<br>site=%{x}<br>value=%{y}<extra></extra>\",\"legendgroup\":\"total_diff\",\"marker\":{\"color\":\"#636efa\",\"opacity\":0.7,\"pattern\":{\"shape\":\"\"}},\"name\":\"total_diff\",\"offsetgroup\":\"total_diff\",\"orientation\":\"v\",\"showlegend\":false,\"textposition\":\"auto\",\"x\":[\"\\u0426\\u0418\\u0410\\u041d\",\"2\\u0413\\u0418\\u0421\",\"Wildberries\",\"\\u041e\\u0442\\u0437\\u043e\\u0432\\u0438\\u043a\",\"Ozon\"],\"xaxis\":\"x3\",\"y\":[1.7620187395058264,1.830342260539687,1.8422129928951811,1.9136898357697087,1.9330112556377872],\"yaxis\":\"y3\",\"type\":\"bar\"},{\"alignmentgroup\":\"True\",\"hovertemplate\":\"variable=total_diff<br>cluster=\\u041a\\u043b\\u0430\\u0441\\u0442\\u0435\\u0440 3<br>site=%{x}<br>value=%{y}<extra></extra>\",\"legendgroup\":\"total_diff\",\"marker\":{\"color\":\"#636efa\",\"opacity\":0.7,\"pattern\":{\"shape\":\"\"}},\"name\":\"total_diff\",\"offsetgroup\":\"total_diff\",\"orientation\":\"v\",\"showlegend\":false,\"textposition\":\"auto\",\"x\":[\"\\u0420\\u0411\\u041a\",\"Avito\",\"\\u042e\\u043b\\u0430\",\"2\\u0413\\u0418\\u0421\",\"\\u0426\\u0418\\u0410\\u041d\"],\"xaxis\":\"x4\",\"y\":[0.8913528054642443,0.9497308124112793,0.9589351429418483,0.9631563164803352,0.9763583378079318],\"yaxis\":\"y4\",\"type\":\"bar\"},{\"alignmentgroup\":\"True\",\"hovertemplate\":\"variable=efficiency<br>cluster=\\u041a\\u043b\\u0430\\u0441\\u0442\\u0435\\u0440 0<br>site=%{x}<br>value=%{y}<extra></extra>\",\"legendgroup\":\"efficiency\",\"marker\":{\"color\":\"#EF553B\",\"opacity\":0.7,\"pattern\":{\"shape\":\"\"}},\"name\":\"efficiency\",\"offsetgroup\":\"efficiency\",\"orientation\":\"v\",\"showlegend\":true,\"textposition\":\"auto\",\"x\":[\"\\u0420\\u0411\\u041a\",\"\\u0426\\u0418\\u0410\\u041d\",\"2\\u0413\\u0418\\u0421\",\"Avito\",\"\\u042e\\u043b\\u0430\"],\"xaxis\":\"x\",\"y\":[364.8605996843766,450.70694487698535,387.2254559565386,8846.95792880259,156.53370655470027],\"yaxis\":\"y\",\"type\":\"bar\"},{\"alignmentgroup\":\"True\",\"hovertemplate\":\"variable=efficiency<br>cluster=\\u041a\\u043b\\u0430\\u0441\\u0442\\u0435\\u0440 1<br>site=%{x}<br>value=%{y}<extra></extra>\",\"legendgroup\":\"efficiency\",\"marker\":{\"color\":\"#EF553B\",\"opacity\":0.7,\"pattern\":{\"shape\":\"\"}},\"name\":\"efficiency\",\"offsetgroup\":\"efficiency\",\"orientation\":\"v\",\"showlegend\":false,\"textposition\":\"auto\",\"x\":[\"\\u0426\\u0418\\u0410\\u041d\",\"2\\u0413\\u0418\\u0421\",\"Avito\",\"\\u042e\\u043b\\u0430\",\"Wildberries\"],\"xaxis\":\"x2\",\"y\":[450.70694487698535,387.2254559565386,8846.95792880259,156.53370655470027,6921.818181818182],\"yaxis\":\"y2\",\"type\":\"bar\"},{\"alignmentgroup\":\"True\",\"hovertemplate\":\"variable=efficiency<br>cluster=\\u041a\\u043b\\u0430\\u0441\\u0442\\u0435\\u0440 2<br>site=%{x}<br>value=%{y}<extra></extra>\",\"legendgroup\":\"efficiency\",\"marker\":{\"color\":\"#EF553B\",\"opacity\":0.7,\"pattern\":{\"shape\":\"\"}},\"name\":\"efficiency\",\"offsetgroup\":\"efficiency\",\"orientation\":\"v\",\"showlegend\":false,\"textposition\":\"auto\",\"x\":[\"\\u0426\\u0418\\u0410\\u041d\",\"2\\u0413\\u0418\\u0421\",\"Wildberries\",\"\\u041e\\u0442\\u0437\\u043e\\u0432\\u0438\\u043a\",\"Ozon\"],\"xaxis\":\"x3\",\"y\":[450.70694487698535,387.2254559565386,6921.818181818182,124.6819860484202,2883.209109730849],\"yaxis\":\"y3\",\"type\":\"bar\"},{\"alignmentgroup\":\"True\",\"hovertemplate\":\"variable=efficiency<br>cluster=\\u041a\\u043b\\u0430\\u0441\\u0442\\u0435\\u0440 3<br>site=%{x}<br>value=%{y}<extra></extra>\",\"legendgroup\":\"efficiency\",\"marker\":{\"color\":\"#EF553B\",\"opacity\":0.7,\"pattern\":{\"shape\":\"\"}},\"name\":\"efficiency\",\"offsetgroup\":\"efficiency\",\"orientation\":\"v\",\"showlegend\":false,\"textposition\":\"auto\",\"x\":[\"\\u0420\\u0411\\u041a\",\"Avito\",\"\\u042e\\u043b\\u0430\",\"2\\u0413\\u0418\\u0421\",\"\\u0426\\u0418\\u0410\\u041d\"],\"xaxis\":\"x4\",\"y\":[364.8605996843766,8846.95792880259,156.53370655470027,387.2254559565386,450.70694487698535],\"yaxis\":\"y4\",\"type\":\"bar\"},{\"alignmentgroup\":\"True\",\"hovertemplate\":\"variable=relative_efficiency<br>cluster=\\u041a\\u043b\\u0430\\u0441\\u0442\\u0435\\u0440 0<br>site=%{x}<br>value=%{y}<extra></extra>\",\"legendgroup\":\"relative_efficiency\",\"marker\":{\"color\":\"#00cc96\",\"opacity\":0.7,\"pattern\":{\"shape\":\"\"}},\"name\":\"relative_efficiency\",\"offsetgroup\":\"relative_efficiency\",\"orientation\":\"v\",\"showlegend\":true,\"textposition\":\"auto\",\"x\":[\"\\u0420\\u0411\\u041a\",\"\\u0426\\u0418\\u0410\\u041d\",\"2\\u0413\\u0418\\u0421\",\"Avito\",\"\\u042e\\u043b\\u0430\"],\"xaxis\":\"x\",\"y\":[925.7165664122144,1075.1597414711753,869.4465549387807,19336.53648625292,329.9950384424752],\"yaxis\":\"y\",\"type\":\"bar\"},{\"alignmentgroup\":\"True\",\"hovertemplate\":\"variable=relative_efficiency<br>cluster=\\u041a\\u043b\\u0430\\u0441\\u0442\\u0435\\u0440 1<br>site=%{x}<br>value=%{y}<extra></extra>\",\"legendgroup\":\"relative_efficiency\",\"marker\":{\"color\":\"#00cc96\",\"opacity\":0.7,\"pattern\":{\"shape\":\"\"}},\"name\":\"relative_efficiency\",\"offsetgroup\":\"relative_efficiency\",\"orientation\":\"v\",\"showlegend\":false,\"textposition\":\"auto\",\"x\":[\"\\u0426\\u0418\\u0410\\u041d\",\"2\\u0413\\u0418\\u0421\",\"Avito\",\"\\u042e\\u043b\\u0430\",\"Wildberries\"],\"xaxis\":\"x2\",\"y\":[4157.009904787294,3109.866715397901,59072.11108723204,1000.9521594658427,43989.13589244163],\"yaxis\":\"y2\",\"type\":\"bar\"},{\"alignmentgroup\":\"True\",\"hovertemplate\":\"variable=relative_efficiency<br>cluster=\\u041a\\u043b\\u0430\\u0441\\u0442\\u0435\\u0440 2<br>site=%{x}<br>value=%{y}<extra></extra>\",\"legendgroup\":\"relative_efficiency\",\"marker\":{\"color\":\"#00cc96\",\"opacity\":0.7,\"pattern\":{\"shape\":\"\"}},\"name\":\"relative_efficiency\",\"offsetgroup\":\"relative_efficiency\",\"orientation\":\"v\",\"showlegend\":false,\"textposition\":\"auto\",\"x\":[\"\\u0426\\u0418\\u0410\\u041d\",\"2\\u0413\\u0418\\u0421\",\"Wildberries\",\"\\u041e\\u0442\\u0437\\u043e\\u0432\\u0438\\u043a\",\"Ozon\"],\"xaxis\":\"x3\",\"y\":[255.79009733085476,211.55904242868922,3757.338705412128,65.15266148041782,1491.5635391784353],\"yaxis\":\"y3\",\"type\":\"bar\"},{\"alignmentgroup\":\"True\",\"hovertemplate\":\"variable=relative_efficiency<br>cluster=\\u041a\\u043b\\u0430\\u0441\\u0442\\u0435\\u0440 3<br>site=%{x}<br>value=%{y}<extra></extra>\",\"legendgroup\":\"relative_efficiency\",\"marker\":{\"color\":\"#00cc96\",\"opacity\":0.7,\"pattern\":{\"shape\":\"\"}},\"name\":\"relative_efficiency\",\"offsetgroup\":\"relative_efficiency\",\"orientation\":\"v\",\"showlegend\":false,\"textposition\":\"auto\",\"x\":[\"\\u0420\\u0411\\u041a\",\"Avito\",\"\\u042e\\u043b\\u0430\",\"2\\u0413\\u0418\\u0421\",\"\\u0426\\u0418\\u0410\\u041d\"],\"xaxis\":\"x4\",\"y\":[409.3335404877599,9315.226812891304,163.2370110813561,402.03801743374083,461.6204188811341],\"yaxis\":\"y4\",\"type\":\"bar\"}],                        {\"template\":{\"data\":{\"bar\":[{\"error_x\":{\"color\":\"#2a3f5f\"},\"error_y\":{\"color\":\"#2a3f5f\"},\"marker\":{\"line\":{\"color\":\"#E5ECF6\",\"width\":0.5},\"pattern\":{\"fillmode\":\"overlay\",\"size\":10,\"solidity\":0.2}},\"type\":\"bar\"}],\"barpolar\":[{\"marker\":{\"line\":{\"color\":\"#E5ECF6\",\"width\":0.5},\"pattern\":{\"fillmode\":\"overlay\",\"size\":10,\"solidity\":0.2}},\"type\":\"barpolar\"}],\"carpet\":[{\"aaxis\":{\"endlinecolor\":\"#2a3f5f\",\"gridcolor\":\"white\",\"linecolor\":\"white\",\"minorgridcolor\":\"white\",\"startlinecolor\":\"#2a3f5f\"},\"baxis\":{\"endlinecolor\":\"#2a3f5f\",\"gridcolor\":\"white\",\"linecolor\":\"white\",\"minorgridcolor\":\"white\",\"startlinecolor\":\"#2a3f5f\"},\"type\":\"carpet\"}],\"choropleth\":[{\"colorbar\":{\"outlinewidth\":0,\"ticks\":\"\"},\"type\":\"choropleth\"}],\"contour\":[{\"colorbar\":{\"outlinewidth\":0,\"ticks\":\"\"},\"colorscale\":[[0.0,\"#0d0887\"],[0.1111111111111111,\"#46039f\"],[0.2222222222222222,\"#7201a8\"],[0.3333333333333333,\"#9c179e\"],[0.4444444444444444,\"#bd3786\"],[0.5555555555555556,\"#d8576b\"],[0.6666666666666666,\"#ed7953\"],[0.7777777777777778,\"#fb9f3a\"],[0.8888888888888888,\"#fdca26\"],[1.0,\"#f0f921\"]],\"type\":\"contour\"}],\"contourcarpet\":[{\"colorbar\":{\"outlinewidth\":0,\"ticks\":\"\"},\"type\":\"contourcarpet\"}],\"heatmap\":[{\"colorbar\":{\"outlinewidth\":0,\"ticks\":\"\"},\"colorscale\":[[0.0,\"#0d0887\"],[0.1111111111111111,\"#46039f\"],[0.2222222222222222,\"#7201a8\"],[0.3333333333333333,\"#9c179e\"],[0.4444444444444444,\"#bd3786\"],[0.5555555555555556,\"#d8576b\"],[0.6666666666666666,\"#ed7953\"],[0.7777777777777778,\"#fb9f3a\"],[0.8888888888888888,\"#fdca26\"],[1.0,\"#f0f921\"]],\"type\":\"heatmap\"}],\"heatmapgl\":[{\"colorbar\":{\"outlinewidth\":0,\"ticks\":\"\"},\"colorscale\":[[0.0,\"#0d0887\"],[0.1111111111111111,\"#46039f\"],[0.2222222222222222,\"#7201a8\"],[0.3333333333333333,\"#9c179e\"],[0.4444444444444444,\"#bd3786\"],[0.5555555555555556,\"#d8576b\"],[0.6666666666666666,\"#ed7953\"],[0.7777777777777778,\"#fb9f3a\"],[0.8888888888888888,\"#fdca26\"],[1.0,\"#f0f921\"]],\"type\":\"heatmapgl\"}],\"histogram\":[{\"marker\":{\"pattern\":{\"fillmode\":\"overlay\",\"size\":10,\"solidity\":0.2}},\"type\":\"histogram\"}],\"histogram2d\":[{\"colorbar\":{\"outlinewidth\":0,\"ticks\":\"\"},\"colorscale\":[[0.0,\"#0d0887\"],[0.1111111111111111,\"#46039f\"],[0.2222222222222222,\"#7201a8\"],[0.3333333333333333,\"#9c179e\"],[0.4444444444444444,\"#bd3786\"],[0.5555555555555556,\"#d8576b\"],[0.6666666666666666,\"#ed7953\"],[0.7777777777777778,\"#fb9f3a\"],[0.8888888888888888,\"#fdca26\"],[1.0,\"#f0f921\"]],\"type\":\"histogram2d\"}],\"histogram2dcontour\":[{\"colorbar\":{\"outlinewidth\":0,\"ticks\":\"\"},\"colorscale\":[[0.0,\"#0d0887\"],[0.1111111111111111,\"#46039f\"],[0.2222222222222222,\"#7201a8\"],[0.3333333333333333,\"#9c179e\"],[0.4444444444444444,\"#bd3786\"],[0.5555555555555556,\"#d8576b\"],[0.6666666666666666,\"#ed7953\"],[0.7777777777777778,\"#fb9f3a\"],[0.8888888888888888,\"#fdca26\"],[1.0,\"#f0f921\"]],\"type\":\"histogram2dcontour\"}],\"mesh3d\":[{\"colorbar\":{\"outlinewidth\":0,\"ticks\":\"\"},\"type\":\"mesh3d\"}],\"parcoords\":[{\"line\":{\"colorbar\":{\"outlinewidth\":0,\"ticks\":\"\"}},\"type\":\"parcoords\"}],\"pie\":[{\"automargin\":true,\"type\":\"pie\"}],\"scatter\":[{\"marker\":{\"colorbar\":{\"outlinewidth\":0,\"ticks\":\"\"}},\"type\":\"scatter\"}],\"scatter3d\":[{\"line\":{\"colorbar\":{\"outlinewidth\":0,\"ticks\":\"\"}},\"marker\":{\"colorbar\":{\"outlinewidth\":0,\"ticks\":\"\"}},\"type\":\"scatter3d\"}],\"scattercarpet\":[{\"marker\":{\"colorbar\":{\"outlinewidth\":0,\"ticks\":\"\"}},\"type\":\"scattercarpet\"}],\"scattergeo\":[{\"marker\":{\"colorbar\":{\"outlinewidth\":0,\"ticks\":\"\"}},\"type\":\"scattergeo\"}],\"scattergl\":[{\"marker\":{\"colorbar\":{\"outlinewidth\":0,\"ticks\":\"\"}},\"type\":\"scattergl\"}],\"scattermapbox\":[{\"marker\":{\"colorbar\":{\"outlinewidth\":0,\"ticks\":\"\"}},\"type\":\"scattermapbox\"}],\"scatterpolar\":[{\"marker\":{\"colorbar\":{\"outlinewidth\":0,\"ticks\":\"\"}},\"type\":\"scatterpolar\"}],\"scatterpolargl\":[{\"marker\":{\"colorbar\":{\"outlinewidth\":0,\"ticks\":\"\"}},\"type\":\"scatterpolargl\"}],\"scatterternary\":[{\"marker\":{\"colorbar\":{\"outlinewidth\":0,\"ticks\":\"\"}},\"type\":\"scatterternary\"}],\"surface\":[{\"colorbar\":{\"outlinewidth\":0,\"ticks\":\"\"},\"colorscale\":[[0.0,\"#0d0887\"],[0.1111111111111111,\"#46039f\"],[0.2222222222222222,\"#7201a8\"],[0.3333333333333333,\"#9c179e\"],[0.4444444444444444,\"#bd3786\"],[0.5555555555555556,\"#d8576b\"],[0.6666666666666666,\"#ed7953\"],[0.7777777777777778,\"#fb9f3a\"],[0.8888888888888888,\"#fdca26\"],[1.0,\"#f0f921\"]],\"type\":\"surface\"}],\"table\":[{\"cells\":{\"fill\":{\"color\":\"#EBF0F8\"},\"line\":{\"color\":\"white\"}},\"header\":{\"fill\":{\"color\":\"#C8D4E3\"},\"line\":{\"color\":\"white\"}},\"type\":\"table\"}]},\"layout\":{\"annotationdefaults\":{\"arrowcolor\":\"#2a3f5f\",\"arrowhead\":0,\"arrowwidth\":1},\"autotypenumbers\":\"strict\",\"coloraxis\":{\"colorbar\":{\"outlinewidth\":0,\"ticks\":\"\"}},\"colorscale\":{\"diverging\":[[0,\"#8e0152\"],[0.1,\"#c51b7d\"],[0.2,\"#de77ae\"],[0.3,\"#f1b6da\"],[0.4,\"#fde0ef\"],[0.5,\"#f7f7f7\"],[0.6,\"#e6f5d0\"],[0.7,\"#b8e186\"],[0.8,\"#7fbc41\"],[0.9,\"#4d9221\"],[1,\"#276419\"]],\"sequential\":[[0.0,\"#0d0887\"],[0.1111111111111111,\"#46039f\"],[0.2222222222222222,\"#7201a8\"],[0.3333333333333333,\"#9c179e\"],[0.4444444444444444,\"#bd3786\"],[0.5555555555555556,\"#d8576b\"],[0.6666666666666666,\"#ed7953\"],[0.7777777777777778,\"#fb9f3a\"],[0.8888888888888888,\"#fdca26\"],[1.0,\"#f0f921\"]],\"sequentialminus\":[[0.0,\"#0d0887\"],[0.1111111111111111,\"#46039f\"],[0.2222222222222222,\"#7201a8\"],[0.3333333333333333,\"#9c179e\"],[0.4444444444444444,\"#bd3786\"],[0.5555555555555556,\"#d8576b\"],[0.6666666666666666,\"#ed7953\"],[0.7777777777777778,\"#fb9f3a\"],[0.8888888888888888,\"#fdca26\"],[1.0,\"#f0f921\"]]},\"colorway\":[\"#636efa\",\"#EF553B\",\"#00cc96\",\"#ab63fa\",\"#FFA15A\",\"#19d3f3\",\"#FF6692\",\"#B6E880\",\"#FF97FF\",\"#FECB52\"],\"font\":{\"color\":\"#2a3f5f\"},\"geo\":{\"bgcolor\":\"white\",\"lakecolor\":\"white\",\"landcolor\":\"#E5ECF6\",\"showlakes\":true,\"showland\":true,\"subunitcolor\":\"white\"},\"hoverlabel\":{\"align\":\"left\"},\"hovermode\":\"closest\",\"mapbox\":{\"style\":\"light\"},\"paper_bgcolor\":\"white\",\"plot_bgcolor\":\"#E5ECF6\",\"polar\":{\"angularaxis\":{\"gridcolor\":\"white\",\"linecolor\":\"white\",\"ticks\":\"\"},\"bgcolor\":\"#E5ECF6\",\"radialaxis\":{\"gridcolor\":\"white\",\"linecolor\":\"white\",\"ticks\":\"\"}},\"scene\":{\"xaxis\":{\"backgroundcolor\":\"#E5ECF6\",\"gridcolor\":\"white\",\"gridwidth\":2,\"linecolor\":\"white\",\"showbackground\":true,\"ticks\":\"\",\"zerolinecolor\":\"white\"},\"yaxis\":{\"backgroundcolor\":\"#E5ECF6\",\"gridcolor\":\"white\",\"gridwidth\":2,\"linecolor\":\"white\",\"showbackground\":true,\"ticks\":\"\",\"zerolinecolor\":\"white\"},\"zaxis\":{\"backgroundcolor\":\"#E5ECF6\",\"gridcolor\":\"white\",\"gridwidth\":2,\"linecolor\":\"white\",\"showbackground\":true,\"ticks\":\"\",\"zerolinecolor\":\"white\"}},\"shapedefaults\":{\"line\":{\"color\":\"#2a3f5f\"}},\"ternary\":{\"aaxis\":{\"gridcolor\":\"white\",\"linecolor\":\"white\",\"ticks\":\"\"},\"baxis\":{\"gridcolor\":\"white\",\"linecolor\":\"white\",\"ticks\":\"\"},\"bgcolor\":\"#E5ECF6\",\"caxis\":{\"gridcolor\":\"white\",\"linecolor\":\"white\",\"ticks\":\"\"}},\"title\":{\"x\":0.05},\"xaxis\":{\"automargin\":true,\"gridcolor\":\"white\",\"linecolor\":\"white\",\"ticks\":\"\",\"title\":{\"standoff\":15},\"zerolinecolor\":\"white\",\"zerolinewidth\":2},\"yaxis\":{\"automargin\":true,\"gridcolor\":\"white\",\"linecolor\":\"white\",\"ticks\":\"\",\"title\":{\"standoff\":15},\"zerolinecolor\":\"white\",\"zerolinewidth\":2}}},\"xaxis\":{\"anchor\":\"y\",\"domain\":[0.0,0.235],\"title\":{\"text\":\"site\"}},\"yaxis\":{\"anchor\":\"x\",\"domain\":[0.0,1.0],\"title\":{\"text\":\"value\"}},\"xaxis2\":{\"anchor\":\"y2\",\"domain\":[0.255,0.49],\"matches\":\"x\",\"title\":{\"text\":\"site\"}},\"yaxis2\":{\"anchor\":\"x2\",\"domain\":[0.0,1.0],\"matches\":\"y\",\"showticklabels\":false},\"xaxis3\":{\"anchor\":\"y3\",\"domain\":[0.51,0.745],\"matches\":\"x\",\"title\":{\"text\":\"site\"}},\"yaxis3\":{\"anchor\":\"x3\",\"domain\":[0.0,1.0],\"matches\":\"y\",\"showticklabels\":false},\"xaxis4\":{\"anchor\":\"y4\",\"domain\":[0.7649999999999999,0.9999999999999999],\"matches\":\"x\",\"title\":{\"text\":\"site\"}},\"yaxis4\":{\"anchor\":\"x4\",\"domain\":[0.0,1.0],\"matches\":\"y\",\"showticklabels\":false},\"annotations\":[{\"font\":{},\"showarrow\":false,\"text\":\"cluster=\\u041a\\u043b\\u0430\\u0441\\u0442\\u0435\\u0440 0\",\"x\":0.1175,\"xanchor\":\"center\",\"xref\":\"paper\",\"y\":1.0,\"yanchor\":\"bottom\",\"yref\":\"paper\"},{\"font\":{},\"showarrow\":false,\"text\":\"cluster=\\u041a\\u043b\\u0430\\u0441\\u0442\\u0435\\u0440 1\",\"x\":0.3725,\"xanchor\":\"center\",\"xref\":\"paper\",\"y\":1.0,\"yanchor\":\"bottom\",\"yref\":\"paper\"},{\"font\":{},\"showarrow\":false,\"text\":\"cluster=\\u041a\\u043b\\u0430\\u0441\\u0442\\u0435\\u0440 2\",\"x\":0.6275,\"xanchor\":\"center\",\"xref\":\"paper\",\"y\":1.0,\"yanchor\":\"bottom\",\"yref\":\"paper\"},{\"font\":{},\"showarrow\":false,\"text\":\"cluster=\\u041a\\u043b\\u0430\\u0441\\u0442\\u0435\\u0440 3\",\"x\":0.8824999999999998,\"xanchor\":\"center\",\"xref\":\"paper\",\"y\":1.0,\"yanchor\":\"bottom\",\"yref\":\"paper\"}],\"legend\":{\"title\":{\"text\":\"variable\"},\"tracegroupgap\":0},\"margin\":{\"t\":60},\"barmode\":\"relative\"},                        {\"responsive\": true}                    ).then(function(){\n",
       "                            \n",
       "var gd = document.getElementById('98096c45-9b73-4b2e-85af-6fb9e1d06e1f');\n",
       "var x = new MutationObserver(function (mutations, observer) {{\n",
       "        var display = window.getComputedStyle(gd).display;\n",
       "        if (!display || display === 'none') {{\n",
       "            console.log([gd, 'removed!']);\n",
       "            Plotly.purge(gd);\n",
       "            observer.disconnect();\n",
       "        }}\n",
       "}});\n",
       "\n",
       "// Listen for the removal of the full notebook cells\n",
       "var notebookContainer = gd.closest('#notebook-container');\n",
       "if (notebookContainer) {{\n",
       "    x.observe(notebookContainer, {childList: true});\n",
       "}}\n",
       "\n",
       "// Listen for the clearing of the current output cell\n",
       "var outputEl = gd.closest('.output');\n",
       "if (outputEl) {{\n",
       "    x.observe(outputEl, {childList: true});\n",
       "}}\n",
       "\n",
       "                        })                };                });            </script>        </div>"
      ]
     },
     "metadata": {},
     "output_type": "display_data"
    }
   ],
   "source": [
    "import plotly.express as px\n",
    "df_top_merged = df_top5.merge(df_media,on='site',how='left')\n",
    "# df__ = df_top_merged['total_diff']\n",
    "# df_top_merged['total_diff']=(df__-df__.mean())/df__.std()\n",
    "df_top_merged['relative_efficiency'] = df_top_merged['efficiency']/df_top_merged['total_diff']\n",
    "plt_topscat = px.scatter(df_top_merged,'efficiency','total_diff','cluster','site')\n",
    "plt_topbar = px.bar(df_top_merged,'site',['total_diff','efficiency','relative_efficiency'],facet_col='cluster',opacity=0.7)\n",
    "# plt_ef_dif = px.bar(df_top_merged,'site',,facet_col='cluster')\n",
    "plt_topbar"
   ]
  },
  {
   "cell_type": "code",
   "execution_count": 190,
   "metadata": {},
   "outputs": [],
   "source": [
    "import pickle as pkl\n",
    "\n",
    "pkl.dump(plt_topbar, open( \"plt_topbar.pkl\", \"wb\" ) )\n",
    "pkl.dump(plt_topscat, open( \"plt_topscat.pkl\", \"wb\" ) )"
   ]
  },
  {
   "cell_type": "code",
   "execution_count": 186,
   "metadata": {},
   "outputs": [],
   "source": [
    "plt_topbar = pkl.load(open( \"plt_topbar.pkl\", \"rb\" ) )\n",
    "plt_topscat = pkl.load(open( \"plt_topscat.pkl\", \"rb\" ) )"
   ]
  },
  {
   "cell_type": "code",
   "execution_count": 187,
   "metadata": {},
   "outputs": [
    {
     "data": {
      "application/vnd.plotly.v1+json": {
       "config": {
        "plotlyServerURL": "https://plot.ly"
       },
       "data": [
        {
         "hovertemplate": "cluster=Кластер 0<br>site=РБК<br>efficiency=%{x}<br>total_diff=%{y}<extra></extra>",
         "legendgroup": "Кластер 0, РБК",
         "marker": {
          "color": "#636efa",
          "symbol": "circle"
         },
         "mode": "markers",
         "name": "Кластер 0, РБК",
         "orientation": "v",
         "showlegend": true,
         "type": "scatter",
         "x": [
          364.8605996843766
         ],
         "xaxis": "x",
         "y": [
          0.39413856565024136
         ],
         "yaxis": "y"
        },
        {
         "hovertemplate": "cluster=Кластер 0<br>site=ЦИАН<br>efficiency=%{x}<br>total_diff=%{y}<extra></extra>",
         "legendgroup": "Кластер 0, ЦИАН",
         "marker": {
          "color": "#636efa",
          "symbol": "diamond"
         },
         "mode": "markers",
         "name": "Кластер 0, ЦИАН",
         "orientation": "v",
         "showlegend": true,
         "type": "scatter",
         "x": [
          450.70694487698535
         ],
         "xaxis": "x",
         "y": [
          0.4191999825628411
         ],
         "yaxis": "y"
        },
        {
         "hovertemplate": "cluster=Кластер 0<br>site=2ГИС<br>efficiency=%{x}<br>total_diff=%{y}<extra></extra>",
         "legendgroup": "Кластер 0, 2ГИС",
         "marker": {
          "color": "#636efa",
          "symbol": "square"
         },
         "mode": "markers",
         "name": "Кластер 0, 2ГИС",
         "orientation": "v",
         "showlegend": true,
         "type": "scatter",
         "x": [
          387.2254559565386
         ],
         "xaxis": "x",
         "y": [
          0.4453700503578439
         ],
         "yaxis": "y"
        },
        {
         "hovertemplate": "cluster=Кластер 0<br>site=Avito<br>efficiency=%{x}<br>total_diff=%{y}<extra></extra>",
         "legendgroup": "Кластер 0, Avito",
         "marker": {
          "color": "#636efa",
          "symbol": "x"
         },
         "mode": "markers",
         "name": "Кластер 0, Avito",
         "orientation": "v",
         "showlegend": true,
         "type": "scatter",
         "x": [
          8846.95792880259
         ],
         "xaxis": "x",
         "y": [
          0.45752546921172926
         ],
         "yaxis": "y"
        },
        {
         "hovertemplate": "cluster=Кластер 0<br>site=Юла<br>efficiency=%{x}<br>total_diff=%{y}<extra></extra>",
         "legendgroup": "Кластер 0, Юла",
         "marker": {
          "color": "#636efa",
          "symbol": "cross"
         },
         "mode": "markers",
         "name": "Кластер 0, Юла",
         "orientation": "v",
         "showlegend": true,
         "type": "scatter",
         "x": [
          156.53370655470027
         ],
         "xaxis": "x",
         "y": [
          0.4743516972058574
         ],
         "yaxis": "y"
        },
        {
         "hovertemplate": "cluster=Кластер 1<br>site=ЦИАН<br>efficiency=%{x}<br>total_diff=%{y}<extra></extra>",
         "legendgroup": "Кластер 1, ЦИАН",
         "marker": {
          "color": "#EF553B",
          "symbol": "diamond"
         },
         "mode": "markers",
         "name": "Кластер 1, ЦИАН",
         "orientation": "v",
         "showlegend": true,
         "type": "scatter",
         "x": [
          450.70694487698535
         ],
         "xaxis": "x",
         "y": [
          0.10842094563160469
         ],
         "yaxis": "y"
        },
        {
         "hovertemplate": "cluster=Кластер 1<br>site=2ГИС<br>efficiency=%{x}<br>total_diff=%{y}<extra></extra>",
         "legendgroup": "Кластер 1, 2ГИС",
         "marker": {
          "color": "#EF553B",
          "symbol": "square"
         },
         "mode": "markers",
         "name": "Кластер 1, 2ГИС",
         "orientation": "v",
         "showlegend": true,
         "type": "scatter",
         "x": [
          387.2254559565386
         ],
         "xaxis": "x",
         "y": [
          0.12451512923022295
         ],
         "yaxis": "y"
        },
        {
         "hovertemplate": "cluster=Кластер 1<br>site=Avito<br>efficiency=%{x}<br>total_diff=%{y}<extra></extra>",
         "legendgroup": "Кластер 1, Avito",
         "marker": {
          "color": "#EF553B",
          "symbol": "x"
         },
         "mode": "markers",
         "name": "Кластер 1, Avito",
         "orientation": "v",
         "showlegend": true,
         "type": "scatter",
         "x": [
          8846.95792880259
         ],
         "xaxis": "x",
         "y": [
          0.1497653929404732
         ],
         "yaxis": "y"
        },
        {
         "hovertemplate": "cluster=Кластер 1<br>site=Юла<br>efficiency=%{x}<br>total_diff=%{y}<extra></extra>",
         "legendgroup": "Кластер 1, Юла",
         "marker": {
          "color": "#EF553B",
          "symbol": "cross"
         },
         "mode": "markers",
         "name": "Кластер 1, Юла",
         "orientation": "v",
         "showlegend": true,
         "type": "scatter",
         "x": [
          156.53370655470027
         ],
         "xaxis": "x",
         "y": [
          0.15638480328393953
         ],
         "yaxis": "y"
        },
        {
         "hovertemplate": "cluster=Кластер 1<br>site=Wildberries<br>efficiency=%{x}<br>total_diff=%{y}<extra></extra>",
         "legendgroup": "Кластер 1, Wildberries",
         "marker": {
          "color": "#EF553B",
          "symbol": "circle"
         },
         "mode": "markers",
         "name": "Кластер 1, Wildberries",
         "orientation": "v",
         "showlegend": true,
         "type": "scatter",
         "x": [
          6921.818181818182
         ],
         "xaxis": "x",
         "y": [
          0.15735290183337095
         ],
         "yaxis": "y"
        },
        {
         "hovertemplate": "cluster=Кластер 2<br>site=ЦИАН<br>efficiency=%{x}<br>total_diff=%{y}<extra></extra>",
         "legendgroup": "Кластер 2, ЦИАН",
         "marker": {
          "color": "#00cc96",
          "symbol": "diamond"
         },
         "mode": "markers",
         "name": "Кластер 2, ЦИАН",
         "orientation": "v",
         "showlegend": true,
         "type": "scatter",
         "x": [
          450.70694487698535
         ],
         "xaxis": "x",
         "y": [
          1.7620187395058264
         ],
         "yaxis": "y"
        },
        {
         "hovertemplate": "cluster=Кластер 2<br>site=2ГИС<br>efficiency=%{x}<br>total_diff=%{y}<extra></extra>",
         "legendgroup": "Кластер 2, 2ГИС",
         "marker": {
          "color": "#00cc96",
          "symbol": "square"
         },
         "mode": "markers",
         "name": "Кластер 2, 2ГИС",
         "orientation": "v",
         "showlegend": true,
         "type": "scatter",
         "x": [
          387.2254559565386
         ],
         "xaxis": "x",
         "y": [
          1.830342260539687
         ],
         "yaxis": "y"
        },
        {
         "hovertemplate": "cluster=Кластер 2<br>site=Wildberries<br>efficiency=%{x}<br>total_diff=%{y}<extra></extra>",
         "legendgroup": "Кластер 2, Wildberries",
         "marker": {
          "color": "#00cc96",
          "symbol": "circle"
         },
         "mode": "markers",
         "name": "Кластер 2, Wildberries",
         "orientation": "v",
         "showlegend": true,
         "type": "scatter",
         "x": [
          6921.818181818182
         ],
         "xaxis": "x",
         "y": [
          1.8422129928951811
         ],
         "yaxis": "y"
        },
        {
         "hovertemplate": "cluster=Кластер 2<br>site=Отзовик<br>efficiency=%{x}<br>total_diff=%{y}<extra></extra>",
         "legendgroup": "Кластер 2, Отзовик",
         "marker": {
          "color": "#00cc96",
          "symbol": "diamond"
         },
         "mode": "markers",
         "name": "Кластер 2, Отзовик",
         "orientation": "v",
         "showlegend": true,
         "type": "scatter",
         "x": [
          124.6819860484202
         ],
         "xaxis": "x",
         "y": [
          1.9136898357697087
         ],
         "yaxis": "y"
        },
        {
         "hovertemplate": "cluster=Кластер 2<br>site=Ozon<br>efficiency=%{x}<br>total_diff=%{y}<extra></extra>",
         "legendgroup": "Кластер 2, Ozon",
         "marker": {
          "color": "#00cc96",
          "symbol": "square"
         },
         "mode": "markers",
         "name": "Кластер 2, Ozon",
         "orientation": "v",
         "showlegend": true,
         "type": "scatter",
         "x": [
          2883.209109730849
         ],
         "xaxis": "x",
         "y": [
          1.9330112556377872
         ],
         "yaxis": "y"
        },
        {
         "hovertemplate": "cluster=Кластер 3<br>site=РБК<br>efficiency=%{x}<br>total_diff=%{y}<extra></extra>",
         "legendgroup": "Кластер 3, РБК",
         "marker": {
          "color": "#ab63fa",
          "symbol": "circle"
         },
         "mode": "markers",
         "name": "Кластер 3, РБК",
         "orientation": "v",
         "showlegend": true,
         "type": "scatter",
         "x": [
          364.8605996843766
         ],
         "xaxis": "x",
         "y": [
          0.8913528054642443
         ],
         "yaxis": "y"
        },
        {
         "hovertemplate": "cluster=Кластер 3<br>site=ЦИАН<br>efficiency=%{x}<br>total_diff=%{y}<extra></extra>",
         "legendgroup": "Кластер 3, ЦИАН",
         "marker": {
          "color": "#ab63fa",
          "symbol": "diamond"
         },
         "mode": "markers",
         "name": "Кластер 3, ЦИАН",
         "orientation": "v",
         "showlegend": true,
         "type": "scatter",
         "x": [
          450.70694487698535
         ],
         "xaxis": "x",
         "y": [
          0.9763583378079318
         ],
         "yaxis": "y"
        },
        {
         "hovertemplate": "cluster=Кластер 3<br>site=2ГИС<br>efficiency=%{x}<br>total_diff=%{y}<extra></extra>",
         "legendgroup": "Кластер 3, 2ГИС",
         "marker": {
          "color": "#ab63fa",
          "symbol": "square"
         },
         "mode": "markers",
         "name": "Кластер 3, 2ГИС",
         "orientation": "v",
         "showlegend": true,
         "type": "scatter",
         "x": [
          387.2254559565386
         ],
         "xaxis": "x",
         "y": [
          0.9631563164803352
         ],
         "yaxis": "y"
        },
        {
         "hovertemplate": "cluster=Кластер 3<br>site=Avito<br>efficiency=%{x}<br>total_diff=%{y}<extra></extra>",
         "legendgroup": "Кластер 3, Avito",
         "marker": {
          "color": "#ab63fa",
          "symbol": "x"
         },
         "mode": "markers",
         "name": "Кластер 3, Avito",
         "orientation": "v",
         "showlegend": true,
         "type": "scatter",
         "x": [
          8846.95792880259
         ],
         "xaxis": "x",
         "y": [
          0.9497308124112793
         ],
         "yaxis": "y"
        },
        {
         "hovertemplate": "cluster=Кластер 3<br>site=Юла<br>efficiency=%{x}<br>total_diff=%{y}<extra></extra>",
         "legendgroup": "Кластер 3, Юла",
         "marker": {
          "color": "#ab63fa",
          "symbol": "cross"
         },
         "mode": "markers",
         "name": "Кластер 3, Юла",
         "orientation": "v",
         "showlegend": true,
         "type": "scatter",
         "x": [
          156.53370655470027
         ],
         "xaxis": "x",
         "y": [
          0.9589351429418483
         ],
         "yaxis": "y"
        }
       ],
       "layout": {
        "autosize": true,
        "legend": {
         "title": {
          "text": "cluster, site"
         },
         "tracegroupgap": 0
        },
        "margin": {
         "t": 60
        },
        "template": {
         "data": {
          "bar": [
           {
            "error_x": {
             "color": "#2a3f5f"
            },
            "error_y": {
             "color": "#2a3f5f"
            },
            "marker": {
             "line": {
              "color": "#E5ECF6",
              "width": 0.5
             },
             "pattern": {
              "fillmode": "overlay",
              "size": 10,
              "solidity": 0.2
             }
            },
            "type": "bar"
           }
          ],
          "barpolar": [
           {
            "marker": {
             "line": {
              "color": "#E5ECF6",
              "width": 0.5
             },
             "pattern": {
              "fillmode": "overlay",
              "size": 10,
              "solidity": 0.2
             }
            },
            "type": "barpolar"
           }
          ],
          "carpet": [
           {
            "aaxis": {
             "endlinecolor": "#2a3f5f",
             "gridcolor": "white",
             "linecolor": "white",
             "minorgridcolor": "white",
             "startlinecolor": "#2a3f5f"
            },
            "baxis": {
             "endlinecolor": "#2a3f5f",
             "gridcolor": "white",
             "linecolor": "white",
             "minorgridcolor": "white",
             "startlinecolor": "#2a3f5f"
            },
            "type": "carpet"
           }
          ],
          "choropleth": [
           {
            "colorbar": {
             "outlinewidth": 0,
             "ticks": ""
            },
            "type": "choropleth"
           }
          ],
          "contour": [
           {
            "colorbar": {
             "outlinewidth": 0,
             "ticks": ""
            },
            "colorscale": [
             [
              0,
              "#0d0887"
             ],
             [
              0.1111111111111111,
              "#46039f"
             ],
             [
              0.2222222222222222,
              "#7201a8"
             ],
             [
              0.3333333333333333,
              "#9c179e"
             ],
             [
              0.4444444444444444,
              "#bd3786"
             ],
             [
              0.5555555555555556,
              "#d8576b"
             ],
             [
              0.6666666666666666,
              "#ed7953"
             ],
             [
              0.7777777777777778,
              "#fb9f3a"
             ],
             [
              0.8888888888888888,
              "#fdca26"
             ],
             [
              1,
              "#f0f921"
             ]
            ],
            "type": "contour"
           }
          ],
          "contourcarpet": [
           {
            "colorbar": {
             "outlinewidth": 0,
             "ticks": ""
            },
            "type": "contourcarpet"
           }
          ],
          "heatmap": [
           {
            "colorbar": {
             "outlinewidth": 0,
             "ticks": ""
            },
            "colorscale": [
             [
              0,
              "#0d0887"
             ],
             [
              0.1111111111111111,
              "#46039f"
             ],
             [
              0.2222222222222222,
              "#7201a8"
             ],
             [
              0.3333333333333333,
              "#9c179e"
             ],
             [
              0.4444444444444444,
              "#bd3786"
             ],
             [
              0.5555555555555556,
              "#d8576b"
             ],
             [
              0.6666666666666666,
              "#ed7953"
             ],
             [
              0.7777777777777778,
              "#fb9f3a"
             ],
             [
              0.8888888888888888,
              "#fdca26"
             ],
             [
              1,
              "#f0f921"
             ]
            ],
            "type": "heatmap"
           }
          ],
          "heatmapgl": [
           {
            "colorbar": {
             "outlinewidth": 0,
             "ticks": ""
            },
            "colorscale": [
             [
              0,
              "#0d0887"
             ],
             [
              0.1111111111111111,
              "#46039f"
             ],
             [
              0.2222222222222222,
              "#7201a8"
             ],
             [
              0.3333333333333333,
              "#9c179e"
             ],
             [
              0.4444444444444444,
              "#bd3786"
             ],
             [
              0.5555555555555556,
              "#d8576b"
             ],
             [
              0.6666666666666666,
              "#ed7953"
             ],
             [
              0.7777777777777778,
              "#fb9f3a"
             ],
             [
              0.8888888888888888,
              "#fdca26"
             ],
             [
              1,
              "#f0f921"
             ]
            ],
            "type": "heatmapgl"
           }
          ],
          "histogram": [
           {
            "marker": {
             "pattern": {
              "fillmode": "overlay",
              "size": 10,
              "solidity": 0.2
             }
            },
            "type": "histogram"
           }
          ],
          "histogram2d": [
           {
            "colorbar": {
             "outlinewidth": 0,
             "ticks": ""
            },
            "colorscale": [
             [
              0,
              "#0d0887"
             ],
             [
              0.1111111111111111,
              "#46039f"
             ],
             [
              0.2222222222222222,
              "#7201a8"
             ],
             [
              0.3333333333333333,
              "#9c179e"
             ],
             [
              0.4444444444444444,
              "#bd3786"
             ],
             [
              0.5555555555555556,
              "#d8576b"
             ],
             [
              0.6666666666666666,
              "#ed7953"
             ],
             [
              0.7777777777777778,
              "#fb9f3a"
             ],
             [
              0.8888888888888888,
              "#fdca26"
             ],
             [
              1,
              "#f0f921"
             ]
            ],
            "type": "histogram2d"
           }
          ],
          "histogram2dcontour": [
           {
            "colorbar": {
             "outlinewidth": 0,
             "ticks": ""
            },
            "colorscale": [
             [
              0,
              "#0d0887"
             ],
             [
              0.1111111111111111,
              "#46039f"
             ],
             [
              0.2222222222222222,
              "#7201a8"
             ],
             [
              0.3333333333333333,
              "#9c179e"
             ],
             [
              0.4444444444444444,
              "#bd3786"
             ],
             [
              0.5555555555555556,
              "#d8576b"
             ],
             [
              0.6666666666666666,
              "#ed7953"
             ],
             [
              0.7777777777777778,
              "#fb9f3a"
             ],
             [
              0.8888888888888888,
              "#fdca26"
             ],
             [
              1,
              "#f0f921"
             ]
            ],
            "type": "histogram2dcontour"
           }
          ],
          "mesh3d": [
           {
            "colorbar": {
             "outlinewidth": 0,
             "ticks": ""
            },
            "type": "mesh3d"
           }
          ],
          "parcoords": [
           {
            "line": {
             "colorbar": {
              "outlinewidth": 0,
              "ticks": ""
             }
            },
            "type": "parcoords"
           }
          ],
          "pie": [
           {
            "automargin": true,
            "type": "pie"
           }
          ],
          "scatter": [
           {
            "marker": {
             "colorbar": {
              "outlinewidth": 0,
              "ticks": ""
             }
            },
            "type": "scatter"
           }
          ],
          "scatter3d": [
           {
            "line": {
             "colorbar": {
              "outlinewidth": 0,
              "ticks": ""
             }
            },
            "marker": {
             "colorbar": {
              "outlinewidth": 0,
              "ticks": ""
             }
            },
            "type": "scatter3d"
           }
          ],
          "scattercarpet": [
           {
            "marker": {
             "colorbar": {
              "outlinewidth": 0,
              "ticks": ""
             }
            },
            "type": "scattercarpet"
           }
          ],
          "scattergeo": [
           {
            "marker": {
             "colorbar": {
              "outlinewidth": 0,
              "ticks": ""
             }
            },
            "type": "scattergeo"
           }
          ],
          "scattergl": [
           {
            "marker": {
             "colorbar": {
              "outlinewidth": 0,
              "ticks": ""
             }
            },
            "type": "scattergl"
           }
          ],
          "scattermapbox": [
           {
            "marker": {
             "colorbar": {
              "outlinewidth": 0,
              "ticks": ""
             }
            },
            "type": "scattermapbox"
           }
          ],
          "scatterpolar": [
           {
            "marker": {
             "colorbar": {
              "outlinewidth": 0,
              "ticks": ""
             }
            },
            "type": "scatterpolar"
           }
          ],
          "scatterpolargl": [
           {
            "marker": {
             "colorbar": {
              "outlinewidth": 0,
              "ticks": ""
             }
            },
            "type": "scatterpolargl"
           }
          ],
          "scatterternary": [
           {
            "marker": {
             "colorbar": {
              "outlinewidth": 0,
              "ticks": ""
             }
            },
            "type": "scatterternary"
           }
          ],
          "surface": [
           {
            "colorbar": {
             "outlinewidth": 0,
             "ticks": ""
            },
            "colorscale": [
             [
              0,
              "#0d0887"
             ],
             [
              0.1111111111111111,
              "#46039f"
             ],
             [
              0.2222222222222222,
              "#7201a8"
             ],
             [
              0.3333333333333333,
              "#9c179e"
             ],
             [
              0.4444444444444444,
              "#bd3786"
             ],
             [
              0.5555555555555556,
              "#d8576b"
             ],
             [
              0.6666666666666666,
              "#ed7953"
             ],
             [
              0.7777777777777778,
              "#fb9f3a"
             ],
             [
              0.8888888888888888,
              "#fdca26"
             ],
             [
              1,
              "#f0f921"
             ]
            ],
            "type": "surface"
           }
          ],
          "table": [
           {
            "cells": {
             "fill": {
              "color": "#EBF0F8"
             },
             "line": {
              "color": "white"
             }
            },
            "header": {
             "fill": {
              "color": "#C8D4E3"
             },
             "line": {
              "color": "white"
             }
            },
            "type": "table"
           }
          ]
         },
         "layout": {
          "annotationdefaults": {
           "arrowcolor": "#2a3f5f",
           "arrowhead": 0,
           "arrowwidth": 1
          },
          "autotypenumbers": "strict",
          "coloraxis": {
           "colorbar": {
            "outlinewidth": 0,
            "ticks": ""
           }
          },
          "colorscale": {
           "diverging": [
            [
             0,
             "#8e0152"
            ],
            [
             0.1,
             "#c51b7d"
            ],
            [
             0.2,
             "#de77ae"
            ],
            [
             0.3,
             "#f1b6da"
            ],
            [
             0.4,
             "#fde0ef"
            ],
            [
             0.5,
             "#f7f7f7"
            ],
            [
             0.6,
             "#e6f5d0"
            ],
            [
             0.7,
             "#b8e186"
            ],
            [
             0.8,
             "#7fbc41"
            ],
            [
             0.9,
             "#4d9221"
            ],
            [
             1,
             "#276419"
            ]
           ],
           "sequential": [
            [
             0,
             "#0d0887"
            ],
            [
             0.1111111111111111,
             "#46039f"
            ],
            [
             0.2222222222222222,
             "#7201a8"
            ],
            [
             0.3333333333333333,
             "#9c179e"
            ],
            [
             0.4444444444444444,
             "#bd3786"
            ],
            [
             0.5555555555555556,
             "#d8576b"
            ],
            [
             0.6666666666666666,
             "#ed7953"
            ],
            [
             0.7777777777777778,
             "#fb9f3a"
            ],
            [
             0.8888888888888888,
             "#fdca26"
            ],
            [
             1,
             "#f0f921"
            ]
           ],
           "sequentialminus": [
            [
             0,
             "#0d0887"
            ],
            [
             0.1111111111111111,
             "#46039f"
            ],
            [
             0.2222222222222222,
             "#7201a8"
            ],
            [
             0.3333333333333333,
             "#9c179e"
            ],
            [
             0.4444444444444444,
             "#bd3786"
            ],
            [
             0.5555555555555556,
             "#d8576b"
            ],
            [
             0.6666666666666666,
             "#ed7953"
            ],
            [
             0.7777777777777778,
             "#fb9f3a"
            ],
            [
             0.8888888888888888,
             "#fdca26"
            ],
            [
             1,
             "#f0f921"
            ]
           ]
          },
          "colorway": [
           "#636efa",
           "#EF553B",
           "#00cc96",
           "#ab63fa",
           "#FFA15A",
           "#19d3f3",
           "#FF6692",
           "#B6E880",
           "#FF97FF",
           "#FECB52"
          ],
          "font": {
           "color": "#2a3f5f"
          },
          "geo": {
           "bgcolor": "white",
           "lakecolor": "white",
           "landcolor": "#E5ECF6",
           "showlakes": true,
           "showland": true,
           "subunitcolor": "white"
          },
          "hoverlabel": {
           "align": "left"
          },
          "hovermode": "closest",
          "mapbox": {
           "style": "light"
          },
          "paper_bgcolor": "white",
          "plot_bgcolor": "#E5ECF6",
          "polar": {
           "angularaxis": {
            "gridcolor": "white",
            "linecolor": "white",
            "ticks": ""
           },
           "bgcolor": "#E5ECF6",
           "radialaxis": {
            "gridcolor": "white",
            "linecolor": "white",
            "ticks": ""
           }
          },
          "scene": {
           "xaxis": {
            "backgroundcolor": "#E5ECF6",
            "gridcolor": "white",
            "gridwidth": 2,
            "linecolor": "white",
            "showbackground": true,
            "ticks": "",
            "zerolinecolor": "white"
           },
           "yaxis": {
            "backgroundcolor": "#E5ECF6",
            "gridcolor": "white",
            "gridwidth": 2,
            "linecolor": "white",
            "showbackground": true,
            "ticks": "",
            "zerolinecolor": "white"
           },
           "zaxis": {
            "backgroundcolor": "#E5ECF6",
            "gridcolor": "white",
            "gridwidth": 2,
            "linecolor": "white",
            "showbackground": true,
            "ticks": "",
            "zerolinecolor": "white"
           }
          },
          "shapedefaults": {
           "line": {
            "color": "#2a3f5f"
           }
          },
          "ternary": {
           "aaxis": {
            "gridcolor": "white",
            "linecolor": "white",
            "ticks": ""
           },
           "baxis": {
            "gridcolor": "white",
            "linecolor": "white",
            "ticks": ""
           },
           "bgcolor": "#E5ECF6",
           "caxis": {
            "gridcolor": "white",
            "linecolor": "white",
            "ticks": ""
           }
          },
          "title": {
           "x": 0.05
          },
          "xaxis": {
           "automargin": true,
           "gridcolor": "white",
           "linecolor": "white",
           "ticks": "",
           "title": {
            "standoff": 15
           },
           "zerolinecolor": "white",
           "zerolinewidth": 2
          },
          "yaxis": {
           "automargin": true,
           "gridcolor": "white",
           "linecolor": "white",
           "ticks": "",
           "title": {
            "standoff": 15
           },
           "zerolinecolor": "white",
           "zerolinewidth": 2
          }
         }
        },
        "xaxis": {
         "anchor": "y",
         "autorange": true,
         "domain": [
          0,
          1
         ],
         "range": [
          -403.55967162378624,
          9375.199586474797
         ],
         "title": {
          "text": "efficiency"
         },
         "type": "linear"
        },
        "yaxis": {
         "anchor": "x",
         "autorange": true,
         "domain": [
          0,
          1
         ],
         "range": [
          -0.03285310724288974,
          2.0742853085122817
         ],
         "title": {
          "text": "total_diff"
         },
         "type": "linear"
        }
       }
      },
      "image/png": "[encoded data removed]",
      "text/html": [
       "<div>                            <div id=\"8c750262-d8ca-4e87-baf1-3260164844cc\" class=\"plotly-graph-div\" style=\"height:525px; width:100%;\"></div>            <script type=\"text/javascript\">                require([\"plotly\"], function(Plotly) {                    window.PLOTLYENV=window.PLOTLYENV || {};                                    if (document.getElementById(\"8c750262-d8ca-4e87-baf1-3260164844cc\")) {                    Plotly.newPlot(                        \"8c750262-d8ca-4e87-baf1-3260164844cc\",                        [{\"hovertemplate\":\"cluster=\\u041a\\u043b\\u0430\\u0441\\u0442\\u0435\\u0440 0<br>site=\\u0420\\u0411\\u041a<br>efficiency=%{x}<br>total_diff=%{y}<extra></extra>\",\"legendgroup\":\"\\u041a\\u043b\\u0430\\u0441\\u0442\\u0435\\u0440 0, \\u0420\\u0411\\u041a\",\"marker\":{\"color\":\"#636efa\",\"symbol\":\"circle\"},\"mode\":\"markers\",\"name\":\"\\u041a\\u043b\\u0430\\u0441\\u0442\\u0435\\u0440 0, \\u0420\\u0411\\u041a\",\"orientation\":\"v\",\"showlegend\":true,\"x\":[364.8605996843766],\"xaxis\":\"x\",\"y\":[0.39413856565024136],\"yaxis\":\"y\",\"type\":\"scatter\"},{\"hovertemplate\":\"cluster=\\u041a\\u043b\\u0430\\u0441\\u0442\\u0435\\u0440 0<br>site=\\u0426\\u0418\\u0410\\u041d<br>efficiency=%{x}<br>total_diff=%{y}<extra></extra>\",\"legendgroup\":\"\\u041a\\u043b\\u0430\\u0441\\u0442\\u0435\\u0440 0, \\u0426\\u0418\\u0410\\u041d\",\"marker\":{\"color\":\"#636efa\",\"symbol\":\"diamond\"},\"mode\":\"markers\",\"name\":\"\\u041a\\u043b\\u0430\\u0441\\u0442\\u0435\\u0440 0, \\u0426\\u0418\\u0410\\u041d\",\"orientation\":\"v\",\"showlegend\":true,\"x\":[450.70694487698535],\"xaxis\":\"x\",\"y\":[0.4191999825628411],\"yaxis\":\"y\",\"type\":\"scatter\"},{\"hovertemplate\":\"cluster=\\u041a\\u043b\\u0430\\u0441\\u0442\\u0435\\u0440 0<br>site=2\\u0413\\u0418\\u0421<br>efficiency=%{x}<br>total_diff=%{y}<extra></extra>\",\"legendgroup\":\"\\u041a\\u043b\\u0430\\u0441\\u0442\\u0435\\u0440 0, 2\\u0413\\u0418\\u0421\",\"marker\":{\"color\":\"#636efa\",\"symbol\":\"square\"},\"mode\":\"markers\",\"name\":\"\\u041a\\u043b\\u0430\\u0441\\u0442\\u0435\\u0440 0, 2\\u0413\\u0418\\u0421\",\"orientation\":\"v\",\"showlegend\":true,\"x\":[387.2254559565386],\"xaxis\":\"x\",\"y\":[0.4453700503578439],\"yaxis\":\"y\",\"type\":\"scatter\"},{\"hovertemplate\":\"cluster=\\u041a\\u043b\\u0430\\u0441\\u0442\\u0435\\u0440 0<br>site=Avito<br>efficiency=%{x}<br>total_diff=%{y}<extra></extra>\",\"legendgroup\":\"\\u041a\\u043b\\u0430\\u0441\\u0442\\u0435\\u0440 0, Avito\",\"marker\":{\"color\":\"#636efa\",\"symbol\":\"x\"},\"mode\":\"markers\",\"name\":\"\\u041a\\u043b\\u0430\\u0441\\u0442\\u0435\\u0440 0, Avito\",\"orientation\":\"v\",\"showlegend\":true,\"x\":[8846.95792880259],\"xaxis\":\"x\",\"y\":[0.45752546921172926],\"yaxis\":\"y\",\"type\":\"scatter\"},{\"hovertemplate\":\"cluster=\\u041a\\u043b\\u0430\\u0441\\u0442\\u0435\\u0440 0<br>site=\\u042e\\u043b\\u0430<br>efficiency=%{x}<br>total_diff=%{y}<extra></extra>\",\"legendgroup\":\"\\u041a\\u043b\\u0430\\u0441\\u0442\\u0435\\u0440 0, \\u042e\\u043b\\u0430\",\"marker\":{\"color\":\"#636efa\",\"symbol\":\"cross\"},\"mode\":\"markers\",\"name\":\"\\u041a\\u043b\\u0430\\u0441\\u0442\\u0435\\u0440 0, \\u042e\\u043b\\u0430\",\"orientation\":\"v\",\"showlegend\":true,\"x\":[156.53370655470027],\"xaxis\":\"x\",\"y\":[0.4743516972058574],\"yaxis\":\"y\",\"type\":\"scatter\"},{\"hovertemplate\":\"cluster=\\u041a\\u043b\\u0430\\u0441\\u0442\\u0435\\u0440 1<br>site=\\u0426\\u0418\\u0410\\u041d<br>efficiency=%{x}<br>total_diff=%{y}<extra></extra>\",\"legendgroup\":\"\\u041a\\u043b\\u0430\\u0441\\u0442\\u0435\\u0440 1, \\u0426\\u0418\\u0410\\u041d\",\"marker\":{\"color\":\"#EF553B\",\"symbol\":\"diamond\"},\"mode\":\"markers\",\"name\":\"\\u041a\\u043b\\u0430\\u0441\\u0442\\u0435\\u0440 1, \\u0426\\u0418\\u0410\\u041d\",\"orientation\":\"v\",\"showlegend\":true,\"x\":[450.70694487698535],\"xaxis\":\"x\",\"y\":[0.10842094563160469],\"yaxis\":\"y\",\"type\":\"scatter\"},{\"hovertemplate\":\"cluster=\\u041a\\u043b\\u0430\\u0441\\u0442\\u0435\\u0440 1<br>site=2\\u0413\\u0418\\u0421<br>efficiency=%{x}<br>total_diff=%{y}<extra></extra>\",\"legendgroup\":\"\\u041a\\u043b\\u0430\\u0441\\u0442\\u0435\\u0440 1, 2\\u0413\\u0418\\u0421\",\"marker\":{\"color\":\"#EF553B\",\"symbol\":\"square\"},\"mode\":\"markers\",\"name\":\"\\u041a\\u043b\\u0430\\u0441\\u0442\\u0435\\u0440 1, 2\\u0413\\u0418\\u0421\",\"orientation\":\"v\",\"showlegend\":true,\"x\":[387.2254559565386],\"xaxis\":\"x\",\"y\":[0.12451512923022295],\"yaxis\":\"y\",\"type\":\"scatter\"},{\"hovertemplate\":\"cluster=\\u041a\\u043b\\u0430\\u0441\\u0442\\u0435\\u0440 1<br>site=Avito<br>efficiency=%{x}<br>total_diff=%{y}<extra></extra>\",\"legendgroup\":\"\\u041a\\u043b\\u0430\\u0441\\u0442\\u0435\\u0440 1, Avito\",\"marker\":{\"color\":\"#EF553B\",\"symbol\":\"x\"},\"mode\":\"markers\",\"name\":\"\\u041a\\u043b\\u0430\\u0441\\u0442\\u0435\\u0440 1, Avito\",\"orientation\":\"v\",\"showlegend\":true,\"x\":[8846.95792880259],\"xaxis\":\"x\",\"y\":[0.1497653929404732],\"yaxis\":\"y\",\"type\":\"scatter\"},{\"hovertemplate\":\"cluster=\\u041a\\u043b\\u0430\\u0441\\u0442\\u0435\\u0440 1<br>site=\\u042e\\u043b\\u0430<br>efficiency=%{x}<br>total_diff=%{y}<extra></extra>\",\"legendgroup\":\"\\u041a\\u043b\\u0430\\u0441\\u0442\\u0435\\u0440 1, \\u042e\\u043b\\u0430\",\"marker\":{\"color\":\"#EF553B\",\"symbol\":\"cross\"},\"mode\":\"markers\",\"name\":\"\\u041a\\u043b\\u0430\\u0441\\u0442\\u0435\\u0440 1, \\u042e\\u043b\\u0430\",\"orientation\":\"v\",\"showlegend\":true,\"x\":[156.53370655470027],\"xaxis\":\"x\",\"y\":[0.15638480328393953],\"yaxis\":\"y\",\"type\":\"scatter\"},{\"hovertemplate\":\"cluster=\\u041a\\u043b\\u0430\\u0441\\u0442\\u0435\\u0440 1<br>site=Wildberries<br>efficiency=%{x}<br>total_diff=%{y}<extra></extra>\",\"legendgroup\":\"\\u041a\\u043b\\u0430\\u0441\\u0442\\u0435\\u0440 1, Wildberries\",\"marker\":{\"color\":\"#EF553B\",\"symbol\":\"circle\"},\"mode\":\"markers\",\"name\":\"\\u041a\\u043b\\u0430\\u0441\\u0442\\u0435\\u0440 1, Wildberries\",\"orientation\":\"v\",\"showlegend\":true,\"x\":[6921.818181818182],\"xaxis\":\"x\",\"y\":[0.15735290183337095],\"yaxis\":\"y\",\"type\":\"scatter\"},{\"hovertemplate\":\"cluster=\\u041a\\u043b\\u0430\\u0441\\u0442\\u0435\\u0440 2<br>site=\\u0426\\u0418\\u0410\\u041d<br>efficiency=%{x}<br>total_diff=%{y}<extra></extra>\",\"legendgroup\":\"\\u041a\\u043b\\u0430\\u0441\\u0442\\u0435\\u0440 2, \\u0426\\u0418\\u0410\\u041d\",\"marker\":{\"color\":\"#00cc96\",\"symbol\":\"diamond\"},\"mode\":\"markers\",\"name\":\"\\u041a\\u043b\\u0430\\u0441\\u0442\\u0435\\u0440 2, \\u0426\\u0418\\u0410\\u041d\",\"orientation\":\"v\",\"showlegend\":true,\"x\":[450.70694487698535],\"xaxis\":\"x\",\"y\":[1.7620187395058264],\"yaxis\":\"y\",\"type\":\"scatter\"},{\"hovertemplate\":\"cluster=\\u041a\\u043b\\u0430\\u0441\\u0442\\u0435\\u0440 2<br>site=2\\u0413\\u0418\\u0421<br>efficiency=%{x}<br>total_diff=%{y}<extra></extra>\",\"legendgroup\":\"\\u041a\\u043b\\u0430\\u0441\\u0442\\u0435\\u0440 2, 2\\u0413\\u0418\\u0421\",\"marker\":{\"color\":\"#00cc96\",\"symbol\":\"square\"},\"mode\":\"markers\",\"name\":\"\\u041a\\u043b\\u0430\\u0441\\u0442\\u0435\\u0440 2, 2\\u0413\\u0418\\u0421\",\"orientation\":\"v\",\"showlegend\":true,\"x\":[387.2254559565386],\"xaxis\":\"x\",\"y\":[1.830342260539687],\"yaxis\":\"y\",\"type\":\"scatter\"},{\"hovertemplate\":\"cluster=\\u041a\\u043b\\u0430\\u0441\\u0442\\u0435\\u0440 2<br>site=Wildberries<br>efficiency=%{x}<br>total_diff=%{y}<extra></extra>\",\"legendgroup\":\"\\u041a\\u043b\\u0430\\u0441\\u0442\\u0435\\u0440 2, Wildberries\",\"marker\":{\"color\":\"#00cc96\",\"symbol\":\"circle\"},\"mode\":\"markers\",\"name\":\"\\u041a\\u043b\\u0430\\u0441\\u0442\\u0435\\u0440 2, Wildberries\",\"orientation\":\"v\",\"showlegend\":true,\"x\":[6921.818181818182],\"xaxis\":\"x\",\"y\":[1.8422129928951811],\"yaxis\":\"y\",\"type\":\"scatter\"},{\"hovertemplate\":\"cluster=\\u041a\\u043b\\u0430\\u0441\\u0442\\u0435\\u0440 2<br>site=\\u041e\\u0442\\u0437\\u043e\\u0432\\u0438\\u043a<br>efficiency=%{x}<br>total_diff=%{y}<extra></extra>\",\"legendgroup\":\"\\u041a\\u043b\\u0430\\u0441\\u0442\\u0435\\u0440 2, \\u041e\\u0442\\u0437\\u043e\\u0432\\u0438\\u043a\",\"marker\":{\"color\":\"#00cc96\",\"symbol\":\"diamond\"},\"mode\":\"markers\",\"name\":\"\\u041a\\u043b\\u0430\\u0441\\u0442\\u0435\\u0440 2, \\u041e\\u0442\\u0437\\u043e\\u0432\\u0438\\u043a\",\"orientation\":\"v\",\"showlegend\":true,\"x\":[124.6819860484202],\"xaxis\":\"x\",\"y\":[1.9136898357697087],\"yaxis\":\"y\",\"type\":\"scatter\"},{\"hovertemplate\":\"cluster=\\u041a\\u043b\\u0430\\u0441\\u0442\\u0435\\u0440 2<br>site=Ozon<br>efficiency=%{x}<br>total_diff=%{y}<extra></extra>\",\"legendgroup\":\"\\u041a\\u043b\\u0430\\u0441\\u0442\\u0435\\u0440 2, Ozon\",\"marker\":{\"color\":\"#00cc96\",\"symbol\":\"square\"},\"mode\":\"markers\",\"name\":\"\\u041a\\u043b\\u0430\\u0441\\u0442\\u0435\\u0440 2, Ozon\",\"orientation\":\"v\",\"showlegend\":true,\"x\":[2883.209109730849],\"xaxis\":\"x\",\"y\":[1.9330112556377872],\"yaxis\":\"y\",\"type\":\"scatter\"},{\"hovertemplate\":\"cluster=\\u041a\\u043b\\u0430\\u0441\\u0442\\u0435\\u0440 3<br>site=\\u0420\\u0411\\u041a<br>efficiency=%{x}<br>total_diff=%{y}<extra></extra>\",\"legendgroup\":\"\\u041a\\u043b\\u0430\\u0441\\u0442\\u0435\\u0440 3, \\u0420\\u0411\\u041a\",\"marker\":{\"color\":\"#ab63fa\",\"symbol\":\"circle\"},\"mode\":\"markers\",\"name\":\"\\u041a\\u043b\\u0430\\u0441\\u0442\\u0435\\u0440 3, \\u0420\\u0411\\u041a\",\"orientation\":\"v\",\"showlegend\":true,\"x\":[364.8605996843766],\"xaxis\":\"x\",\"y\":[0.8913528054642443],\"yaxis\":\"y\",\"type\":\"scatter\"},{\"hovertemplate\":\"cluster=\\u041a\\u043b\\u0430\\u0441\\u0442\\u0435\\u0440 3<br>site=\\u0426\\u0418\\u0410\\u041d<br>efficiency=%{x}<br>total_diff=%{y}<extra></extra>\",\"legendgroup\":\"\\u041a\\u043b\\u0430\\u0441\\u0442\\u0435\\u0440 3, \\u0426\\u0418\\u0410\\u041d\",\"marker\":{\"color\":\"#ab63fa\",\"symbol\":\"diamond\"},\"mode\":\"markers\",\"name\":\"\\u041a\\u043b\\u0430\\u0441\\u0442\\u0435\\u0440 3, \\u0426\\u0418\\u0410\\u041d\",\"orientation\":\"v\",\"showlegend\":true,\"x\":[450.70694487698535],\"xaxis\":\"x\",\"y\":[0.9763583378079318],\"yaxis\":\"y\",\"type\":\"scatter\"},{\"hovertemplate\":\"cluster=\\u041a\\u043b\\u0430\\u0441\\u0442\\u0435\\u0440 3<br>site=2\\u0413\\u0418\\u0421<br>efficiency=%{x}<br>total_diff=%{y}<extra></extra>\",\"legendgroup\":\"\\u041a\\u043b\\u0430\\u0441\\u0442\\u0435\\u0440 3, 2\\u0413\\u0418\\u0421\",\"marker\":{\"color\":\"#ab63fa\",\"symbol\":\"square\"},\"mode\":\"markers\",\"name\":\"\\u041a\\u043b\\u0430\\u0441\\u0442\\u0435\\u0440 3, 2\\u0413\\u0418\\u0421\",\"orientation\":\"v\",\"showlegend\":true,\"x\":[387.2254559565386],\"xaxis\":\"x\",\"y\":[0.9631563164803352],\"yaxis\":\"y\",\"type\":\"scatter\"},{\"hovertemplate\":\"cluster=\\u041a\\u043b\\u0430\\u0441\\u0442\\u0435\\u0440 3<br>site=Avito<br>efficiency=%{x}<br>total_diff=%{y}<extra></extra>\",\"legendgroup\":\"\\u041a\\u043b\\u0430\\u0441\\u0442\\u0435\\u0440 3, Avito\",\"marker\":{\"color\":\"#ab63fa\",\"symbol\":\"x\"},\"mode\":\"markers\",\"name\":\"\\u041a\\u043b\\u0430\\u0441\\u0442\\u0435\\u0440 3, Avito\",\"orientation\":\"v\",\"showlegend\":true,\"x\":[8846.95792880259],\"xaxis\":\"x\",\"y\":[0.9497308124112793],\"yaxis\":\"y\",\"type\":\"scatter\"},{\"hovertemplate\":\"cluster=\\u041a\\u043b\\u0430\\u0441\\u0442\\u0435\\u0440 3<br>site=\\u042e\\u043b\\u0430<br>efficiency=%{x}<br>total_diff=%{y}<extra></extra>\",\"legendgroup\":\"\\u041a\\u043b\\u0430\\u0441\\u0442\\u0435\\u0440 3, \\u042e\\u043b\\u0430\",\"marker\":{\"color\":\"#ab63fa\",\"symbol\":\"cross\"},\"mode\":\"markers\",\"name\":\"\\u041a\\u043b\\u0430\\u0441\\u0442\\u0435\\u0440 3, \\u042e\\u043b\\u0430\",\"orientation\":\"v\",\"showlegend\":true,\"x\":[156.53370655470027],\"xaxis\":\"x\",\"y\":[0.9589351429418483],\"yaxis\":\"y\",\"type\":\"scatter\"}],                        {\"legend\":{\"title\":{\"text\":\"cluster, site\"},\"tracegroupgap\":0},\"margin\":{\"t\":60},\"template\":{\"data\":{\"barpolar\":[{\"marker\":{\"line\":{\"color\":\"#E5ECF6\",\"width\":0.5},\"pattern\":{\"fillmode\":\"overlay\",\"size\":10,\"solidity\":0.2}},\"type\":\"barpolar\"}],\"bar\":[{\"error_x\":{\"color\":\"#2a3f5f\"},\"error_y\":{\"color\":\"#2a3f5f\"},\"marker\":{\"line\":{\"color\":\"#E5ECF6\",\"width\":0.5},\"pattern\":{\"fillmode\":\"overlay\",\"size\":10,\"solidity\":0.2}},\"type\":\"bar\"}],\"carpet\":[{\"aaxis\":{\"endlinecolor\":\"#2a3f5f\",\"gridcolor\":\"white\",\"linecolor\":\"white\",\"minorgridcolor\":\"white\",\"startlinecolor\":\"#2a3f5f\"},\"baxis\":{\"endlinecolor\":\"#2a3f5f\",\"gridcolor\":\"white\",\"linecolor\":\"white\",\"minorgridcolor\":\"white\",\"startlinecolor\":\"#2a3f5f\"},\"type\":\"carpet\"}],\"choropleth\":[{\"colorbar\":{\"outlinewidth\":0,\"ticks\":\"\"},\"type\":\"choropleth\"}],\"contourcarpet\":[{\"colorbar\":{\"outlinewidth\":0,\"ticks\":\"\"},\"type\":\"contourcarpet\"}],\"contour\":[{\"colorbar\":{\"outlinewidth\":0,\"ticks\":\"\"},\"colorscale\":[[0.0,\"#0d0887\"],[0.1111111111111111,\"#46039f\"],[0.2222222222222222,\"#7201a8\"],[0.3333333333333333,\"#9c179e\"],[0.4444444444444444,\"#bd3786\"],[0.5555555555555556,\"#d8576b\"],[0.6666666666666666,\"#ed7953\"],[0.7777777777777778,\"#fb9f3a\"],[0.8888888888888888,\"#fdca26\"],[1.0,\"#f0f921\"]],\"type\":\"contour\"}],\"heatmapgl\":[{\"colorbar\":{\"outlinewidth\":0,\"ticks\":\"\"},\"colorscale\":[[0.0,\"#0d0887\"],[0.1111111111111111,\"#46039f\"],[0.2222222222222222,\"#7201a8\"],[0.3333333333333333,\"#9c179e\"],[0.4444444444444444,\"#bd3786\"],[0.5555555555555556,\"#d8576b\"],[0.6666666666666666,\"#ed7953\"],[0.7777777777777778,\"#fb9f3a\"],[0.8888888888888888,\"#fdca26\"],[1.0,\"#f0f921\"]],\"type\":\"heatmapgl\"}],\"heatmap\":[{\"colorbar\":{\"outlinewidth\":0,\"ticks\":\"\"},\"colorscale\":[[0.0,\"#0d0887\"],[0.1111111111111111,\"#46039f\"],[0.2222222222222222,\"#7201a8\"],[0.3333333333333333,\"#9c179e\"],[0.4444444444444444,\"#bd3786\"],[0.5555555555555556,\"#d8576b\"],[0.6666666666666666,\"#ed7953\"],[0.7777777777777778,\"#fb9f3a\"],[0.8888888888888888,\"#fdca26\"],[1.0,\"#f0f921\"]],\"type\":\"heatmap\"}],\"histogram2dcontour\":[{\"colorbar\":{\"outlinewidth\":0,\"ticks\":\"\"},\"colorscale\":[[0.0,\"#0d0887\"],[0.1111111111111111,\"#46039f\"],[0.2222222222222222,\"#7201a8\"],[0.3333333333333333,\"#9c179e\"],[0.4444444444444444,\"#bd3786\"],[0.5555555555555556,\"#d8576b\"],[0.6666666666666666,\"#ed7953\"],[0.7777777777777778,\"#fb9f3a\"],[0.8888888888888888,\"#fdca26\"],[1.0,\"#f0f921\"]],\"type\":\"histogram2dcontour\"}],\"histogram2d\":[{\"colorbar\":{\"outlinewidth\":0,\"ticks\":\"\"},\"colorscale\":[[0.0,\"#0d0887\"],[0.1111111111111111,\"#46039f\"],[0.2222222222222222,\"#7201a8\"],[0.3333333333333333,\"#9c179e\"],[0.4444444444444444,\"#bd3786\"],[0.5555555555555556,\"#d8576b\"],[0.6666666666666666,\"#ed7953\"],[0.7777777777777778,\"#fb9f3a\"],[0.8888888888888888,\"#fdca26\"],[1.0,\"#f0f921\"]],\"type\":\"histogram2d\"}],\"histogram\":[{\"marker\":{\"pattern\":{\"fillmode\":\"overlay\",\"size\":10,\"solidity\":0.2}},\"type\":\"histogram\"}],\"mesh3d\":[{\"colorbar\":{\"outlinewidth\":0,\"ticks\":\"\"},\"type\":\"mesh3d\"}],\"parcoords\":[{\"line\":{\"colorbar\":{\"outlinewidth\":0,\"ticks\":\"\"}},\"type\":\"parcoords\"}],\"pie\":[{\"automargin\":true,\"type\":\"pie\"}],\"scatter3d\":[{\"line\":{\"colorbar\":{\"outlinewidth\":0,\"ticks\":\"\"}},\"marker\":{\"colorbar\":{\"outlinewidth\":0,\"ticks\":\"\"}},\"type\":\"scatter3d\"}],\"scattercarpet\":[{\"marker\":{\"colorbar\":{\"outlinewidth\":0,\"ticks\":\"\"}},\"type\":\"scattercarpet\"}],\"scattergeo\":[{\"marker\":{\"colorbar\":{\"outlinewidth\":0,\"ticks\":\"\"}},\"type\":\"scattergeo\"}],\"scattergl\":[{\"marker\":{\"colorbar\":{\"outlinewidth\":0,\"ticks\":\"\"}},\"type\":\"scattergl\"}],\"scattermapbox\":[{\"marker\":{\"colorbar\":{\"outlinewidth\":0,\"ticks\":\"\"}},\"type\":\"scattermapbox\"}],\"scatterpolargl\":[{\"marker\":{\"colorbar\":{\"outlinewidth\":0,\"ticks\":\"\"}},\"type\":\"scatterpolargl\"}],\"scatterpolar\":[{\"marker\":{\"colorbar\":{\"outlinewidth\":0,\"ticks\":\"\"}},\"type\":\"scatterpolar\"}],\"scatter\":[{\"marker\":{\"colorbar\":{\"outlinewidth\":0,\"ticks\":\"\"}},\"type\":\"scatter\"}],\"scatterternary\":[{\"marker\":{\"colorbar\":{\"outlinewidth\":0,\"ticks\":\"\"}},\"type\":\"scatterternary\"}],\"surface\":[{\"colorbar\":{\"outlinewidth\":0,\"ticks\":\"\"},\"colorscale\":[[0.0,\"#0d0887\"],[0.1111111111111111,\"#46039f\"],[0.2222222222222222,\"#7201a8\"],[0.3333333333333333,\"#9c179e\"],[0.4444444444444444,\"#bd3786\"],[0.5555555555555556,\"#d8576b\"],[0.6666666666666666,\"#ed7953\"],[0.7777777777777778,\"#fb9f3a\"],[0.8888888888888888,\"#fdca26\"],[1.0,\"#f0f921\"]],\"type\":\"surface\"}],\"table\":[{\"cells\":{\"fill\":{\"color\":\"#EBF0F8\"},\"line\":{\"color\":\"white\"}},\"header\":{\"fill\":{\"color\":\"#C8D4E3\"},\"line\":{\"color\":\"white\"}},\"type\":\"table\"}]},\"layout\":{\"annotationdefaults\":{\"arrowcolor\":\"#2a3f5f\",\"arrowhead\":0,\"arrowwidth\":1},\"autotypenumbers\":\"strict\",\"coloraxis\":{\"colorbar\":{\"outlinewidth\":0,\"ticks\":\"\"}},\"colorscale\":{\"diverging\":[[0,\"#8e0152\"],[0.1,\"#c51b7d\"],[0.2,\"#de77ae\"],[0.3,\"#f1b6da\"],[0.4,\"#fde0ef\"],[0.5,\"#f7f7f7\"],[0.6,\"#e6f5d0\"],[0.7,\"#b8e186\"],[0.8,\"#7fbc41\"],[0.9,\"#4d9221\"],[1,\"#276419\"]],\"sequential\":[[0.0,\"#0d0887\"],[0.1111111111111111,\"#46039f\"],[0.2222222222222222,\"#7201a8\"],[0.3333333333333333,\"#9c179e\"],[0.4444444444444444,\"#bd3786\"],[0.5555555555555556,\"#d8576b\"],[0.6666666666666666,\"#ed7953\"],[0.7777777777777778,\"#fb9f3a\"],[0.8888888888888888,\"#fdca26\"],[1.0,\"#f0f921\"]],\"sequentialminus\":[[0.0,\"#0d0887\"],[0.1111111111111111,\"#46039f\"],[0.2222222222222222,\"#7201a8\"],[0.3333333333333333,\"#9c179e\"],[0.4444444444444444,\"#bd3786\"],[0.5555555555555556,\"#d8576b\"],[0.6666666666666666,\"#ed7953\"],[0.7777777777777778,\"#fb9f3a\"],[0.8888888888888888,\"#fdca26\"],[1.0,\"#f0f921\"]]},\"colorway\":[\"#636efa\",\"#EF553B\",\"#00cc96\",\"#ab63fa\",\"#FFA15A\",\"#19d3f3\",\"#FF6692\",\"#B6E880\",\"#FF97FF\",\"#FECB52\"],\"font\":{\"color\":\"#2a3f5f\"},\"geo\":{\"bgcolor\":\"white\",\"lakecolor\":\"white\",\"landcolor\":\"#E5ECF6\",\"showlakes\":true,\"showland\":true,\"subunitcolor\":\"white\"},\"hoverlabel\":{\"align\":\"left\"},\"hovermode\":\"closest\",\"mapbox\":{\"style\":\"light\"},\"paper_bgcolor\":\"white\",\"plot_bgcolor\":\"#E5ECF6\",\"polar\":{\"angularaxis\":{\"gridcolor\":\"white\",\"linecolor\":\"white\",\"ticks\":\"\"},\"bgcolor\":\"#E5ECF6\",\"radialaxis\":{\"gridcolor\":\"white\",\"linecolor\":\"white\",\"ticks\":\"\"}},\"scene\":{\"xaxis\":{\"backgroundcolor\":\"#E5ECF6\",\"gridcolor\":\"white\",\"gridwidth\":2,\"linecolor\":\"white\",\"showbackground\":true,\"ticks\":\"\",\"zerolinecolor\":\"white\"},\"yaxis\":{\"backgroundcolor\":\"#E5ECF6\",\"gridcolor\":\"white\",\"gridwidth\":2,\"linecolor\":\"white\",\"showbackground\":true,\"ticks\":\"\",\"zerolinecolor\":\"white\"},\"zaxis\":{\"backgroundcolor\":\"#E5ECF6\",\"gridcolor\":\"white\",\"gridwidth\":2,\"linecolor\":\"white\",\"showbackground\":true,\"ticks\":\"\",\"zerolinecolor\":\"white\"}},\"shapedefaults\":{\"line\":{\"color\":\"#2a3f5f\"}},\"ternary\":{\"aaxis\":{\"gridcolor\":\"white\",\"linecolor\":\"white\",\"ticks\":\"\"},\"baxis\":{\"gridcolor\":\"white\",\"linecolor\":\"white\",\"ticks\":\"\"},\"bgcolor\":\"#E5ECF6\",\"caxis\":{\"gridcolor\":\"white\",\"linecolor\":\"white\",\"ticks\":\"\"}},\"title\":{\"x\":0.05},\"xaxis\":{\"automargin\":true,\"gridcolor\":\"white\",\"linecolor\":\"white\",\"ticks\":\"\",\"title\":{\"standoff\":15},\"zerolinecolor\":\"white\",\"zerolinewidth\":2},\"yaxis\":{\"automargin\":true,\"gridcolor\":\"white\",\"linecolor\":\"white\",\"ticks\":\"\",\"title\":{\"standoff\":15},\"zerolinecolor\":\"white\",\"zerolinewidth\":2}}},\"xaxis\":{\"anchor\":\"y\",\"domain\":[0.0,1.0],\"title\":{\"text\":\"efficiency\"}},\"yaxis\":{\"anchor\":\"x\",\"domain\":[0.0,1.0],\"title\":{\"text\":\"total_diff\"}}},                        {\"responsive\": true}                    ).then(function(){\n",
       "                            \n",
       "var gd = document.getElementById('8c750262-d8ca-4e87-baf1-3260164844cc');\n",
       "var x = new MutationObserver(function (mutations, observer) {{\n",
       "        var display = window.getComputedStyle(gd).display;\n",
       "        if (!display || display === 'none') {{\n",
       "            console.log([gd, 'removed!']);\n",
       "            Plotly.purge(gd);\n",
       "            observer.disconnect();\n",
       "        }}\n",
       "}});\n",
       "\n",
       "// Listen for the removal of the full notebook cells\n",
       "var notebookContainer = gd.closest('#notebook-container');\n",
       "if (notebookContainer) {{\n",
       "    x.observe(notebookContainer, {childList: true});\n",
       "}}\n",
       "\n",
       "// Listen for the clearing of the current output cell\n",
       "var outputEl = gd.closest('.output');\n",
       "if (outputEl) {{\n",
       "    x.observe(outputEl, {childList: true});\n",
       "}}\n",
       "\n",
       "                        })                };                });            </script>        </div>"
      ]
     },
     "metadata": {},
     "output_type": "display_data"
    }
   ],
   "source": [
    "plt_topscat"
   ]
  }
 ],
 "metadata": {
  "colab": {
   "collapsed_sections": [
    "8Mafz1gxmL1g"
   ],
   "name": "Кластеризация.ipynb",
   "provenance": []
  },
  "kernelspec": {
   "display_name": "Python 3 (ipykernel)",
   "language": "python",
   "name": "python3"
  },
  "language_info": {
   "codemirror_mode": {
    "name": "ipython",
    "version": 3
   },
   "file_extension": ".py",
   "mimetype": "text/x-python",
   "name": "python",
   "nbconvert_exporter": "python",
   "pygments_lexer": "ipython3",
   "version": "3.10.0"
  }
 },
 "nbformat": 4,
 "nbformat_minor": 4
}
